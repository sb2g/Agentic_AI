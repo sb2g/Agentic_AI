{
 "cells": [
  {
   "cell_type": "markdown",
   "id": "e0fd18e3",
   "metadata": {},
   "source": [
    "### Reference\n",
    "- https://learn.deeplearning.ai/courses/agentic-ai"
   ]
  },
  {
   "cell_type": "markdown",
   "id": "c2c398ec",
   "metadata": {},
   "source": [
    "# 1. Overview - Agentic AI - MultiAgent Pipeline - Market Research Team\n",
    "\n",
    "\n",
    "This lab shows how to design a **fully automated creative pipeline** that mirrors a real-world business scenario - \"Stepping into the role of a **technical AI lead at a fashion brand** preparing a summer sunglasses campaign\". \n",
    "\n",
    "Instead of handling each piece manually, you will guide a system that includes:\n",
    "- **Market Research Agent**: Scans online sources for emerging fashion trends & matches those trends with sunglasses in the internal catalog.\n",
    "- **Graphic Designer Agent**: Designs a campaign visual \n",
    "- **Copywriter Agent**: Generates a short marketing quote, \n",
    "- **Packaging Agent**: Packages everything into an executive-ready report.  \n",
    "\n",
    "The goal is to experience how multiple agents, tools, and models can be orchestrated into a single, coherent workflow - like a small team working together to solve a creative challenge. It shows:\n",
    "- How to move beyond single-turn interactions with a model and instead design **multi-agent pipelines** that coordinate planning, research, and creative generation. \n",
    "- How to ground agent reasoning in external tools so that outputs are not just imaginative but also supported by real data. \n",
    "- How to experiment with reflection and packaging steps that enforce quality control and prepare results for an executive audience.  \n",
    "\n",
    "In short, it combines **imagination of large language models** with the **discipline of structured workflows**, giving a practical pattern for building autonomous systems that are both creative and reliable.  "
   ]
  },
  {
   "cell_type": "markdown",
   "id": "abc29617",
   "metadata": {},
   "source": [
    "## 2. Setup: Import libraries and load environment\n",
    "\n",
    "As in previous labs, you now import the required libraries, load environment variables, and set up helper utilities."
   ]
  },
  {
   "cell_type": "code",
   "execution_count": 1,
   "id": "0b0aa06a",
   "metadata": {
    "height": 540
   },
   "outputs": [],
   "source": [
    "# =========================\n",
    "# Imports\n",
    "# =========================\n",
    "\n",
    "# --- Standard library ---\n",
    "import base64\n",
    "import json\n",
    "import os\n",
    "import re\n",
    "from datetime import datetime\n",
    "from io import BytesIO\n",
    "\n",
    "# --- Third-party ---\n",
    "import requests\n",
    "import openai\n",
    "from PIL import Image\n",
    "from dotenv import load_dotenv\n",
    "from IPython.display import Markdown, display\n",
    "import aisuite\n",
    "\n",
    "# --- Local / project ---\n",
    "import tools\n",
    "import utils\n",
    "\n",
    "\n",
    "# =========================\n",
    "# Environment & Client\n",
    "# =========================\n",
    "load_dotenv()\n",
    "client = aisuite.Client()\n"
   ]
  },
  {
   "cell_type": "markdown",
   "id": "eb117835",
   "metadata": {},
   "source": [
    "## 3. Available Tools  \n",
    "\n",
    "Agentic pipelines only become effective when the model is given **explicit capabilities** beyond its base reasoning. Declaring these tools upfront makes the agent’s action space unambiguous, ensures that prompts naturally guide tool selection, and keeps orchestration and testing transparent through well-defined interfaces.  \n",
    "\n",
    "You will assemble a **marketing research team**, a group of specialized agents collaborating to design a summer sunglasses campaign. To empower them, we start by defining the tools that will ground their reasoning in real data.  \n",
    "\n",
    "The first tool is `tools.tavily_search_tool`, which performs live web searches to uncover evidence of current fashion trends. Try it now by running a simple query for *“trends in sunglasses fashion”*:  "
   ]
  },
  {
   "cell_type": "code",
   "execution_count": 2,
   "id": "263b395e",
   "metadata": {
    "height": 30
   },
   "outputs": [
    {
     "data": {
      "text/plain": [
       "[{'title': \"5 Key Sunglasses Trends You'll See Everywhere in Summer 2025\",\n",
       "  'content': '# 5 Key Sunglasses Trends You’ll See Everywhere in Summer 2025 Spring and summer’s biggest sunglasses trends are all about showing off your unique personality. In keeping with the big boho trend, Chloé and Miu Miu showed ’70s-style bohemian shades in their spring-summer shows, perfect for pairing with romantic dresses and vintage clogs; on the other end of the spectrum, Prada and Tory Burch sent futuristic, hyper-sporty sunglasses down the runway, making models look like they’d just left the gym. ## *Glamour*’s summer sunglasses trends wish list * **The Amazon Gem:** Vanlinker Retro Aviator Sunglasses, $16 * **The Boho Sunnies:** Steve Madden Davian Sunglasses, $35 ### Sojos Retro Aviator Sunglasses ### Vanlinker Retro Aviator Sunglasses sunglasses sunglasses trends',\n",
       "  'url': 'https://www.glamour.com/story/sunglass-trends'},\n",
       " {'title': \"2025's Top 10 Sunglasses Trends: Chrome Tints & '90s Style - Byrdie\",\n",
       "  'content': 'Image 3: kendall jenner wearing 90s style sunglasses:max_bytes(150000):strip_icc():format(webp)/90sSunnies-ec1f349ba8ac49fa8464d0643ab854bd.jpg) Image 19: Kaia Gerber wearing black sporty sunglasses:max_bytes(150000):strip_icc():format(webp)/SportyChic-54cb87b0df8f45399725c06e7f74d19f.jpg) Image 35: Hailey Bieber wearing black oversized sunglasses:max_bytes(150000):strip_icc():format(webp)/Oversized-3ef08c66919c4fb4bb071f29dd8e88d0.jpg) Image 43: Chriselle Lim wearing black micro sunglasses:max_bytes(150000):strip_icc():format(webp)/MicroFrames-4f1c45e7236a412ba246ee38599a5d80.jpg) Image 51: Jasmine Tookes wearing red and black oval shaped sunglasses:max_bytes(150000):strip_icc():format(webp)/OvalShaped-6a71f4d9201247409c519dc6f089fd71.jpg) Image 67: Simone Ashley wears angular cat eye sunglasses and leopard print dress:max_bytes(150000):strip_icc():format(webp)/473638740_18150845764348517_903025719613320774_n-fe728ae571104af68b21f5a9aefc6c3e.jpg) *   Image 91: Woman wears cloud-shaped white cat-eye sunglasses, skinny scarf, and top while out in sunshine:max_bytes(150000):strip_icc():format(webp)/imgi_36_470063697_2536095956589344_4131305496362676806_n-391344cb71e5458aaa480a9176295521.jpg) Cat-Eye Sunglasses Have Retro Roots—But These Modern Takes Give Them New Life *   Image 93: Millie Bobby Brown wears a black and white striped drop-waist dress, rectangular sunglasses, and pink and white shell bag:max_bytes(150000):strip_icc():format(webp)/imgi_1_503611702_18432628582114677_2521936744729375918_n-46d5d6fafbfc48bb98f2c459dc6d4676.jpg) The Drop-Waist Dress Trend Is Made for Late-Summer Romance',\n",
       "  'url': 'https://www.byrdie.com/2025-sunglasses-trends-11682002'},\n",
       " {'title': 'Our Top 7 Trending Sunglasses To Try Now - Saks Fifth Avenue',\n",
       "  'content': 'A favorite trend of Hollywood stars for their glamorous silhouette and larger-than-life aesthetic, oversized shades can be considered the trendiest sunglasses',\n",
       "  'url': 'https://www.saksfifthavenue.com/c/the-edit-content/041922/trending-sunglasses'},\n",
       " {'title': 'Sunglasses Trends of the Moment',\n",
       "  'content': 'Southwest style is reimagined for today’s trailblazers with these Burberry sunglasses. Shop even more Western-inspired styles Featuring the iconic Burberry check in deep purple, this style embraces modern femininity with a nod to vintage charm. The perfect blend of iconic design and contemporary flair, this Ray-Ban Reverse pilot style captures the spirit of the past while looking confidently to the future. Shop even more nostalgia-inspired styles Shop even more off-duty styles Tap into the cat-eye trend whilst keeping it low-key with this hybrid square frame from Ray-Ban. If you’re on the hunt for an easy-to-wear everyday style, look no further. Angular and oh-so modern, this unisex Burberry cat-eye frame blends heritage and innovation to exude an effortlessly stylistic edge. Shop even more cat-eye styles',\n",
       "  'url': 'https://www.sunglasshut.com/us/sunglasses/trends-of-the-moment'},\n",
       " {'title': 'Trendy Sunglasses: Discover the Latest Eyewear Trends - BonLook',\n",
       "  'content': 'Stay ahead of the fashion curve with our trendy sunglasses. Explore the latest eyewear trends and find the perfect pair to elevate your style.',\n",
       "  'url': 'https://www.bonlook.com/collections/trends-sunglasses?srsltid=AfmBOopvMvUP79UdfE7xWWPv5BrokKAwe8Qrz2FoZ0dEFBs_wdOqgxHn'}]"
      ]
     },
     "execution_count": 2,
     "metadata": {},
     "output_type": "execute_result"
    }
   ],
   "source": [
    "tools.tavily_search_tool('trends in sunglasses fashion')"
   ]
  },
  {
   "cell_type": "markdown",
   "id": "35c7bd11",
   "metadata": {},
   "source": [
    "The second tool is `tools.product_catalog_tool`, which returns the internal sunglasses catalog. Each entry includes details such as product name, ID, description, stock quantity, and price. This structured data will allow the agents to connect online fashion trends with actual items in stock:"
   ]
  },
  {
   "cell_type": "code",
   "execution_count": 3,
   "id": "4f47b5e3",
   "metadata": {
    "height": 30
   },
   "outputs": [
    {
     "data": {
      "text/plain": [
       "[{'name': 'Aviator',\n",
       "  'item_id': 'SG001',\n",
       "  'description': 'Originally designed for pilots, these teardrop-shaped lenses with thin metal frames offer timeless appeal. The large lenses provide excellent coverage while the lightweight construction ensures comfort during long wear.',\n",
       "  'quantity_in_stock': 23,\n",
       "  'price': 103},\n",
       " {'name': 'Wayfarer',\n",
       "  'item_id': 'SG002',\n",
       "  'description': 'Featuring thick, angular frames that make a statement, these sunglasses combine retro charm with modern edge. The rectangular lenses and sturdy acetate construction create a confident look.',\n",
       "  'quantity_in_stock': 6,\n",
       "  'price': 92},\n",
       " {'name': 'Mystique',\n",
       "  'item_id': 'SG003',\n",
       "  'description': 'Inspired by 1950s glamour, these frames sweep upward at the outer corners to create an elegant, feminine silhouette. The subtle curves and often embellished temples add sophistication to any outfit.',\n",
       "  'quantity_in_stock': 3,\n",
       "  'price': 88},\n",
       " {'name': 'Sport',\n",
       "  'item_id': 'SG004',\n",
       "  'description': 'Designed for active lifestyles, these wraparound sunglasses feature a single curved lens that provides maximum coverage and wind protection. The lightweight, flexible frames include rubber grips.',\n",
       "  'quantity_in_stock': 11,\n",
       "  'price': 144},\n",
       " {'name': 'Round',\n",
       "  'item_id': 'SG005',\n",
       "  'description': 'Circular lenses set in minimalist frames create a thoughtful, artistic appearance. These sunglasses evoke a scholarly or creative vibe while remaining effortlessly stylish.',\n",
       "  'quantity_in_stock': 10,\n",
       "  'price': 86}]"
      ]
     },
     "execution_count": 3,
     "metadata": {},
     "output_type": "execute_result"
    }
   ],
   "source": [
    "tools.product_catalog_tool()"
   ]
  },
  {
   "cell_type": "markdown",
   "id": "3d9ef8d6",
   "metadata": {},
   "source": [
    "With these tools in place, you’ve defined a clear action space and reliable data sources. In the next section, you’ll build the agents that use them to turn raw fashion signals into structured insights and campaign assets."
   ]
  },
  {
   "cell_type": "markdown",
   "id": "0e428402",
   "metadata": {},
   "source": [
    "## 4. Agent Definitions — Building Your Team\n",
    "\n",
    "Now that you have defined the tools, it’s time to put them to work. In this phase, you will assemble a **marketing research team**, a group of specialized agents that you direct with natural instructions.  \n",
    "\n",
    "Each agent relies on the tools you introduced earlier, and together they transform raw trend data into a polished campaign report.  We will define them one by one, introducing their role and showing the code that implements each.  "
   ]
  },
  {
   "cell_type": "markdown",
   "id": "06687cfb",
   "metadata": {},
   "source": [
    "### 4.1. Market Research Agent  \n",
    "\n",
    "With the **Market Research Agent**, you take the first step in building your campaign.  You ask it to scan the web with `tavily_search_tool` and uncover what’s trending in sunglasses fashion right now. Then you direct it to cross-check those signals against your internal catalog using `product_catalog_tool`, so you know which of your products fit the moment.  \n",
    "\n",
    "The agent hands back a concise brief: the top fashion insights it found, the products that align with them, and a short explanation of why those picks make sense for your summer push. This gives you a clear, data-driven foundation to shape the rest of the campaign.  \n",
    "\n",
    "You can now run the following cell to define the **Market Research Agent** in code.  "
   ]
  },
  {
   "cell_type": "code",
   "execution_count": 4,
   "id": "f90049b8",
   "metadata": {
    "height": 880
   },
   "outputs": [],
   "source": [
    "def market_research_agent(return_messages: bool = False):\n",
    "\n",
    "    utils.log_agent_title_html(\"Market Research Agent\", \"🕵️‍♂️\")\n",
    "\n",
    "    prompt_ = f\"\"\"\n",
    "You are a fashion market research agent tasked with preparing a trend analysis for a summer sunglasses campaign.\n",
    "\n",
    "Your goal:\n",
    "1. Explore current fashion trends related to sunglasses using web search.\n",
    "2. Review the internal product catalog to identify items that align with those trends.\n",
    "3. Recommend one or more products from the catalog that best match emerging trends.\n",
    "4. If needed, today date is {datetime.now().strftime(\"%Y-%m-%d\")}.\n",
    "\n",
    "You can call the following tools:\n",
    "- tavily_search_tool: to discover external web trends.\n",
    "- product_catalog_tool: to inspect the internal sunglasses catalog.\n",
    "\n",
    "Once your analysis is complete, summarize:\n",
    "- The top 2–3 trends you found.\n",
    "- The product(s) from the catalog that fit these trends.\n",
    "- A justification of why they are a good fit for the summer campaign.\n",
    "\"\"\"\n",
    "    messages = [{\"role\": \"user\", \"content\": prompt_}]\n",
    "    tools_ = tools.get_available_tools()\n",
    "\n",
    "    print(f\"tools available: {tools}\")\n",
    "    \n",
    "    while True:\n",
    "        response = client.chat.completions.create(\n",
    "            model=\"openai:o4-mini\",\n",
    "            messages=messages,\n",
    "            tools=tools_,\n",
    "            tool_choice=\"auto\"\n",
    "        )\n",
    "\n",
    "        msg = response.choices[0].message\n",
    "\n",
    "        print(f\"msg: {msg}\")\n",
    "        \n",
    "        if msg.content:\n",
    "            utils.log_final_summary_html(msg.content)\n",
    "            return (msg.content, messages) if return_messages else msg.content\n",
    "\n",
    "        if msg.tool_calls:\n",
    "            for tool_call in msg.tool_calls:\n",
    "                utils.log_tool_call_html(tool_call.function.name, tool_call.function.arguments)\n",
    "                result = tools.handle_tool_call(tool_call)\n",
    "                utils.log_tool_result_html(result)\n",
    "\n",
    "                messages.append(msg)\n",
    "                messages.append(tools.create_tool_response_message(tool_call, result))\n",
    "        else:\n",
    "            utils.log_unexpected_html()\n",
    "            return (\"[⚠️ Unexpected: No tool_calls or content returned]\", messages) if return_messages else \"[⚠️ Unexpected: No tool_calls or content returned]\""
   ]
  },
  {
   "cell_type": "markdown",
   "id": "b0d17e23",
   "metadata": {},
   "source": [
    "Let’s try to get some advice from the **Market Research Agent** about our summer sunglasses campaign.  "
   ]
  },
  {
   "cell_type": "code",
   "execution_count": 5,
   "id": "1356fc89",
   "metadata": {
    "height": 30
   },
   "outputs": [
    {
     "data": {
      "text/html": [
       "\n",
       "      <div style=\"padding:1em;margin:1em 0;background-color:#f0f4f8;border-left:6px solid #1976D2;\">\n",
       "        <h2 style=\"margin:0;color:#0D47A1;font-family:'Segoe UI',sans-serif;\">\n",
       "          🕵️‍♂️ Market Research Agent\n",
       "        </h2>\n",
       "      </div>\n",
       "    "
      ],
      "text/plain": [
       "<IPython.core.display.HTML object>"
      ]
     },
     "metadata": {},
     "output_type": "display_data"
    },
    {
     "name": "stdout",
     "output_type": "stream",
     "text": [
      "tools available: <module 'tools' from '/home/jovyan/work/M5/ungraded_labs/M5_UGL_2/tools.py'>\n",
      "msg: ChatCompletionMessage(content=None, refusal=None, role='assistant', annotations=[], audio=None, function_call=None, tool_calls=[ChatCompletionMessageFunctionToolCall(id='call_hlvvamH470y79vq8J4Eklaj2', function=Function(arguments='{\"query\":\"2025 summer sunglasses fashion trends\",\"max_results\":5,\"include_images\":false}', name='tavily_search_tool'), type='function')])\n"
     ]
    },
    {
     "data": {
      "text/html": [
       "\n",
       "      <div style=\"border-left:4px solid #1976D2;padding:.8em;margin:1em 0;\n",
       "                  background-color:#e3f2fd;color:#0D47A1;font-family:'Segoe UI',sans-serif;\">\n",
       "        <div style=\"font-size:15px;font-weight:bold;margin-bottom:4px;\">\n",
       "          📞 <span style=\"color:#0B3D91;\">Tool Call:</span> <span style=\"color:#0B3D91;\">tavily_search_tool</span>\n",
       "        </div>\n",
       "        <code style=\"display:block;background:#e8f0fe;color:#1b1b1b;padding:6px;border-radius:4px;\n",
       "                     font-size:13px;white-space:pre-wrap;\">{&quot;query&quot;:&quot;2025 summer sunglasses fashion trends&quot;,&quot;max_results&quot;:5,&quot;include_images&quot;:false}</code>\n",
       "      </div>\n",
       "    "
      ],
      "text/plain": [
       "<IPython.core.display.HTML object>"
      ]
     },
     "metadata": {},
     "output_type": "display_data"
    },
    {
     "data": {
      "text/html": [
       "\n",
       "      <div style=\"border-left:4px solid #558B2F;padding:.8em;margin:1em 0;\n",
       "                  background-color:#f1f8e9;color:#33691E;\">\n",
       "        <strong>✅ Tool Result:</strong>\n",
       "        <pre style=\"white-space:pre-wrap;font-size:13px;color:#2E7D32;\">[{&#x27;title&#x27;: &#x27;Sunglasses trends 2025: discover the hottest models - Mister Spex&#x27;, &#x27;content&#x27;: &quot;Spring/Summer 2025 Sunglasses Trends # Sunglasses Trends 2025/26 ## All Sunglasses Trends at a Glance Rimless Sunglasses Statement Sunglasses Everyday Sunglasses ## Women&#x27;s Sunglasses ## Men&#x27;s Sunglasses All sunglasses ### Sunglasses Trends 2025 – Must-Have Picks for Spring &amp; Summer The **Sunglasses Trends 2025** are breathing new life into the season! Whether you favour understated looks or eye-catching designs, the new sunglasses add that perfect stylish touch. ### Rimless Sunglasses – Minimalism Meets Modernity Light, discreet and striking: **Rimless Sunglasses** are one of the season’s standout trends. ### Oversized &amp; Statement Sunglasses – Make a Bold Impression Whether you’re into futuristic designs, bold statement pieces or timeless classics, the **Sunglasses Trends 2025** offer the perfect model for every style.&quot;, &#x27;url&#x27;: &#x27;https://www.misterspex.co.uk/c/trd/173&#x27;}, {&#x27;title&#x27;: &quot;The Top Sunglasses Trends of 2025: Styles Everyone&#x27;s Talking About&quot;, &#x27;content&#x27;: &#x27;The top trends in 2025 include oversized frames, futuristic shield sunglasses, transparent frames, retro-inspired designs, color-tinted lenses,&#x27;, &#x27;url&#x27;: &#x27;https://topfoxx.com/en-au/blogs/news/the-top-sunglasses-trends-of-2025-styles-everyone-s-talking-about?srsltid=AfmBOopsIvaSsH4pGQlZBxAdIm4ntCMidiCvb0pkROlLPwQ4MQJYFrXk&#x27;}, {&#x27;title&#x27;: &#x27;Top 18 Sunglasses Worn by Celebrities in 2025 - Kraywoods&#x27;, &#x27;content&#x27;: &quot;Let&#x27;s take a closer look at one of the trends of 2025: Wayfarer sunglasses. Identical to the clubmaster yet slightly different, the wayfarer shape is&quot;, &#x27;url&#x27;: &#x27;https://www.kraywoods.com/blogs/our-stories/top-celebrity-sunglasses?srsltid=AfmBOoqCfeBHGaxdCIGsHU5HWX67-7PuarY13vzb1egZ9fU5_IQgtuQV&#x27;}, {&#x27;title&#x27;: &#x27;Sunglasses Trends and Styles for Autumn/Winter 2025&#x27;, &#x27;content&#x27;: &#x27;The best shopping picks and trends in sunglasses, compiled by our editors to help you create the perfect outfit for any occasion. * ## I Low-Key Wear These $30 Sunglasses More Than My Luxury Pairs—19 Styles I\\&#x27;m Eyeing Next * ## 7 Sunglasses Trends Every Fashion Person Will Be Wearing This Summer * ## This Sunglasses Trend Is Set to Be Huge in 2025 * ## This Chic Eyewear Trend Will Help You Get &quot;Summer in the Hamptons&quot; Style * ## I\\&#x27;m an Accessory Expert—6 Trends I Can\\&#x27;t Wait to Get My Hands on This Summer * ## I\\&#x27;m Calling It—These French Sunglasses Are Destined to Go Viral * ## The &quot;Dated&quot; Sunglasses Trend That Destined to Be Everywhere Again&#x27;, &#x27;url&#x27;: &#x27;https://www.whowhatwear.com/tag/sunglasses&#x27;}, {&#x27;title&#x27;: &#x27;Spy the eyewear trends that have been making waves in 2025&#x27;, &#x27;content&#x27;: &#x27;Perhaps interest in specific shapes or styles might wax and wane, but between one’s opticals and a trusty pair of sunnies to keep close, there’s no question that fashion’s rotating slate of statement eyewear will continue to hold everyone’s attention. As large frames are becoming chic again, and we anticipate small, foldable styles to take off, spy the eyewear trends that are taking us through the rest of 2025—and well into the next year. In particular, bug-eyed silhouettes were spotted all over the runways across the fall/winter 2025 season—and most recently, Victoria Beckham stepped out donning her own retro-inspired pair. ## Celine cat-eye sunglasses, $581 ## Acne Studios metal frame sunglasses, $730&#x27;, &#x27;url&#x27;: &#x27;https://vogue.sg/eyewear-trends-in-2025/&#x27;}]</pre>\n",
       "      </div>\n",
       "    "
      ],
      "text/plain": [
       "<IPython.core.display.HTML object>"
      ]
     },
     "metadata": {},
     "output_type": "display_data"
    },
    {
     "name": "stdout",
     "output_type": "stream",
     "text": [
      "msg: ChatCompletionMessage(content=None, refusal=None, role='assistant', annotations=[], audio=None, function_call=None, tool_calls=[ChatCompletionMessageFunctionToolCall(id='call_CHRfnkdM7vGSpkKl7CXe8n6B', function=Function(arguments='{\"max_items\":10}', name='product_catalog_tool'), type='function')])\n"
     ]
    },
    {
     "data": {
      "text/html": [
       "\n",
       "      <div style=\"border-left:4px solid #1976D2;padding:.8em;margin:1em 0;\n",
       "                  background-color:#e3f2fd;color:#0D47A1;font-family:'Segoe UI',sans-serif;\">\n",
       "        <div style=\"font-size:15px;font-weight:bold;margin-bottom:4px;\">\n",
       "          📞 <span style=\"color:#0B3D91;\">Tool Call:</span> <span style=\"color:#0B3D91;\">product_catalog_tool</span>\n",
       "        </div>\n",
       "        <code style=\"display:block;background:#e8f0fe;color:#1b1b1b;padding:6px;border-radius:4px;\n",
       "                     font-size:13px;white-space:pre-wrap;\">{&quot;max_items&quot;:10}</code>\n",
       "      </div>\n",
       "    "
      ],
      "text/plain": [
       "<IPython.core.display.HTML object>"
      ]
     },
     "metadata": {},
     "output_type": "display_data"
    },
    {
     "data": {
      "text/html": [
       "\n",
       "      <div style=\"border-left:4px solid #558B2F;padding:.8em;margin:1em 0;\n",
       "                  background-color:#f1f8e9;color:#33691E;\">\n",
       "        <strong>✅ Tool Result:</strong>\n",
       "        <pre style=\"white-space:pre-wrap;font-size:13px;color:#2E7D32;\">[{&#x27;name&#x27;: &#x27;Aviator&#x27;, &#x27;item_id&#x27;: &#x27;SG001&#x27;, &#x27;description&#x27;: &#x27;Originally designed for pilots, these teardrop-shaped lenses with thin metal frames offer timeless appeal. The large lenses provide excellent coverage while the lightweight construction ensures comfort during long wear.&#x27;, &#x27;quantity_in_stock&#x27;: 23, &#x27;price&#x27;: 103}, {&#x27;name&#x27;: &#x27;Wayfarer&#x27;, &#x27;item_id&#x27;: &#x27;SG002&#x27;, &#x27;description&#x27;: &#x27;Featuring thick, angular frames that make a statement, these sunglasses combine retro charm with modern edge. The rectangular lenses and sturdy acetate construction create a confident look.&#x27;, &#x27;quantity_in_stock&#x27;: 6, &#x27;price&#x27;: 92}, {&#x27;name&#x27;: &#x27;Mystique&#x27;, &#x27;item_id&#x27;: &#x27;SG003&#x27;, &#x27;description&#x27;: &#x27;Inspired by 1950s glamour, these frames sweep upward at the outer corners to create an elegant, feminine silhouette. The subtle curves and often embellished temples add sophistication to any outfit.&#x27;, &#x27;quantity_in_stock&#x27;: 3, &#x27;price&#x27;: 88}, {&#x27;name&#x27;: &#x27;Sport&#x27;, &#x27;item_id&#x27;: &#x27;SG004&#x27;, &#x27;description&#x27;: &#x27;Designed for active lifestyles, these wraparound sunglasses feature a single curved lens that provides maximum coverage and wind protection. The lightweight, flexible frames include rubber grips.&#x27;, &#x27;quantity_in_stock&#x27;: 11, &#x27;price&#x27;: 144}, {&#x27;name&#x27;: &#x27;Round&#x27;, &#x27;item_id&#x27;: &#x27;SG005&#x27;, &#x27;description&#x27;: &#x27;Circular lenses set in minimalist frames create a thoughtful, artistic appearance. These sunglasses evoke a scholarly or creative vibe while remaining effortlessly stylish.&#x27;, &#x27;quantity_in_stock&#x27;: 10, &#x27;price&#x27;: 86}]</pre>\n",
       "      </div>\n",
       "    "
      ],
      "text/plain": [
       "<IPython.core.display.HTML object>"
      ]
     },
     "metadata": {},
     "output_type": "display_data"
    },
    {
     "name": "stdout",
     "output_type": "stream",
     "text": [
      "msg: ChatCompletionMessage(content='Trend Analysis (Summer 2025)\\n\\n1. Top Trends  \\n   • Oversized, statement-making silhouettes — wraparound “shield” styles, big lenses and bold shapes are everywhere.  \\n   • Retro-inspired shapes — 1950s cat-eye and classic Wayfarer frames are back in force.  \\n   • Minimalist/transparent frames — ultra-light, barely-there metal or rimless looks for a clean, modern feel.  \\n\\n2. Catalog Matches  \\n   • SG004 “Sport” wraparound  \\n     – Single curved lens, full-coverage shape echoes the futuristic shield/oversized trend.  \\n     – Lightweight, flexible frame with rubber grips keeps it comfortable for all-day wear.  \\n   • SG002 “Wayfarer”  \\n     – Thick acetate frame and angular silhouette perfectly capture the retro revival.  \\n     – A statement shape that appeals across genders and outfits.  \\n   • SG001 “Aviator”  \\n     – Timeless teardrop lens in ultra-thin metal frame nods to the minimalist trend.  \\n     – Large lenses offer excellent sun protection while keeping the look clean.  \\n\\n3. Why These Work for a Summer Campaign  \\n   – They directly reflect what influencers and runways are showcasing for summer 2025.  \\n   – Each style covers a top trend segment—statement, retro and minimal—broadening appeal.  \\n   – All three have good stock levels and price points ($103–$144), making them easy to promote and replenish.', refusal=None, role='assistant', annotations=[], audio=None, function_call=None, tool_calls=None)\n"
     ]
    },
    {
     "data": {
      "text/html": [
       "\n",
       "      <div style=\"border-left:4px solid #2E7D32;padding:1em;margin:1em 0;\n",
       "                  background-color:#e8f5e9;color:#1B5E20;\">\n",
       "        <strong>✅ Final Summary:</strong>\n",
       "        <pre style=\"white-space:pre-wrap;font-size:13px;color:#1B5E20;\">Trend Analysis (Summer 2025)\n",
       "\n",
       "1. Top Trends  \n",
       "   • Oversized, statement-making silhouettes — wraparound “shield” styles, big lenses and bold shapes are everywhere.  \n",
       "   • Retro-inspired shapes — 1950s cat-eye and classic Wayfarer frames are back in force.  \n",
       "   • Minimalist/transparent frames — ultra-light, barely-there metal or rimless looks for a clean, modern feel.  \n",
       "\n",
       "2. Catalog Matches  \n",
       "   • SG004 “Sport” wraparound  \n",
       "     – Single curved lens, full-coverage shape echoes the futuristic shield/oversized trend.  \n",
       "     – Lightweight, flexible frame with rubber grips keeps it comfortable for all-day wear.  \n",
       "   • SG002 “Wayfarer”  \n",
       "     – Thick acetate frame and angular silhouette perfectly capture the retro revival.  \n",
       "     – A statement shape that appeals across genders and outfits.  \n",
       "   • SG001 “Aviator”  \n",
       "     – Timeless teardrop lens in ultra-thin metal frame nods to the minimalist trend.  \n",
       "     – Large lenses offer excellent sun protection while keeping the look clean.  \n",
       "\n",
       "3. Why These Work for a Summer Campaign  \n",
       "   – They directly reflect what influencers and runways are showcasing for summer 2025.  \n",
       "   – Each style covers a top trend segment—statement, retro and minimal—broadening appeal.  \n",
       "   – All three have good stock levels and price points ($103–$144), making them easy to promote and replenish.</pre>\n",
       "      </div>\n",
       "    "
      ],
      "text/plain": [
       "<IPython.core.display.HTML object>"
      ]
     },
     "metadata": {},
     "output_type": "display_data"
    }
   ],
   "source": [
    "market_research_result = market_research_agent()\n",
    "#print(market_research_result)"
   ]
  },
  {
   "cell_type": "markdown",
   "id": "b42fe5aa",
   "metadata": {},
   "source": [
    "Next, you’ll turn this brief into a visual concept with the Graphic Designer Agent."
   ]
  },
  {
   "cell_type": "markdown",
   "id": "756f174b",
   "metadata": {},
   "source": [
    "### 4.2. Graphic Designer Agent  \n",
    "\n",
    "With the **Graphic Designer Agent**, you move from analysis to creativity.  \n",
    "You take the brief from your Market Research Agent and ask this one to translate it into a visual concept.  \n",
    "Because `aisuite` does not yet support direct image generation (like DALL·E), you guide the process in two stages:  \n",
    "\n",
    "1. First, the agent uses `aisuite` with an OpenAI text model (`o4-mini`) to craft a vivid **prompt** and a short, engaging **caption**.  \n",
    "2. Then, the prompt is sent to OpenAI’s `dall-e-3` API to generate the **campaign image** itself.  \n",
    "\n",
    "The result gives you everything you need to move forward: the generated image (saved locally for reuse), the exact prompt that produced it (useful for iteration), and a polished caption for campaign storytelling.  \n",
    "\n",
    "<div style=\"border:1px solid #fca5a5; border-left:6px solid #ef4444; background:#fee2e2; border-radius:6px; padding:12px 14px; color:#111827; font-family:system-ui,-apple-system,Segoe UI,Roboto,Ubuntu,Cantarell,Noto Sans,sans-serif;\">\n",
    "  <strong>Note:</strong> At this point, <code>aisuite</code> does <strong>not support direct image generation</strong>.  \n",
    "  That’s why you combine its text-based output (prompt + caption) with OpenAI’s <code>dall-e-3</code> to produce the final campaign visual.\n",
    "</div>  \n",
    "\n",
    "You can now run the following cell to define the **Graphic Designer Agent** in code.  "
   ]
  },
  {
   "cell_type": "code",
   "execution_count": 6,
   "id": "9ff47874",
   "metadata": {
    "height": 1611
   },
   "outputs": [],
   "source": [
    "def graphic_designer_agent(trend_insights: str, caption_style: str = \"short punchy\", size: str = \"1024x1024\") -> dict:\n",
    "\n",
    "    \"\"\"\n",
    "    Uses aisuite to generate a marketing prompt/caption and OpenAI (directly) to generate the image.\n",
    "\n",
    "    Args:\n",
    "        trend_insights (str): Trend summary from the researcher agent.\n",
    "        caption_style (str): Optional style hint for caption.\n",
    "        size (str): Image resolution (e.g., '1024x1024').\n",
    "\n",
    "    Returns:\n",
    "        dict: A dictionary with image_url, prompt, and caption.\n",
    "    \"\"\"\n",
    "\n",
    "    utils.log_agent_title_html(\"Graphic Designer Agent\", \"🎨\")\n",
    "\n",
    "    # Step 1: Generate prompt and caption using aisuite\n",
    "    system_message = (\n",
    "        \"You are a visual marketing assistant. Based on the input trend insights, \"\n",
    "        \"write a creative and visual prompt for an AI image generation model, and also a short caption.\"\n",
    "    )\n",
    "\n",
    "    user_prompt = f\"\"\"\n",
    "Trend insights:\n",
    "{trend_insights}\n",
    "\n",
    "Please output:\n",
    "1. A vivid, descriptive prompt to guide image generation.\n",
    "2. A marketing caption in style: {caption_style}.\n",
    "\n",
    "Respond in this format:\n",
    "{{\"prompt\": \"...\", \"caption\": \"...\"}}\n",
    "\"\"\"\n",
    "\n",
    "    chat_response = client.chat.completions.create(\n",
    "        model=\"openai:o4-mini\",\n",
    "        messages=[\n",
    "            {\"role\": \"system\", \"content\": system_message},\n",
    "            {\"role\": \"user\", \"content\": user_prompt}\n",
    "        ]\n",
    "    )\n",
    "\n",
    "    content = chat_response.choices[0].message.content.strip()\n",
    "    match = re.search(r'\\{.*\\}', content, re.DOTALL)\n",
    "    parsed = json.loads(match.group(0)) if match else {\"error\": \"No JSON returned\", \"raw\": content}\n",
    "\n",
    "    prompt = parsed[\"prompt\"]\n",
    "    caption = parsed[\"caption\"]\n",
    "\n",
    "    # Step 2: Generate image directly using openai-python\n",
    "    openai_client = openai.OpenAI()\n",
    "\n",
    "    image_response = openai_client.images.generate(\n",
    "        model=\"dall-e-3\",\n",
    "        prompt=prompt,\n",
    "        size=size,\n",
    "        quality=\"standard\",\n",
    "        n=1,\n",
    "        response_format=\"url\"\n",
    "    )\n",
    "\n",
    "    image_url = image_response.data[0].url\n",
    "\n",
    "    # Save image locally\n",
    "    img_bytes = requests.get(image_url).content\n",
    "    img = Image.open(BytesIO(img_bytes))\n",
    "\n",
    "    filename = os.path.basename(image_url.split(\"?\")[0])\n",
    "    image_path = filename\n",
    "    img.save(image_path)\n",
    "\n",
    "\n",
    "    # Log summary with local image\n",
    "    utils.log_final_summary_html(f\"\"\"\n",
    "        <h3>Generated Image and Caption</h3>\n",
    "\n",
    "        <p><strong>Image Path:</strong> <code>{image_path}</code></p>\n",
    "\n",
    "        <p><strong>Generated Image:</strong></p>\n",
    "        <img src=\"{image_path}\" alt=\"Generated Image\" style=\"max-width: 100%; height: auto; border: 1px solid #ccc; border-radius: 8px; margin-top: 10px; margin-bottom: 10px;\">\n",
    "\n",
    "        <p><strong>Prompt:</strong> {prompt}</p>\n",
    "    \"\"\")\n",
    "\n",
    "\n",
    "    return {\n",
    "        \"image_url\": image_url,\n",
    "        \"prompt\": prompt,\n",
    "        \"caption\": caption,\n",
    "        \"image_path\": image_path  \n",
    "    }\n",
    "\n"
   ]
  },
  {
   "cell_type": "markdown",
   "id": "264c22ad",
   "metadata": {},
   "source": [
    "Now let’s run the `graphic_designer_agent` to generate a campaign image, using the trend insights provided by the **Market Research Agent**."
   ]
  },
  {
   "cell_type": "code",
   "execution_count": 7,
   "id": "0c9fa3b1",
   "metadata": {
    "height": 81
   },
   "outputs": [
    {
     "data": {
      "text/html": [
       "\n",
       "      <div style=\"padding:1em;margin:1em 0;background-color:#f0f4f8;border-left:6px solid #1976D2;\">\n",
       "        <h2 style=\"margin:0;color:#0D47A1;font-family:'Segoe UI',sans-serif;\">\n",
       "          🎨 Graphic Designer Agent\n",
       "        </h2>\n",
       "      </div>\n",
       "    "
      ],
      "text/plain": [
       "<IPython.core.display.HTML object>"
      ]
     },
     "metadata": {},
     "output_type": "display_data"
    },
    {
     "data": {
      "text/html": [
       "\n",
       "      <div style=\"border-left:4px solid #2E7D32;padding:1em;margin:1em 0;\n",
       "                  background-color:#e8f5e9;color:#1B5E20;\">\n",
       "        <strong>✅ Final Summary:</strong>\n",
       "        <pre style=\"white-space:pre-wrap;font-size:13px;color:#1B5E20;\">&lt;h3&gt;Generated Image and Caption&lt;/h3&gt;\n",
       "\n",
       "        &lt;p&gt;&lt;strong&gt;Image Path:&lt;/strong&gt; &lt;code&gt;img-YEXEf9FR1GdlQLkQpvKCpZCO.png&lt;/code&gt;&lt;/p&gt;\n",
       "\n",
       "        &lt;p&gt;&lt;strong&gt;Generated Image:&lt;/strong&gt;&lt;/p&gt;\n",
       "        &lt;img src=&quot;img-YEXEf9FR1GdlQLkQpvKCpZCO.png&quot; alt=&quot;Generated Image&quot; style=&quot;max-width: 100%; height: auto; border: 1px solid #ccc; border-radius: 8px; margin-top: 10px; margin-bottom: 10px;&quot;&gt;\n",
       "\n",
       "        &lt;p&gt;&lt;strong&gt;Prompt:&lt;/strong&gt; A sun-drenched rooftop pool party at golden hour, three stylish friends striking dynamic poses against a pastel-gradient sky. One wears a futuristic SG004 Sport wraparound shield sunglass with a single curved lens, bold oversized shape and rubber-grip temples reflecting neon accents. Another rocks SG002 Wayfarer frames in thick black acetate, classic 1950s cat-eye angles catching warm sunlight. The third sports ultra-light SG001 Aviators with teardrop lenses in a barely-there metal frame, lenses mirroring the city skyline. Soft lens flares, glossy reflections, lush palm fronds and a modern skyline in the background create a carefree summer 2025 vibe.&lt;/p&gt;</pre>\n",
       "      </div>\n",
       "    "
      ],
      "text/plain": [
       "<IPython.core.display.HTML object>"
      ]
     },
     "metadata": {},
     "output_type": "display_data"
    }
   ],
   "source": [
    "graphic_designer_agent_result = graphic_designer_agent(\n",
    "    trend_insights=market_research_result,\n",
    ")\n",
    "#print(graphic_designer_agent_result)"
   ]
  },
  {
   "cell_type": "markdown",
   "id": "c70c5088",
   "metadata": {},
   "source": [
    "With a visual in hand, you’ll craft the campaign voice using the Copywriter Agent."
   ]
  },
  {
   "cell_type": "markdown",
   "id": "92fb4dba",
   "metadata": {},
   "source": [
    "### 4.3. Copywriter Agent  \n",
    "\n",
    "Once the **Market Research Agent** and **Graphic Designer Agent** have done their work, you now turn to the **Copywriter Agent**. With both the campaign image and the trend summary in hand, you ask this agent to create the voice of your campaign.  \n",
    "\n",
    "It takes the visual and the analysis together as multimodal input and crafts a short, elegant marketing quote that captures the essence of the message. Along with the quote, it gives you a clear justification—why the phrase fits the image and how it ties back to the trends.  \n",
    "\n",
    "This way, you don’t just get a catchy line, you also get the reasoning behind it, making it easier to defend and refine in front of stakeholders.  \n",
    "\n"
   ]
  },
  {
   "cell_type": "code",
   "execution_count": 8,
   "id": "1027a46e",
   "metadata": {
    "height": 1407
   },
   "outputs": [],
   "source": [
    "def copywriter_agent(image_path: str, trend_summary: str, model: str = \"openai:o4-mini\") -> dict:\n",
    "\n",
    "    \"\"\"\n",
    "    Uses aisuite (OpenAI only) to send an image and a trend summary and return a campaign quote.\n",
    "\n",
    "    Args:\n",
    "        image_path (str): URL of the image to be analyzed.\n",
    "        trend_summary (str): Text from the researcher agent.\n",
    "        model (str): OpenAI model (e.g., openai:o4-mini, openai:gpt-4o)\n",
    "\n",
    "    Returns:\n",
    "        dict: {\n",
    "            \"quote\": \"...\",\n",
    "            \"justification\": \"...\",\n",
    "            \"image_path\": \"...\"\n",
    "        }\n",
    "    \"\"\"\n",
    "\n",
    "    utils.log_agent_title_html(\"Copywriter Agent\", \"✍️\")\n",
    "\n",
    "    # Step 1: Load local image and encode as base64\n",
    "    with open(image_path, \"rb\") as f:\n",
    "        img_bytes = f.read()\n",
    "\n",
    "    b64_img = base64.b64encode(img_bytes).decode(\"utf-8\")\n",
    "\n",
    "    # Step 2: Build OpenAI-compliant multimodal message\n",
    "    messages = [\n",
    "        {\n",
    "            \"role\": \"system\",\n",
    "            \"content\": \"You are a copywriter that creates elegant campaign quotes based on an image and a marketing trend summary.\"\n",
    "        },\n",
    "        {\n",
    "            \"role\": \"user\",\n",
    "            \"content\": [\n",
    "                {\n",
    "                    \"type\": \"image_url\",\n",
    "                    \"image_url\": {\n",
    "                        \"url\": f\"data:image/png;base64,{b64_img}\",\n",
    "                        \"detail\": \"auto\"\n",
    "                    }\n",
    "                },\n",
    "                {\n",
    "                    \"type\": \"text\",\n",
    "                    \"text\": f\"\"\"\n",
    "Here is a visual marketing image and a trend analysis:\n",
    "\n",
    "Trend summary:\n",
    "\\\"\\\"\\\"{trend_summary}\\\"\\\"\\\"\n",
    "\n",
    "Please return a JSON object like:\n",
    "{{\n",
    "  \"quote\": \"A short, elegant campaign phrase (max 12 words)\",\n",
    "  \"justification\": \"Why this quote matches the image and trend\"\n",
    "}}\"\"\"\n",
    "                }\n",
    "            ]\n",
    "        }\n",
    "    ]\n",
    "\n",
    "    # Step 3: Send request via aisuite\n",
    "    response = client.chat.completions.create(\n",
    "        model=model,\n",
    "        messages=messages,\n",
    "    )\n",
    "\n",
    "    # Step 4: Parse JSON response\n",
    "    content = response.choices[0].message.content.strip()\n",
    "\n",
    "    utils.log_final_summary_html(content)\n",
    "\n",
    "    try:\n",
    "        match = re.search(r'\\{.*\\}', content, re.DOTALL)\n",
    "        parsed = json.loads(match.group(0)) if match else {\"error\": \"No valid JSON returned\"}\n",
    "    except Exception as e:\n",
    "        parsed = {\"error\": f\"Failed to parse: {e}\", \"raw\": content}\n",
    "\n",
    "\n",
    "    parsed[\"image_path\"] = image_path\n",
    "    return parsed\n"
   ]
  },
  {
   "cell_type": "markdown",
   "id": "41a91766",
   "metadata": {},
   "source": [
    "Next, let’s call the Copywriter Agent to generate a short campaign quote based on the marketing image and the trend insights produced earlier."
   ]
  },
  {
   "cell_type": "code",
   "execution_count": 9,
   "id": "e3328999",
   "metadata": {
    "height": 81
   },
   "outputs": [
    {
     "data": {
      "text/html": [
       "\n",
       "      <div style=\"padding:1em;margin:1em 0;background-color:#f0f4f8;border-left:6px solid #1976D2;\">\n",
       "        <h2 style=\"margin:0;color:#0D47A1;font-family:'Segoe UI',sans-serif;\">\n",
       "          ✍️ Copywriter Agent\n",
       "        </h2>\n",
       "      </div>\n",
       "    "
      ],
      "text/plain": [
       "<IPython.core.display.HTML object>"
      ]
     },
     "metadata": {},
     "output_type": "display_data"
    },
    {
     "data": {
      "text/html": [
       "\n",
       "      <div style=\"border-left:4px solid #2E7D32;padding:1em;margin:1em 0;\n",
       "                  background-color:#e8f5e9;color:#1B5E20;\">\n",
       "        <strong>✅ Final Summary:</strong>\n",
       "        <pre style=\"white-space:pre-wrap;font-size:13px;color:#1B5E20;\">{\n",
       "  &quot;quote&quot;: &quot;Elevate Your Summer: Shields, Wayfarers, Aviators&quot;,\n",
       "  &quot;justification&quot;: &quot;This tagline highlights the image’s bold wraparound shields alongside retro Wayfarers and minimalist aviators, tying directly into the top summer 2025 trends and evoking a sleek, sun-soaked campaign feel.&quot;\n",
       "}</pre>\n",
       "      </div>\n",
       "    "
      ],
      "text/plain": [
       "<IPython.core.display.HTML object>"
      ]
     },
     "metadata": {},
     "output_type": "display_data"
    }
   ],
   "source": [
    "copywriter_agent_result = copywriter_agent(\n",
    "    image_path=graphic_designer_agent_result[\"image_path\"],\n",
    "    trend_summary=market_research_result,\n",
    ")"
   ]
  },
  {
   "cell_type": "markdown",
   "id": "ce7a027b",
   "metadata": {},
   "source": [
    "With a quote and justification ready, you’ll package everything into an executive-ready artifact using the Packaging Agent."
   ]
  },
  {
   "cell_type": "markdown",
   "id": "d8e8df4c",
   "metadata": {},
   "source": [
    "### 4.4. Packaging Agent  \n",
    "\n",
    "Finally, you bring in the **Packaging Agent** to tie everything together. After the **Market Research Agent**, **Graphic Designer Agent**, and **Copywriter Agent** have each contributed their part, this agent compiles the entire story into one polished artifact.  \n",
    "\n",
    "You ask it to take the trend summary, the campaign visual, the crafted quote, and the justification, and assemble them into an executive-ready markdown report. Along the way, it rewrites the trend insights for clarity and tone, ensures the quote is styled properly with the image, and organizes everything so the final document looks professional and persuasive.  \n",
    "\n",
    "With this step, you end up with a complete campaign package—easy to share, visually engaging, and ready for CEO-level review.  "
   ]
  },
  {
   "cell_type": "code",
   "execution_count": 10,
   "id": "facdcbc4",
   "metadata": {
    "height": 1101
   },
   "outputs": [],
   "source": [
    "def packaging_agent(trend_summary: str, image_url: str, quote: str, justification: str, output_path: str = \"campaign_summary.md\") -> str:\n",
    "\n",
    "    \"\"\"\n",
    "    Packages the campaign assets into a beautifully formatted markdown report for executive review.\n",
    "\n",
    "    Args:\n",
    "        trend_summary (str): Summary of the market trends.\n",
    "        image_url (str): URL of the campaign image.\n",
    "        quote (str): Marketing quote to overlay.\n",
    "        justification (str): Explanation for the quote.\n",
    "        output_path (str): Path to save the markdown report.\n",
    "\n",
    "    Returns:\n",
    "        str: Path to the saved markdown file.\n",
    "    \"\"\"\n",
    "\n",
    "    utils.log_agent_title_html(\"Packaging Agent\", \"📦\")\n",
    "\n",
    "    # We use this path in the src of the <img>\n",
    "    styled_image_html = f\"\"\"\n",
    "![Open the generated file to see]({image_url})\n",
    "    \"\"\"\n",
    "\n",
    "    beautified_summary = client.chat.completions.create(\n",
    "        model=\"openai:o4-mini\",\n",
    "        messages=[\n",
    "            {\"role\": \"system\", \"content\": \"You are a marketing communication expert writing elegant campaign summaries for executives.\"},\n",
    "            {\"role\": \"user\", \"content\": f\"\"\"\n",
    "Please rewrite the following trend summary to be clear, professional, and engaging for a CEO audience:\n",
    "\n",
    "\\\"\\\"\\\"{trend_summary.strip()}\\\"\\\"\\\"\n",
    "\"\"\"}\n",
    "        ]\n",
    "    ).choices[0].message.content.strip()\n",
    "\n",
    "    utils.log_tool_result_html(beautified_summary)\n",
    "\n",
    "    # Combine all parts into markdown\n",
    "    markdown_content = f\"\"\"# 🕶️ Summer Sunglasses Campaign – Executive Summary\n",
    "\n",
    "## 📊 Refined Trend Insights\n",
    "{beautified_summary}\n",
    "\n",
    "## 🎯 Campaign Visual\n",
    "{styled_image_html}\n",
    "\n",
    "## ✍️ Campaign Quote\n",
    "{quote.strip()}\n",
    "\n",
    "## ✅ Why This Works\n",
    "{justification.strip()}\n",
    "\n",
    "---\n",
    "\n",
    "*Report generated on {datetime.now().strftime('%Y-%m-%d')}*\n",
    "\"\"\"\n",
    "\n",
    "    with open(output_path, \"w\", encoding=\"utf-8\") as f:\n",
    "        f.write(markdown_content)\n",
    "\n",
    "    return output_path\n",
    "\n"
   ]
  },
  {
   "cell_type": "markdown",
   "id": "2341b1d9",
   "metadata": {},
   "source": [
    "With your trend summary, campaign image, and quote ready, you now hand everything to the **Packaging Agent**. Its job is to pull these pieces together into a polished, executive-ready report. Run the next cell to generate it.  \n"
   ]
  },
  {
   "cell_type": "code",
   "execution_count": 11,
   "id": "a5b40e2d",
   "metadata": {
    "height": 132
   },
   "outputs": [
    {
     "data": {
      "text/html": [
       "\n",
       "      <div style=\"padding:1em;margin:1em 0;background-color:#f0f4f8;border-left:6px solid #1976D2;\">\n",
       "        <h2 style=\"margin:0;color:#0D47A1;font-family:'Segoe UI',sans-serif;\">\n",
       "          📦 Packaging Agent\n",
       "        </h2>\n",
       "      </div>\n",
       "    "
      ],
      "text/plain": [
       "<IPython.core.display.HTML object>"
      ]
     },
     "metadata": {},
     "output_type": "display_data"
    },
    {
     "data": {
      "text/html": [
       "\n",
       "      <div style=\"border-left:4px solid #558B2F;padding:.8em;margin:1em 0;\n",
       "                  background-color:#f1f8e9;color:#33691E;\">\n",
       "        <strong>✅ Tool Result:</strong>\n",
       "        <pre style=\"white-space:pre-wrap;font-size:13px;color:#2E7D32;\">Summer 2025 Eyewear Trend Summary\n",
       "\n",
       "As we prepare for the upcoming season, three distinct eyewear movements are shaping consumer demand and influencer conversations: bold statement silhouettes, nostalgic retro revivals, and streamlined minimalist designs. Our curated catalog selections not only capture these trends but also align with inventory readiness and attractive price positioning.\n",
       "\n",
       "1. Leading Summer Trends  \n",
       "   • Statement-Making Silhouettes     \n",
       "     Wraparound “shield” styles and oversized lenses dominate social feeds and runway stages, projecting a futuristic, confident image.  \n",
       "   • Retro Revivals     \n",
       "     Classic 1950s cat-eye and iconic Wayfarer profiles are experiencing renewed enthusiasm, offering timeless appeal across all age groups.  \n",
       "   • Modern Minimalism     \n",
       "     Ultra-light metals, rimless constructions, and transparent frames deliver a barely-there aesthetic that underscores simplicity and sophistication.\n",
       "\n",
       "2. Spotlighted Catalog Picks  \n",
       "   • SG004 “Sport” Wraparound  \n",
       "     A single-curved lens and full-coverage geometry embody the shield trend, while a flexible, rubber-grip frame ensures all-day comfort for active lifestyles.  \n",
       "   • SG002 “Wayfarer”  \n",
       "     Bold acetate construction and an angular silhouette pay homage to the retro resurgence, providing a versatile statement piece that works seamlessly with any wardrobe.  \n",
       "   • SG001 “Aviator”  \n",
       "     An ultra-thin metal frame and classic teardrop lens deliver minimalist elegance, combining high UV protection with an unembellished, modern profile.\n",
       "\n",
       "3. Strategic Rationale for Summer 2025  \n",
       "   • Trend Alignment: Each model directly reflects runway and influencer highlights, ensuring relevance and consumer excitement.  \n",
       "   • Broad Appeal: By covering statement, retro, and minimalist segments, we maximize reach across diverse customer preferences.  \n",
       "   • Operational Efficiency: Available inventory and competitive price points ($103–$144) support swift promotional roll-outs and replenishment cycles.\n",
       "\n",
       "This targeted assortment positions us to lead summer campaigns, drive sales momentum, and strengthen our brand’s trend leadership.</pre>\n",
       "      </div>\n",
       "    "
      ],
      "text/plain": [
       "<IPython.core.display.HTML object>"
      ]
     },
     "metadata": {},
     "output_type": "display_data"
    }
   ],
   "source": [
    "packaging_agent_result = packaging_agent(\n",
    "    trend_summary=market_research_result,\n",
    "    image_url=graphic_designer_agent_result[\"image_path\"],\n",
    "    quote=copywriter_agent_result[\"quote\"],\n",
    "    justification=copywriter_agent_result[\"justification\"],\n",
    "    output_path=f\"campaign_summary_{datetime.now().strftime('%Y-%m-%d_%H-%M-%S')}.md\"\n",
    ")"
   ]
  },
  {
   "cell_type": "markdown",
   "id": "53d0f8c1",
   "metadata": {},
   "source": [
    "The final result will be a beautifully formatted campaign report that you can view directly in the notebook. It will include:  \n",
    "\n",
    "- A refined trend summary that you will see rewritten for executive clarity  \n",
    "- A visually styled image with your campaign quote overlaid using HTML  \n",
    "- A clear justification so you understand why the visual and message align with current trends  \n",
    "- A timestamp showing you exactly when the report was generated  \n",
    "\n",
    "You can view it with:  "
   ]
  },
  {
   "cell_type": "code",
   "execution_count": 12,
   "id": "3903518d",
   "metadata": {
    "height": 115
   },
   "outputs": [
    {
     "data": {
      "text/markdown": [
       "# 🕶️ Summer Sunglasses Campaign – Executive Summary\n",
       "\n",
       "## 📊 Refined Trend Insights\n",
       "Summer 2025 Eyewear Trend Summary\n",
       "\n",
       "As we prepare for the upcoming season, three distinct eyewear movements are shaping consumer demand and influencer conversations: bold statement silhouettes, nostalgic retro revivals, and streamlined minimalist designs. Our curated catalog selections not only capture these trends but also align with inventory readiness and attractive price positioning.\n",
       "\n",
       "1. Leading Summer Trends  \n",
       "   • Statement-Making Silhouettes     \n",
       "     Wraparound “shield” styles and oversized lenses dominate social feeds and runway stages, projecting a futuristic, confident image.  \n",
       "   • Retro Revivals     \n",
       "     Classic 1950s cat-eye and iconic Wayfarer profiles are experiencing renewed enthusiasm, offering timeless appeal across all age groups.  \n",
       "   • Modern Minimalism     \n",
       "     Ultra-light metals, rimless constructions, and transparent frames deliver a barely-there aesthetic that underscores simplicity and sophistication.\n",
       "\n",
       "2. Spotlighted Catalog Picks  \n",
       "   • SG004 “Sport” Wraparound  \n",
       "     A single-curved lens and full-coverage geometry embody the shield trend, while a flexible, rubber-grip frame ensures all-day comfort for active lifestyles.  \n",
       "   • SG002 “Wayfarer”  \n",
       "     Bold acetate construction and an angular silhouette pay homage to the retro resurgence, providing a versatile statement piece that works seamlessly with any wardrobe.  \n",
       "   • SG001 “Aviator”  \n",
       "     An ultra-thin metal frame and classic teardrop lens deliver minimalist elegance, combining high UV protection with an unembellished, modern profile.\n",
       "\n",
       "3. Strategic Rationale for Summer 2025  \n",
       "   • Trend Alignment: Each model directly reflects runway and influencer highlights, ensuring relevance and consumer excitement.  \n",
       "   • Broad Appeal: By covering statement, retro, and minimalist segments, we maximize reach across diverse customer preferences.  \n",
       "   • Operational Efficiency: Available inventory and competitive price points ($103–$144) support swift promotional roll-outs and replenishment cycles.\n",
       "\n",
       "This targeted assortment positions us to lead summer campaigns, drive sales momentum, and strengthen our brand’s trend leadership.\n",
       "\n",
       "## 🎯 Campaign Visual\n",
       "\n",
       "![Open the generated file to see](img-YEXEf9FR1GdlQLkQpvKCpZCO.png)\n",
       "    \n",
       "\n",
       "## ✍️ Campaign Quote\n",
       "Elevate Your Summer: Shields, Wayfarers, Aviators\n",
       "\n",
       "## ✅ Why This Works\n",
       "This tagline highlights the image’s bold wraparound shields alongside retro Wayfarers and minimalist aviators, tying directly into the top summer 2025 trends and evoking a sleek, sun-soaked campaign feel.\n",
       "\n",
       "---\n",
       "\n",
       "*Report generated on 2025-10-10*\n"
      ],
      "text/plain": [
       "<IPython.core.display.Markdown object>"
      ]
     },
     "metadata": {},
     "output_type": "display_data"
    }
   ],
   "source": [
    "# Load and render the markdown content\n",
    "with open(packaging_agent_result, \"r\", encoding=\"utf-8\") as f:\n",
    "    md_content = f.read()\n",
    "display(Markdown(md_content))"
   ]
  },
  {
   "cell_type": "markdown",
   "id": "72e174f2",
   "metadata": {},
   "source": [
    "## 5. Full Campaign Pipeline – `run_sunglasses_campaign_pipeline`\n",
    "\n",
    "In this step, you will define a single function, `run_sunglasses_campaign_pipeline`, that ties all the pieces together into one seamless workflow for your summer sunglasses campaign.  \n",
    "\n",
    "The function will:  \n",
    "- Run market research to scan fashion trends and match them to your catalog.  \n",
    "- Generate a visually styled image and caption.  \n",
    "- Create a short, elegant campaign quote with justification.  \n",
    "- Package everything into a polished markdown report tailored for executive review.  \n",
    "\n",
    "By defining this function, you make it easy to run the **entire pipeline in one call** while still being able to trace intermediate results and view the final report.  "
   ]
  },
  {
   "cell_type": "code",
   "execution_count": 13,
   "id": "3ede037a",
   "metadata": {
    "height": 761
   },
   "outputs": [],
   "source": [
    "def run_sunglasses_campaign_pipeline(output_path: str = \"campaign_summary.md\") -> dict:\n",
    "    \"\"\"\n",
    "    Runs the full summer sunglasses campaign pipeline:\n",
    "    1. Market research (search trends + match products)\n",
    "    2. Generate visual + caption\n",
    "    3. Generate quote based on image + trend\n",
    "    4. Create executive markdown report\n",
    "\n",
    "    Returns:\n",
    "        dict: Dictionary containing all intermediate results + path to final report\n",
    "    \"\"\"\n",
    "    # 1. Run market research agent\n",
    "    trend_summary = market_research_agent()\n",
    "    print(\"✅ Market research completed\")\n",
    "\n",
    "    # 2. Generate image + caption\n",
    "    visual_result = graphic_designer_agent(trend_insights=trend_summary)\n",
    "    image_path = visual_result[\"image_path\"]\n",
    "    print(\"🖼️ Image generated\")\n",
    "\n",
    "    # 3. Generate quote based on image + trends\n",
    "    quote_result = copywriter_agent(image_path=image_path, trend_summary=trend_summary)\n",
    "    quote = quote_result.get(\"quote\", \"\")\n",
    "    justification = quote_result.get(\"justification\", \"\")\n",
    "    print(\"💬 Quote created\")\n",
    "\n",
    "    # 4. Generate markdown report\n",
    "    md_path = packaging_agent(\n",
    "        trend_summary=trend_summary,\n",
    "        image_url=image_path,  \n",
    "        quote=quote,\n",
    "        justification=justification,\n",
    "        output_path=f\"campaign_summary_{datetime.now().strftime('%Y-%m-%d_%H-%M-%S')}.md\"\n",
    "    )\n",
    "\n",
    "    print(f\"📦 Report generated: {md_path}\")\n",
    "\n",
    "    return {\n",
    "        \"trend_summary\": trend_summary,\n",
    "        \"visual\": visual_result,\n",
    "        \"quote\": quote_result,\n",
    "        \"markdown_path\": md_path\n",
    "    }\n"
   ]
  },
  {
   "cell_type": "markdown",
   "id": "6edf804e",
   "metadata": {},
   "source": [
    "You can now create a complete campaign report by running the pipeline in a single call. Just execute the next cell:  "
   ]
  },
  {
   "cell_type": "code",
   "execution_count": 14,
   "id": "ef8f076a",
   "metadata": {
    "height": 30
   },
   "outputs": [
    {
     "data": {
      "text/html": [
       "\n",
       "      <div style=\"padding:1em;margin:1em 0;background-color:#f0f4f8;border-left:6px solid #1976D2;\">\n",
       "        <h2 style=\"margin:0;color:#0D47A1;font-family:'Segoe UI',sans-serif;\">\n",
       "          🕵️‍♂️ Market Research Agent\n",
       "        </h2>\n",
       "      </div>\n",
       "    "
      ],
      "text/plain": [
       "<IPython.core.display.HTML object>"
      ]
     },
     "metadata": {},
     "output_type": "display_data"
    },
    {
     "name": "stdout",
     "output_type": "stream",
     "text": [
      "tools available: <module 'tools' from '/home/jovyan/work/M5/ungraded_labs/M5_UGL_2/tools.py'>\n",
      "msg: ChatCompletionMessage(content=None, refusal=None, role='assistant', annotations=[], audio=None, function_call=None, tool_calls=[ChatCompletionMessageFunctionToolCall(id='call_hlvvamH470y79vq8J4Eklaj2', function=Function(arguments='{\"query\":\"2025 summer sunglasses fashion trends\",\"max_results\":5,\"include_images\":false}', name='tavily_search_tool'), type='function')])\n"
     ]
    },
    {
     "data": {
      "text/html": [
       "\n",
       "      <div style=\"border-left:4px solid #1976D2;padding:.8em;margin:1em 0;\n",
       "                  background-color:#e3f2fd;color:#0D47A1;font-family:'Segoe UI',sans-serif;\">\n",
       "        <div style=\"font-size:15px;font-weight:bold;margin-bottom:4px;\">\n",
       "          📞 <span style=\"color:#0B3D91;\">Tool Call:</span> <span style=\"color:#0B3D91;\">tavily_search_tool</span>\n",
       "        </div>\n",
       "        <code style=\"display:block;background:#e8f0fe;color:#1b1b1b;padding:6px;border-radius:4px;\n",
       "                     font-size:13px;white-space:pre-wrap;\">{&quot;query&quot;:&quot;2025 summer sunglasses fashion trends&quot;,&quot;max_results&quot;:5,&quot;include_images&quot;:false}</code>\n",
       "      </div>\n",
       "    "
      ],
      "text/plain": [
       "<IPython.core.display.HTML object>"
      ]
     },
     "metadata": {},
     "output_type": "display_data"
    },
    {
     "data": {
      "text/html": [
       "\n",
       "      <div style=\"border-left:4px solid #558B2F;padding:.8em;margin:1em 0;\n",
       "                  background-color:#f1f8e9;color:#33691E;\">\n",
       "        <strong>✅ Tool Result:</strong>\n",
       "        <pre style=\"white-space:pre-wrap;font-size:13px;color:#2E7D32;\">[{&#x27;title&#x27;: &#x27;Sunglasses trends 2025: discover the hottest models - Mister Spex&#x27;, &#x27;content&#x27;: &quot;Spring/Summer 2025 Sunglasses Trends # Sunglasses Trends 2025/26 ## All Sunglasses Trends at a Glance Rimless Sunglasses Statement Sunglasses Everyday Sunglasses ## Women&#x27;s Sunglasses ## Men&#x27;s Sunglasses All sunglasses ### Sunglasses Trends 2025 – Must-Have Picks for Spring &amp; Summer The **Sunglasses Trends 2025** are breathing new life into the season! Whether you favour understated looks or eye-catching designs, the new sunglasses add that perfect stylish touch. ### Rimless Sunglasses – Minimalism Meets Modernity Light, discreet and striking: **Rimless Sunglasses** are one of the season’s standout trends. ### Oversized &amp; Statement Sunglasses – Make a Bold Impression Whether you’re into futuristic designs, bold statement pieces or timeless classics, the **Sunglasses Trends 2025** offer the perfect model for every style.&quot;, &#x27;url&#x27;: &#x27;https://www.misterspex.co.uk/c/trd/173&#x27;}, {&#x27;title&#x27;: &quot;The Top Sunglasses Trends of 2025: Styles Everyone&#x27;s Talking About&quot;, &#x27;content&#x27;: &#x27;The top trends in 2025 include oversized frames, futuristic shield sunglasses, transparent frames, retro-inspired designs, color-tinted lenses,&#x27;, &#x27;url&#x27;: &#x27;https://topfoxx.com/en-au/blogs/news/the-top-sunglasses-trends-of-2025-styles-everyone-s-talking-about?srsltid=AfmBOooB9etZb5gUtNXvB75JtY4xpL6sj-A7QkemGIGpFxTfYF8HovIR&#x27;}, {&#x27;title&#x27;: &#x27;Top 18 Sunglasses Worn by Celebrities in 2025 - Kraywoods&#x27;, &#x27;content&#x27;: &quot;Let&#x27;s take a closer look at one of the trends of 2025: Wayfarer sunglasses. Identical to the clubmaster yet slightly different, the wayfarer shape is&quot;, &#x27;url&#x27;: &#x27;https://www.kraywoods.com/blogs/our-stories/top-celebrity-sunglasses?srsltid=AfmBOoqY-KsDMonLksYIpQUyOz5C0VHrbWr9taE0Bu3tZvEfTVS7Sdkc&#x27;}, {&#x27;title&#x27;: &#x27;Sunglasses Trends and Styles for Autumn/Winter 2025&#x27;, &#x27;content&#x27;: &#x27;The best shopping picks and trends in sunglasses, compiled by our editors to help you create the perfect outfit for any occasion. * ## I Low-Key Wear These $30 Sunglasses More Than My Luxury Pairs—19 Styles I\\&#x27;m Eyeing Next * ## 7 Sunglasses Trends Every Fashion Person Will Be Wearing This Summer * ## This Sunglasses Trend Is Set to Be Huge in 2025 * ## This Chic Eyewear Trend Will Help You Get &quot;Summer in the Hamptons&quot; Style * ## I\\&#x27;m an Accessory Expert—6 Trends I Can\\&#x27;t Wait to Get My Hands on This Summer * ## I\\&#x27;m Calling It—These French Sunglasses Are Destined to Go Viral * ## The &quot;Dated&quot; Sunglasses Trend That Destined to Be Everywhere Again&#x27;, &#x27;url&#x27;: &#x27;https://www.whowhatwear.com/tag/sunglasses&#x27;}, {&#x27;title&#x27;: &#x27;Spy the eyewear trends that have been making waves in 2025&#x27;, &#x27;content&#x27;: &#x27;Perhaps interest in specific shapes or styles might wax and wane, but between one’s opticals and a trusty pair of sunnies to keep close, there’s no question that fashion’s rotating slate of statement eyewear will continue to hold everyone’s attention. As large frames are becoming chic again, and we anticipate small, foldable styles to take off, spy the eyewear trends that are taking us through the rest of 2025—and well into the next year. In particular, bug-eyed silhouettes were spotted all over the runways across the fall/winter 2025 season—and most recently, Victoria Beckham stepped out donning her own retro-inspired pair. ## Celine cat-eye sunglasses, $581 ## Acne Studios metal frame sunglasses, $730&#x27;, &#x27;url&#x27;: &#x27;https://vogue.sg/eyewear-trends-in-2025/&#x27;}]</pre>\n",
       "      </div>\n",
       "    "
      ],
      "text/plain": [
       "<IPython.core.display.HTML object>"
      ]
     },
     "metadata": {},
     "output_type": "display_data"
    },
    {
     "name": "stdout",
     "output_type": "stream",
     "text": [
      "msg: ChatCompletionMessage(content=None, refusal=None, role='assistant', annotations=[], audio=None, function_call=None, tool_calls=[ChatCompletionMessageFunctionToolCall(id='call_I90RGjPnHuHb8OLDqY74H50H', function=Function(arguments='{\"max_items\":10}', name='product_catalog_tool'), type='function')])\n"
     ]
    },
    {
     "data": {
      "text/html": [
       "\n",
       "      <div style=\"border-left:4px solid #1976D2;padding:.8em;margin:1em 0;\n",
       "                  background-color:#e3f2fd;color:#0D47A1;font-family:'Segoe UI',sans-serif;\">\n",
       "        <div style=\"font-size:15px;font-weight:bold;margin-bottom:4px;\">\n",
       "          📞 <span style=\"color:#0B3D91;\">Tool Call:</span> <span style=\"color:#0B3D91;\">product_catalog_tool</span>\n",
       "        </div>\n",
       "        <code style=\"display:block;background:#e8f0fe;color:#1b1b1b;padding:6px;border-radius:4px;\n",
       "                     font-size:13px;white-space:pre-wrap;\">{&quot;max_items&quot;:10}</code>\n",
       "      </div>\n",
       "    "
      ],
      "text/plain": [
       "<IPython.core.display.HTML object>"
      ]
     },
     "metadata": {},
     "output_type": "display_data"
    },
    {
     "data": {
      "text/html": [
       "\n",
       "      <div style=\"border-left:4px solid #558B2F;padding:.8em;margin:1em 0;\n",
       "                  background-color:#f1f8e9;color:#33691E;\">\n",
       "        <strong>✅ Tool Result:</strong>\n",
       "        <pre style=\"white-space:pre-wrap;font-size:13px;color:#2E7D32;\">[{&#x27;name&#x27;: &#x27;Aviator&#x27;, &#x27;item_id&#x27;: &#x27;SG001&#x27;, &#x27;description&#x27;: &#x27;Originally designed for pilots, these teardrop-shaped lenses with thin metal frames offer timeless appeal. The large lenses provide excellent coverage while the lightweight construction ensures comfort during long wear.&#x27;, &#x27;quantity_in_stock&#x27;: 23, &#x27;price&#x27;: 103}, {&#x27;name&#x27;: &#x27;Wayfarer&#x27;, &#x27;item_id&#x27;: &#x27;SG002&#x27;, &#x27;description&#x27;: &#x27;Featuring thick, angular frames that make a statement, these sunglasses combine retro charm with modern edge. The rectangular lenses and sturdy acetate construction create a confident look.&#x27;, &#x27;quantity_in_stock&#x27;: 6, &#x27;price&#x27;: 92}, {&#x27;name&#x27;: &#x27;Mystique&#x27;, &#x27;item_id&#x27;: &#x27;SG003&#x27;, &#x27;description&#x27;: &#x27;Inspired by 1950s glamour, these frames sweep upward at the outer corners to create an elegant, feminine silhouette. The subtle curves and often embellished temples add sophistication to any outfit.&#x27;, &#x27;quantity_in_stock&#x27;: 3, &#x27;price&#x27;: 88}, {&#x27;name&#x27;: &#x27;Sport&#x27;, &#x27;item_id&#x27;: &#x27;SG004&#x27;, &#x27;description&#x27;: &#x27;Designed for active lifestyles, these wraparound sunglasses feature a single curved lens that provides maximum coverage and wind protection. The lightweight, flexible frames include rubber grips.&#x27;, &#x27;quantity_in_stock&#x27;: 11, &#x27;price&#x27;: 144}, {&#x27;name&#x27;: &#x27;Round&#x27;, &#x27;item_id&#x27;: &#x27;SG005&#x27;, &#x27;description&#x27;: &#x27;Circular lenses set in minimalist frames create a thoughtful, artistic appearance. These sunglasses evoke a scholarly or creative vibe while remaining effortlessly stylish.&#x27;, &#x27;quantity_in_stock&#x27;: 10, &#x27;price&#x27;: 86}]</pre>\n",
       "      </div>\n",
       "    "
      ],
      "text/plain": [
       "<IPython.core.display.HTML object>"
      ]
     },
     "metadata": {},
     "output_type": "display_data"
    },
    {
     "name": "stdout",
     "output_type": "stream",
     "text": [
      "msg: ChatCompletionMessage(content='Trend Analysis Summary (Date: 2025-10-10)\\n\\n1. Top 3 Sunglasses Trends for Summer 2025  \\n   • Oversized & Statement Frames  \\n     – Bold, chunky silhouettes in bright or classic hues—meant to stand out in street-style and festival photography.  \\n   • Retro-Inspired Shapes  \\n     – Cat-eyes, wayfarers and aviators in updated finishes (e.g. matte acetates, colored lenses) tapping into ’70s–’90s nostalgia.  \\n   • Minimalist/Rimless & Transparent Frames  \\n     – Lightweight, barely-there profiles and clear or lightly tinted materials for an understated, modern look.\\n\\n2. Catalog Products Aligned to These Trends  \\n   • SG002: Wayfarer  \\n     – Thick acetate frame, strong angular shape.  \\n     – Fits both the oversized/statement trend and the retro revival.  \\n   • SG003: Mystique (Cat-Eye)  \\n     – Upward-swept feminine silhouette with subtle temple embellishments.  \\n     – Matches the ’50s–’60s throwback trend and adds a gloss finish that photographs well in summer light.  \\n   • SG001: Aviator (Bonus for Everyday Coverage)  \\n     – Large teardrop lenses in a slim metal frame.  \\n     – Covers the retro‐inspired category while delivering maximum sun protection and broad market appeal.\\n\\n3. Justification for Summer Campaign  \\n   – Wayfarer (SG002) delivers high visual impact for editorial shoots and social media (“statement” silhouettes photograph extremely well).  \\n   – Mystique (SG003) leans into vintage glamour, appealing to the growing demand for cat-eye shapes among influencers and micro-trend communities.  \\n   – Aviator (SG001) remains a top seller every season, ensuring the campaign has a reliable, universally flattering option for broad demographics.\\n\\nRecommendation: Feature the Wayfarer and Mystique as primary “hero” pieces in campaign imagery, supported by the Aviator in lifestyle and functional-wear narratives.', refusal=None, role='assistant', annotations=[], audio=None, function_call=None, tool_calls=None)\n"
     ]
    },
    {
     "data": {
      "text/html": [
       "\n",
       "      <div style=\"border-left:4px solid #2E7D32;padding:1em;margin:1em 0;\n",
       "                  background-color:#e8f5e9;color:#1B5E20;\">\n",
       "        <strong>✅ Final Summary:</strong>\n",
       "        <pre style=\"white-space:pre-wrap;font-size:13px;color:#1B5E20;\">Trend Analysis Summary (Date: 2025-10-10)\n",
       "\n",
       "1. Top 3 Sunglasses Trends for Summer 2025  \n",
       "   • Oversized &amp; Statement Frames  \n",
       "     – Bold, chunky silhouettes in bright or classic hues—meant to stand out in street-style and festival photography.  \n",
       "   • Retro-Inspired Shapes  \n",
       "     – Cat-eyes, wayfarers and aviators in updated finishes (e.g. matte acetates, colored lenses) tapping into ’70s–’90s nostalgia.  \n",
       "   • Minimalist/Rimless &amp; Transparent Frames  \n",
       "     – Lightweight, barely-there profiles and clear or lightly tinted materials for an understated, modern look.\n",
       "\n",
       "2. Catalog Products Aligned to These Trends  \n",
       "   • SG002: Wayfarer  \n",
       "     – Thick acetate frame, strong angular shape.  \n",
       "     – Fits both the oversized/statement trend and the retro revival.  \n",
       "   • SG003: Mystique (Cat-Eye)  \n",
       "     – Upward-swept feminine silhouette with subtle temple embellishments.  \n",
       "     – Matches the ’50s–’60s throwback trend and adds a gloss finish that photographs well in summer light.  \n",
       "   • SG001: Aviator (Bonus for Everyday Coverage)  \n",
       "     – Large teardrop lenses in a slim metal frame.  \n",
       "     – Covers the retro‐inspired category while delivering maximum sun protection and broad market appeal.\n",
       "\n",
       "3. Justification for Summer Campaign  \n",
       "   – Wayfarer (SG002) delivers high visual impact for editorial shoots and social media (“statement” silhouettes photograph extremely well).  \n",
       "   – Mystique (SG003) leans into vintage glamour, appealing to the growing demand for cat-eye shapes among influencers and micro-trend communities.  \n",
       "   – Aviator (SG001) remains a top seller every season, ensuring the campaign has a reliable, universally flattering option for broad demographics.\n",
       "\n",
       "Recommendation: Feature the Wayfarer and Mystique as primary “hero” pieces in campaign imagery, supported by the Aviator in lifestyle and functional-wear narratives.</pre>\n",
       "      </div>\n",
       "    "
      ],
      "text/plain": [
       "<IPython.core.display.HTML object>"
      ]
     },
     "metadata": {},
     "output_type": "display_data"
    },
    {
     "name": "stdout",
     "output_type": "stream",
     "text": [
      "✅ Market research completed\n"
     ]
    },
    {
     "data": {
      "text/html": [
       "\n",
       "      <div style=\"padding:1em;margin:1em 0;background-color:#f0f4f8;border-left:6px solid #1976D2;\">\n",
       "        <h2 style=\"margin:0;color:#0D47A1;font-family:'Segoe UI',sans-serif;\">\n",
       "          🎨 Graphic Designer Agent\n",
       "        </h2>\n",
       "      </div>\n",
       "    "
      ],
      "text/plain": [
       "<IPython.core.display.HTML object>"
      ]
     },
     "metadata": {},
     "output_type": "display_data"
    },
    {
     "data": {
      "text/html": [
       "\n",
       "      <div style=\"border-left:4px solid #2E7D32;padding:1em;margin:1em 0;\n",
       "                  background-color:#e8f5e9;color:#1B5E20;\">\n",
       "        <strong>✅ Final Summary:</strong>\n",
       "        <pre style=\"white-space:pre-wrap;font-size:13px;color:#1B5E20;\">&lt;h3&gt;Generated Image and Caption&lt;/h3&gt;\n",
       "\n",
       "        &lt;p&gt;&lt;strong&gt;Image Path:&lt;/strong&gt; &lt;code&gt;img-WDtRjFy8dsPumJYJvW4wVCAC.png&lt;/code&gt;&lt;/p&gt;\n",
       "\n",
       "        &lt;p&gt;&lt;strong&gt;Generated Image:&lt;/strong&gt;&lt;/p&gt;\n",
       "        &lt;img src=&quot;img-WDtRjFy8dsPumJYJvW4wVCAC.png&quot; alt=&quot;Generated Image&quot; style=&quot;max-width: 100%; height: auto; border: 1px solid #ccc; border-radius: 8px; margin-top: 10px; margin-bottom: 10px;&quot;&gt;\n",
       "\n",
       "        &lt;p&gt;&lt;strong&gt;Prompt:&lt;/strong&gt; An electrifying summer street-style scene at golden hour: two confident models leaning against a sun-warmed mural of palm fronds. The first wears oversized chunky wayfarer sunglasses in electric cobalt blue, reflecting neon festival lights; the second sports glossy Mystique cat-eye frames with subtle temple jewels and rose-tinted lenses, hair tousled by a warm breeze. In the background, a third figure casually adjusts a classic slim-metal aviator with amber lenses. Lens flare dances across the frame, pastel skies fade into sunset, and scattered confetti drifts through a shallow depth of field, creating a vibrant, cinematic vibe.&lt;/p&gt;</pre>\n",
       "      </div>\n",
       "    "
      ],
      "text/plain": [
       "<IPython.core.display.HTML object>"
      ]
     },
     "metadata": {},
     "output_type": "display_data"
    },
    {
     "name": "stdout",
     "output_type": "stream",
     "text": [
      "🖼️ Image generated\n"
     ]
    },
    {
     "data": {
      "text/html": [
       "\n",
       "      <div style=\"padding:1em;margin:1em 0;background-color:#f0f4f8;border-left:6px solid #1976D2;\">\n",
       "        <h2 style=\"margin:0;color:#0D47A1;font-family:'Segoe UI',sans-serif;\">\n",
       "          ✍️ Copywriter Agent\n",
       "        </h2>\n",
       "      </div>\n",
       "    "
      ],
      "text/plain": [
       "<IPython.core.display.HTML object>"
      ]
     },
     "metadata": {},
     "output_type": "display_data"
    },
    {
     "data": {
      "text/html": [
       "\n",
       "      <div style=\"border-left:4px solid #2E7D32;padding:1em;margin:1em 0;\n",
       "                  background-color:#e8f5e9;color:#1B5E20;\">\n",
       "        <strong>✅ Final Summary:</strong>\n",
       "        <pre style=\"white-space:pre-wrap;font-size:13px;color:#1B5E20;\">{&quot;quote&quot;:&quot;Bold Frames, Timeless Glamour Under the Sun&quot;,&quot;justification&quot;:&quot;This phrase captures the sunset-lit image’s oversized statement frames and retro-inspired cat-eyes, aligning with the Trend Analysis recommendation to feature the Wayfarer and Mystique as hero pieces for standout summer style.&quot;}</pre>\n",
       "      </div>\n",
       "    "
      ],
      "text/plain": [
       "<IPython.core.display.HTML object>"
      ]
     },
     "metadata": {},
     "output_type": "display_data"
    },
    {
     "name": "stdout",
     "output_type": "stream",
     "text": [
      "💬 Quote created\n"
     ]
    },
    {
     "data": {
      "text/html": [
       "\n",
       "      <div style=\"padding:1em;margin:1em 0;background-color:#f0f4f8;border-left:6px solid #1976D2;\">\n",
       "        <h2 style=\"margin:0;color:#0D47A1;font-family:'Segoe UI',sans-serif;\">\n",
       "          📦 Packaging Agent\n",
       "        </h2>\n",
       "      </div>\n",
       "    "
      ],
      "text/plain": [
       "<IPython.core.display.HTML object>"
      ]
     },
     "metadata": {},
     "output_type": "display_data"
    },
    {
     "data": {
      "text/html": [
       "\n",
       "      <div style=\"border-left:4px solid #558B2F;padding:.8em;margin:1em 0;\n",
       "                  background-color:#f1f8e9;color:#33691E;\">\n",
       "        <strong>✅ Tool Result:</strong>\n",
       "        <pre style=\"white-space:pre-wrap;font-size:13px;color:#2E7D32;\">Executive Summary  \n",
       "As we gear up for Summer 2025, the sunglasses landscape is defined by three dominant style movements—each offering a unique opportunity to reinforce our brand’s leadership in fashion, performance, and social media visibility. By spotlighting two bold, on-trend silhouettes alongside our perennial best-seller, we can drive engagement, broaden our demographic reach, and ensure a strong return on marketing investment.\n",
       "\n",
       "Trend Highlights  \n",
       "• Oversized &amp; Statement Frames  \n",
       "  – Embrace bold, chunky profiles in both vibrant and timeless colorways—designed to capture attention in street-style editorials and festival photography.  \n",
       "• Retro-Inspired Shapes  \n",
       "  – Reinvent classic cat-eyes, wayfarers and aviators with matte acetates and colored lenses, tapping into ’70s–’90s nostalgia among fashion-forward consumers.  \n",
       "• Minimalist/Rimless &amp; Transparent Designs  \n",
       "  – Offer lightweight, barely-there options in clear or softly tinted materials for an understated, modern aesthetic.\n",
       "\n",
       "Product Alignment  \n",
       "• SG002 Wayfarer  \n",
       "  – Thick acetate, sharp angles—bridges the oversized statement and retro revival trends. Ideal for high-impact social content.  \n",
       "• SG003 Mystique (Cat-Eye)  \n",
       "  – Elegant, upward-swept silhouette with refined temple detailing and a glossy finish that photographs strikingly in summer light.  \n",
       "• SG001 Aviator  \n",
       "  – Slim metal frame with large teardrop lenses—our reliable, mass-appeal bestseller providing maximum sun protection and broad demographic coverage.\n",
       "\n",
       "Campaign Strategy &amp; Justification  \n",
       "• Visual Magnetism: SG002’s statement shape delivers unparalleled editorial and social-media presence, fueling both organic and paid reach.  \n",
       "• Nostalgic Glamour: SG003 taps into the resurging demand for vintage silhouettes, resonating strongly with influencers and micro-trend communities.  \n",
       "• Steady Performer: SG001 Aviator ensures baseline sales and minimizes category risk, anchoring the collection with a universally flattering style.\n",
       "\n",
       "Recommendation  \n",
       "Position SG002 (Wayfarer) and SG003 (Mystique) as the campaign’s “hero” pieces in all primary imagery—leveraging their trend alignment and photographic strength—while incorporating SG001 (Aviator) in lifestyle and functional-wear narratives to guarantee broad appeal and consistent performance. This focused approach maximizes our visual impact, capitalizes on emerging consumer preferences, and safeguards overall campaign ROI.</pre>\n",
       "      </div>\n",
       "    "
      ],
      "text/plain": [
       "<IPython.core.display.HTML object>"
      ]
     },
     "metadata": {},
     "output_type": "display_data"
    },
    {
     "name": "stdout",
     "output_type": "stream",
     "text": [
      "📦 Report generated: campaign_summary_2025-10-10_20-02-37.md\n"
     ]
    }
   ],
   "source": [
    "results = run_sunglasses_campaign_pipeline()"
   ]
  },
  {
   "cell_type": "markdown",
   "id": "6daba8a4",
   "metadata": {},
   "source": [
    "### 5.1. Results\n",
    "\n",
    "Run the following cell to view the outputs generated by the full campaign pipeline."
   ]
  },
  {
   "cell_type": "code",
   "execution_count": 15,
   "id": "6fb3807f",
   "metadata": {
    "height": 81
   },
   "outputs": [
    {
     "data": {
      "text/markdown": [
       "# 🕶️ Summer Sunglasses Campaign – Executive Summary\n",
       "\n",
       "## 📊 Refined Trend Insights\n",
       "Executive Summary  \n",
       "As we gear up for Summer 2025, the sunglasses landscape is defined by three dominant style movements—each offering a unique opportunity to reinforce our brand’s leadership in fashion, performance, and social media visibility. By spotlighting two bold, on-trend silhouettes alongside our perennial best-seller, we can drive engagement, broaden our demographic reach, and ensure a strong return on marketing investment.\n",
       "\n",
       "Trend Highlights  \n",
       "• Oversized & Statement Frames  \n",
       "  – Embrace bold, chunky profiles in both vibrant and timeless colorways—designed to capture attention in street-style editorials and festival photography.  \n",
       "• Retro-Inspired Shapes  \n",
       "  – Reinvent classic cat-eyes, wayfarers and aviators with matte acetates and colored lenses, tapping into ’70s–’90s nostalgia among fashion-forward consumers.  \n",
       "• Minimalist/Rimless & Transparent Designs  \n",
       "  – Offer lightweight, barely-there options in clear or softly tinted materials for an understated, modern aesthetic.\n",
       "\n",
       "Product Alignment  \n",
       "• SG002 Wayfarer  \n",
       "  – Thick acetate, sharp angles—bridges the oversized statement and retro revival trends. Ideal for high-impact social content.  \n",
       "• SG003 Mystique (Cat-Eye)  \n",
       "  – Elegant, upward-swept silhouette with refined temple detailing and a glossy finish that photographs strikingly in summer light.  \n",
       "• SG001 Aviator  \n",
       "  – Slim metal frame with large teardrop lenses—our reliable, mass-appeal bestseller providing maximum sun protection and broad demographic coverage.\n",
       "\n",
       "Campaign Strategy & Justification  \n",
       "• Visual Magnetism: SG002’s statement shape delivers unparalleled editorial and social-media presence, fueling both organic and paid reach.  \n",
       "• Nostalgic Glamour: SG003 taps into the resurging demand for vintage silhouettes, resonating strongly with influencers and micro-trend communities.  \n",
       "• Steady Performer: SG001 Aviator ensures baseline sales and minimizes category risk, anchoring the collection with a universally flattering style.\n",
       "\n",
       "Recommendation  \n",
       "Position SG002 (Wayfarer) and SG003 (Mystique) as the campaign’s “hero” pieces in all primary imagery—leveraging their trend alignment and photographic strength—while incorporating SG001 (Aviator) in lifestyle and functional-wear narratives to guarantee broad appeal and consistent performance. This focused approach maximizes our visual impact, capitalizes on emerging consumer preferences, and safeguards overall campaign ROI.\n",
       "\n",
       "## 🎯 Campaign Visual\n",
       "\n",
       "![Open the generated file to see](img-WDtRjFy8dsPumJYJvW4wVCAC.png)\n",
       "    \n",
       "\n",
       "## ✍️ Campaign Quote\n",
       "Bold Frames, Timeless Glamour Under the Sun\n",
       "\n",
       "## ✅ Why This Works\n",
       "This phrase captures the sunset-lit image’s oversized statement frames and retro-inspired cat-eyes, aligning with the Trend Analysis recommendation to feature the Wayfarer and Mystique as hero pieces for standout summer style.\n",
       "\n",
       "---\n",
       "\n",
       "*Report generated on 2025-10-10*\n"
      ],
      "text/plain": [
       "<IPython.core.display.Markdown object>"
      ]
     },
     "metadata": {},
     "output_type": "display_data"
    }
   ],
   "source": [
    "with open(results[\"markdown_path\"], \"r\", encoding=\"utf-8\") as f:\n",
    "    md_content = f.read()\n",
    "display(Markdown(md_content))\n"
   ]
  },
  {
   "cell_type": "markdown",
   "id": "242d1eba",
   "metadata": {},
   "source": [
    "## 6. Key Takeaways  \n",
    "\n",
    "By completing this lab, you have seen how to:  \n",
    "\n",
    "- Use **multi-agent LLM pipelines** to automate a creative workflow end-to-end.  \n",
    "- Combine **reasoning, tool-calling, and external data** to ground your outputs in reality.  \n",
    "- Apply multimodal models (like `gpt-4o`) that process **both text and images** for tasks such as generating campaign quotes.  \n",
    "- Extend the model’s abilities with tools (`tavily_search_tool`, `product_catalog_tool`) so your outputs are not only imaginative but also practical.  \n",
    "- Keep execution **transparent and debuggable** with structured logging and HTML-styled blocks.  \n",
    "- Deliver a polished, **executive-ready report** in Markdown format that blends insights, visuals, and justifications into a single artifact.  \n",
    "\n"
   ]
  },
  {
   "cell_type": "markdown",
   "id": "d0b052d8",
   "metadata": {},
   "source": [
    "<div style=\"border:1px solid #22c55e; border-left:6px solid #16a34a; background:#dcfce7; border-radius:6px; padding:14px 16px; color:#064e3b; font-family:system-ui,-apple-system,Segoe UI,Roboto,Ubuntu,Cantarell,Noto Sans,sans-serif;\">\n",
    "\n",
    "🎉 <strong>Congratulations!</strong> 🎉  \n",
    "\n",
    "Now you have successfully built and run a **multi-agent pipeline**: you researched trends, generated visuals, crafted a campaign quote, and packaged everything into an **executive-ready report**.  \n",
    "\n",
    "This workflow shows you how to combine the **creativity of LLMs** with the **discipline of structured orchestration**, giving you a repeatable pattern you can adapt to many real-world scenarios. 🌟  \n",
    "</div>\n"
   ]
  }
 ],
 "metadata": {
  "kernelspec": {
   "display_name": "Python 3 (ipykernel)",
   "language": "python",
   "name": "python3"
  },
  "language_info": {
   "codemirror_mode": {
    "name": "ipython",
    "version": 3
   },
   "file_extension": ".py",
   "mimetype": "text/x-python",
   "name": "python",
   "nbconvert_exporter": "python",
   "pygments_lexer": "ipython3",
   "version": "3.11.13"
  }
 },
 "nbformat": 4,
 "nbformat_minor": 5
}
