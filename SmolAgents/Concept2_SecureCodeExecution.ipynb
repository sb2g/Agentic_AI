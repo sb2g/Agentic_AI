{
 "cells": [
  {
   "cell_type": "markdown",
   "id": "01570a4e",
   "metadata": {},
   "source": [
    "## Reference\n",
    "- https://learn.deeplearning.ai/courses/building-code-agents-with-hugging-face-smolagents"
   ]
  },
  {
   "cell_type": "markdown",
   "id": "2e3d40e4-d087-4a00-a9fa-6292eee71fa5",
   "metadata": {},
   "source": [
    "## Overview: Secure Code Execution \n",
    "- This notebook shows how to perform secure code execution with `smolagents`, since coding agents carry more risk. It shows how to use:\n",
    "    - Built in python interpreter. (still not 100% safe)\n",
    "    - Secure/Remote Sandbox environment not in local env (cn be done with Docker / E2B sandbox)"
   ]
  },
  {
   "cell_type": "markdown",
   "id": "be3367aa-0368-446b-93af-fc6eb88dab96",
   "metadata": {},
   "source": [
    "## Show behavior of custom python interpreter"
   ]
  },
  {
   "cell_type": "code",
   "execution_count": 1,
   "id": "d3b41636-2c5a-415d-b444-14be6087df6a",
   "metadata": {
    "height": 31
   },
   "outputs": [],
   "source": [
    "#!pip install git+https://github.com/huggingface/smolagents.git"
   ]
  },
  {
   "cell_type": "code",
   "execution_count": 2,
   "id": "f9ff70b6-24a5-4063-aad8-74ca6f599b9e",
   "metadata": {
    "height": 65
   },
   "outputs": [],
   "source": [
    "from smolagents.local_python_executor import LocalPythonExecutor\n",
    "\n",
    "custom_executor = LocalPythonExecutor([\"numpy\"])"
   ]
  },
  {
   "cell_type": "code",
   "execution_count": 3,
   "id": "41d1ce58-9d2e-4349-acbd-49227e37d31c",
   "metadata": {
    "height": 99
   },
   "outputs": [],
   "source": [
    "def run_capture_exception(command: str):\n",
    "    try:\n",
    "        custom_executor(harmful_command)\n",
    "    except Exception as e:\n",
    "        print(\"ERROR:\\n\", e)"
   ]
  },
  {
   "cell_type": "code",
   "execution_count": 4,
   "id": "0f171b23-b3cc-48c9-a8ba-07358e271e63",
   "metadata": {
    "height": 65
   },
   "outputs": [
    {
     "name": "stdout",
     "output_type": "stream",
     "text": [
      "Bad command\r\n"
     ]
    }
   ],
   "source": [
    "# Example 1: non-defined command\n",
    "# In Jupyter it works\n",
    "!echo Bad command"
   ]
  },
  {
   "cell_type": "code",
   "execution_count": 5,
   "id": "9e00efd4-d48d-4dac-b629-ab6a4c198b73",
   "metadata": {
    "height": 65
   },
   "outputs": [
    {
     "name": "stdout",
     "output_type": "stream",
     "text": [
      "ERROR:\n",
      " Code parsing failed on line 1 due to: SyntaxError\n",
      "!echo Bad command\n",
      " ^\n",
      "Error: invalid syntax (<unknown>, line 1)\n"
     ]
    }
   ],
   "source": [
    "# In our interpreter, it does not.\n",
    "harmful_command=\"!echo Bad command\"\n",
    "run_capture_exception(harmful_command)"
   ]
  },
  {
   "cell_type": "code",
   "execution_count": 6,
   "id": "be89931a-7150-47c9-8885-97a89f758430",
   "metadata": {
    "height": 269
   },
   "outputs": [
    {
     "data": {
      "text/plain": [
       "['re',\n",
       " 'queue',\n",
       " 'random',\n",
       " 'statistics',\n",
       " 'unicodedata',\n",
       " 'itertools',\n",
       " 'math',\n",
       " 'stat',\n",
       " 'time',\n",
       " 'datetime',\n",
       " 'collections',\n",
       " 'numpy']"
      ]
     },
     "execution_count": 6,
     "metadata": {},
     "output_type": "execute_result"
    }
   ],
   "source": [
    "# White list of imports\n",
    "[\n",
    "    're',\n",
    "    'queue',\n",
    "    'random',\n",
    "    'statistics',\n",
    "    'unicodedata',\n",
    "    'itertools',\n",
    "    'math',\n",
    "    'stat',\n",
    "    'time',\n",
    "    'datetime',\n",
    "    'collections',\n",
    "    'numpy'\n",
    "]"
   ]
  },
  {
   "cell_type": "code",
   "execution_count": 7,
   "id": "cc73aa25-f14b-46d8-9a4d-10591f53d361",
   "metadata": {
    "height": 116
   },
   "outputs": [
    {
     "name": "stdout",
     "output_type": "stream",
     "text": [
      "ERROR:\n",
      " Code execution failed at line 'import os' due to: InterpreterError: Import of os is not allowed. Authorized imports are: ['queue', 'statistics', 'itertools', 'math', 'stat', 'numpy', 'collections', 'time', 'random', 're', 'datetime', 'unicodedata']\n"
     ]
    }
   ],
   "source": [
    "# Example 2: os not imported\n",
    "harmful_command=\"\"\"\n",
    "import os\n",
    "exit_code = os.system(\"echo Bad command\")\n",
    "\"\"\"\n",
    "run_capture_exception(harmful_command)"
   ]
  },
  {
   "cell_type": "code",
   "execution_count": 8,
   "id": "24a1fcb0-2642-45c3-804d-59d3ca4df491",
   "metadata": {
    "height": 116
   },
   "outputs": [
    {
     "name": "stdout",
     "output_type": "stream",
     "text": [
      "ERROR:\n",
      " Code execution failed at line 'random._os.system('echo Bad command')' due to: InterpreterError: Forbidden access to module: os\n"
     ]
    }
   ],
   "source": [
    "# Example 3: random._os.system not imported\n",
    "harmful_command=\"\"\"\n",
    "import random\n",
    "random._os.system('echo Bad command')\n",
    "\"\"\"\n",
    "run_capture_exception(harmful_command)"
   ]
  },
  {
   "cell_type": "code",
   "execution_count": 9,
   "id": "0c5e88e2-630c-497b-842a-f1c694a1af56",
   "metadata": {
    "height": 116
   },
   "outputs": [
    {
     "name": "stdout",
     "output_type": "stream",
     "text": [
      "ERROR:\n",
      " Code execution failed at line 'while True:\n",
      "    pass' due to: InterpreterError: Maximum number of 1000000 iterations in While loop exceeded\n"
     ]
    }
   ],
   "source": [
    "# Example 4: infinite loop\n",
    "harmful_command=\"\"\"\n",
    "while True:\n",
    "    pass\n",
    "\"\"\"\n",
    "run_capture_exception(harmful_command)"
   ]
  },
  {
   "cell_type": "code",
   "execution_count": 10,
   "id": "5d99f222-b67b-4eb9-b335-952b3b7a05dd",
   "metadata": {
    "height": 270
   },
   "outputs": [],
   "source": [
    "# Can fill the drive with malicious code\n",
    "\n",
    "custom_executor = LocalPythonExecutor([\"PIL\"])\n",
    "\n",
    "harmful_command=\"\"\"\n",
    "from PIL import Image\n",
    "\n",
    "img = Image.new('RGB', (100, 100), color='blue')\n",
    "\n",
    "i=0\n",
    "while i < 10000:\n",
    "    img.save('simple_image_{i}.png')\n",
    "    i += 1\n",
    "\"\"\"\n",
    "# custom_executor(harmful_command)\n",
    "# Let's not execute this but it would not error out, and it would bloat your system with images."
   ]
  },
  {
   "cell_type": "markdown",
   "id": "d62ae77b-6140-4c6c-9eaa-2b2ac99a9d09",
   "metadata": {},
   "source": [
    "## Running in a sandbox"
   ]
  },
  {
   "cell_type": "code",
   "execution_count": 11,
   "id": "05d52fa7-b538-4400-a342-224e6759c5eb",
   "metadata": {
    "height": 99
   },
   "outputs": [],
   "source": [
    "import os\n",
    "from dotenv import load_dotenv\n",
    "load_dotenv()\n",
    "\n",
    "E2B_API_KEY = os.getenv(\"E2B_API_KEY\")"
   ]
  },
  {
   "cell_type": "code",
   "execution_count": 12,
   "id": "cbf486ce-2aa6-4133-a421-c6dbd7fe0f9f",
   "metadata": {
    "height": 967
   },
   "outputs": [
    {
     "data": {
      "text/html": [
       "<pre style=\"white-space:pre;overflow-x:auto;line-height:normal;font-family:Menlo,'DejaVu Sans Mono',consolas,'Courier New',monospace\">Initializing executor, hold on<span style=\"color: #808000; text-decoration-color: #808000\">...</span>\n",
       "</pre>\n"
      ],
      "text/plain": [
       "Initializing executor, hold on\u001b[33m...\u001b[0m\n"
      ]
     },
     "metadata": {},
     "output_type": "display_data"
    },
    {
     "data": {
      "text/html": [
       "<pre style=\"white-space:pre;overflow-x:auto;line-height:normal;font-family:Menlo,'DejaVu Sans Mono',consolas,'Courier New',monospace\">Collecting smolagents\n",
       "\n",
       "  Downloading smolagents-<span style=\"color: #008080; text-decoration-color: #008080; font-weight: bold\">1.22</span>.<span style=\"color: #008080; text-decoration-color: #008080; font-weight: bold\">0</span>-py3-none-any.whl.metadata <span style=\"font-weight: bold\">(</span><span style=\"color: #008080; text-decoration-color: #008080; font-weight: bold\">16</span> kB<span style=\"font-weight: bold\">)</span>\n",
       "\n",
       "Collecting huggingface-hub&gt;=<span style=\"color: #008080; text-decoration-color: #008080; font-weight: bold\">0.31</span>.<span style=\"color: #008080; text-decoration-color: #008080; font-weight: bold\">2</span> <span style=\"font-weight: bold\">(</span>from smolagents<span style=\"font-weight: bold\">)</span>\n",
       "  Downloading huggingface_hub-<span style=\"color: #008080; text-decoration-color: #008080; font-weight: bold\">0.35</span>.<span style=\"color: #008080; text-decoration-color: #008080; font-weight: bold\">3</span>-py3-none-any.whl.metadata <span style=\"font-weight: bold\">(</span><span style=\"color: #008080; text-decoration-color: #008080; font-weight: bold\">14</span> kB<span style=\"font-weight: bold\">)</span>\n",
       "\n",
       "Requirement already satisfied: requests&gt;=<span style=\"color: #008080; text-decoration-color: #008080; font-weight: bold\">2.32</span>.<span style=\"color: #008080; text-decoration-color: #008080; font-weight: bold\">3</span> in <span style=\"color: #800080; text-decoration-color: #800080\">/usr/local/lib/python3.12/</span><span style=\"color: #ff00ff; text-decoration-color: #ff00ff\">site-packages</span> <span style=\"font-weight: bold\">(</span>from smolagents<span style=\"font-weight: bold\">)</span> \n",
       "<span style=\"font-weight: bold\">(</span><span style=\"color: #008080; text-decoration-color: #008080; font-weight: bold\">2.32</span>.<span style=\"color: #008080; text-decoration-color: #008080; font-weight: bold\">4</span><span style=\"font-weight: bold\">)</span>\n",
       "Requirement already satisfied: rich&gt;=<span style=\"color: #008080; text-decoration-color: #008080; font-weight: bold\">13.9</span>.<span style=\"color: #008080; text-decoration-color: #008080; font-weight: bold\">4</span> in <span style=\"color: #800080; text-decoration-color: #800080\">/usr/local/lib/python3.12/</span><span style=\"color: #ff00ff; text-decoration-color: #ff00ff\">site-packages</span> <span style=\"font-weight: bold\">(</span>from smolagents<span style=\"font-weight: bold\">)</span> <span style=\"font-weight: bold\">(</span><span style=\"color: #008080; text-decoration-color: #008080; font-weight: bold\">14.1</span>.<span style=\"color: #008080; text-decoration-color: #008080; font-weight: bold\">0</span><span style=\"font-weight: bold\">)</span>\n",
       "Requirement already satisfied: jinja2&gt;=<span style=\"color: #008080; text-decoration-color: #008080; font-weight: bold\">3.1</span>.<span style=\"color: #008080; text-decoration-color: #008080; font-weight: bold\">4</span> in <span style=\"color: #800080; text-decoration-color: #800080\">/usr/local/lib/python3.12/</span><span style=\"color: #ff00ff; text-decoration-color: #ff00ff\">site-packages</span> <span style=\"font-weight: bold\">(</span>from smolagents<span style=\"font-weight: bold\">)</span> <span style=\"font-weight: bold\">(</span><span style=\"color: #008080; text-decoration-color: #008080; font-weight: bold\">3.1</span>.<span style=\"color: #008080; text-decoration-color: #008080; font-weight: bold\">6</span><span style=\"font-weight: bold\">)</span>\n",
       "Requirement already satisfied: pillow&gt;=<span style=\"color: #008080; text-decoration-color: #008080; font-weight: bold\">10.0</span>.<span style=\"color: #008080; text-decoration-color: #008080; font-weight: bold\">1</span> in <span style=\"color: #800080; text-decoration-color: #800080\">/usr/local/lib/python3.12/</span><span style=\"color: #ff00ff; text-decoration-color: #ff00ff\">site-packages</span> <span style=\"font-weight: bold\">(</span>from smolagents<span style=\"font-weight: bold\">)</span> <span style=\"font-weight: bold\">(</span><span style=\"color: #008080; text-decoration-color: #008080; font-weight: bold\">11.3</span>.<span style=\"color: #008080; text-decoration-color: #008080; font-weight: bold\">0</span><span style=\"font-weight: bold\">)</span>\n",
       "Collecting python-dotenv <span style=\"font-weight: bold\">(</span>from smolagents<span style=\"font-weight: bold\">)</span>\n",
       "\n",
       "  Downloading python_dotenv-<span style=\"color: #008080; text-decoration-color: #008080; font-weight: bold\">1.1</span>.<span style=\"color: #008080; text-decoration-color: #008080; font-weight: bold\">1</span>-py3-none-any.whl.metadata <span style=\"font-weight: bold\">(</span><span style=\"color: #008080; text-decoration-color: #008080; font-weight: bold\">24</span> kB<span style=\"font-weight: bold\">)</span>\n",
       "Collecting filelock <span style=\"font-weight: bold\">(</span>from huggingface-hub&gt;=<span style=\"color: #008080; text-decoration-color: #008080; font-weight: bold\">0.31</span>.<span style=\"color: #008080; text-decoration-color: #008080; font-weight: bold\">2</span>-&gt;smolagents<span style=\"font-weight: bold\">)</span>\n",
       "\n",
       "  Downloading filelock-<span style=\"color: #008080; text-decoration-color: #008080; font-weight: bold\">3.20</span>.<span style=\"color: #008080; text-decoration-color: #008080; font-weight: bold\">0</span>-py3-none-any.whl.metadata <span style=\"font-weight: bold\">(</span><span style=\"color: #008080; text-decoration-color: #008080; font-weight: bold\">2.1</span> kB<span style=\"font-weight: bold\">)</span>\n",
       "\n",
       "Collecting fsspec&gt;=<span style=\"color: #008080; text-decoration-color: #008080; font-weight: bold\">2023.5</span>.<span style=\"color: #008080; text-decoration-color: #008080; font-weight: bold\">0</span> <span style=\"font-weight: bold\">(</span>from huggingface-hub&gt;=<span style=\"color: #008080; text-decoration-color: #008080; font-weight: bold\">0.31</span>.<span style=\"color: #008080; text-decoration-color: #008080; font-weight: bold\">2</span>-&gt;smolagents<span style=\"font-weight: bold\">)</span>\n",
       "  Downloading fsspec-<span style=\"color: #008080; text-decoration-color: #008080; font-weight: bold\">2025.9</span>.<span style=\"color: #008080; text-decoration-color: #008080; font-weight: bold\">0</span>-py3-none-any.whl.metadata <span style=\"font-weight: bold\">(</span><span style=\"color: #008080; text-decoration-color: #008080; font-weight: bold\">10</span> kB<span style=\"font-weight: bold\">)</span>\n",
       "\n",
       "Requirement already satisfied: packaging&gt;=<span style=\"color: #008080; text-decoration-color: #008080; font-weight: bold\">20.9</span> in <span style=\"color: #800080; text-decoration-color: #800080\">/usr/local/lib/python3.12/</span><span style=\"color: #ff00ff; text-decoration-color: #ff00ff\">site-packages</span> <span style=\"font-weight: bold\">(</span>from \n",
       "huggingface-hub&gt;=<span style=\"color: #008080; text-decoration-color: #008080; font-weight: bold\">0.31</span>.<span style=\"color: #008080; text-decoration-color: #008080; font-weight: bold\">2</span>-&gt;smolagents<span style=\"font-weight: bold\">)</span> <span style=\"font-weight: bold\">(</span><span style=\"color: #008080; text-decoration-color: #008080; font-weight: bold\">25.0</span><span style=\"font-weight: bold\">)</span>\n",
       "Requirement already satisfied: pyyaml&gt;=<span style=\"color: #008080; text-decoration-color: #008080; font-weight: bold\">5.1</span> in <span style=\"color: #800080; text-decoration-color: #800080\">/usr/local/lib/python3.12/</span><span style=\"color: #ff00ff; text-decoration-color: #ff00ff\">site-packages</span> <span style=\"font-weight: bold\">(</span>from \n",
       "huggingface-hub&gt;=<span style=\"color: #008080; text-decoration-color: #008080; font-weight: bold\">0.31</span>.<span style=\"color: #008080; text-decoration-color: #008080; font-weight: bold\">2</span>-&gt;smolagents<span style=\"font-weight: bold\">)</span> <span style=\"font-weight: bold\">(</span><span style=\"color: #008080; text-decoration-color: #008080; font-weight: bold\">6.0</span>.<span style=\"color: #008080; text-decoration-color: #008080; font-weight: bold\">2</span><span style=\"font-weight: bold\">)</span>\n",
       "Requirement already satisfied: tqdm&gt;=<span style=\"color: #008080; text-decoration-color: #008080; font-weight: bold\">4.42</span>.<span style=\"color: #008080; text-decoration-color: #008080; font-weight: bold\">1</span> in <span style=\"color: #800080; text-decoration-color: #800080\">/usr/local/lib/python3.12/</span><span style=\"color: #ff00ff; text-decoration-color: #ff00ff\">site-packages</span> <span style=\"font-weight: bold\">(</span>from \n",
       "huggingface-hub&gt;=<span style=\"color: #008080; text-decoration-color: #008080; font-weight: bold\">0.31</span>.<span style=\"color: #008080; text-decoration-color: #008080; font-weight: bold\">2</span>-&gt;smolagents<span style=\"font-weight: bold\">)</span> <span style=\"font-weight: bold\">(</span><span style=\"color: #008080; text-decoration-color: #008080; font-weight: bold\">4.67</span>.<span style=\"color: #008080; text-decoration-color: #008080; font-weight: bold\">1</span><span style=\"font-weight: bold\">)</span>\n",
       "Requirement already satisfied: typing-extensions&gt;=<span style=\"color: #00ff00; text-decoration-color: #00ff00; font-weight: bold\">3.7.4.3</span> in <span style=\"color: #800080; text-decoration-color: #800080\">/usr/local/lib/python3.12/</span><span style=\"color: #ff00ff; text-decoration-color: #ff00ff\">site-packages</span> <span style=\"font-weight: bold\">(</span>from \n",
       "huggingface-hub&gt;=<span style=\"color: #008080; text-decoration-color: #008080; font-weight: bold\">0.31</span>.<span style=\"color: #008080; text-decoration-color: #008080; font-weight: bold\">2</span>-&gt;smolagents<span style=\"font-weight: bold\">)</span> <span style=\"font-weight: bold\">(</span><span style=\"color: #008080; text-decoration-color: #008080; font-weight: bold\">4.14</span>.<span style=\"color: #008080; text-decoration-color: #008080; font-weight: bold\">1</span><span style=\"font-weight: bold\">)</span>\n",
       "\n",
       "Collecting hf-xet<span style=\"font-weight: bold\">&lt;</span><span style=\"color: #008080; text-decoration-color: #008080; font-weight: bold\">2.0</span><span style=\"color: #ff00ff; text-decoration-color: #ff00ff; font-weight: bold\">.</span><span style=\"color: #008080; text-decoration-color: #008080; font-weight: bold\">0</span><span style=\"color: #000000; text-decoration-color: #000000\">,&gt;=</span><span style=\"color: #008080; text-decoration-color: #008080; font-weight: bold\">1.1</span><span style=\"color: #000000; text-decoration-color: #000000\">.</span><span style=\"color: #008080; text-decoration-color: #008080; font-weight: bold\">3</span><span style=\"color: #000000; text-decoration-color: #000000\"> </span><span style=\"color: #000000; text-decoration-color: #000000; font-weight: bold\">(</span><span style=\"color: #000000; text-decoration-color: #000000\">from huggingface-hub&gt;=</span><span style=\"color: #008080; text-decoration-color: #008080; font-weight: bold\">0.31</span><span style=\"color: #000000; text-decoration-color: #000000\">.</span><span style=\"color: #008080; text-decoration-color: #008080; font-weight: bold\">2</span><span style=\"color: #000000; text-decoration-color: #000000\">-&gt;smolagents</span><span style=\"color: #000000; text-decoration-color: #000000; font-weight: bold\">)</span>\n",
       "<span style=\"color: #000000; text-decoration-color: #000000\">  Downloading hf_xet-</span><span style=\"color: #008080; text-decoration-color: #008080; font-weight: bold\">1.1</span><span style=\"color: #000000; text-decoration-color: #000000\">.</span><span style=\"color: #008080; text-decoration-color: #008080; font-weight: bold\">10</span><span style=\"color: #000000; text-decoration-color: #000000\">-cp37-abi3-manylinux_2_17_x86_64.manylinux2014_x86_64.whl.metadata </span><span style=\"color: #000000; text-decoration-color: #000000; font-weight: bold\">(</span><span style=\"color: #008080; text-decoration-color: #008080; font-weight: bold\">4.7</span><span style=\"color: #000000; text-decoration-color: #000000\"> kB</span><span style=\"color: #000000; text-decoration-color: #000000; font-weight: bold\">)</span>\n",
       "<span style=\"color: #000000; text-decoration-color: #000000\">Requirement already satisfied: MarkupSafe&gt;=</span><span style=\"color: #008080; text-decoration-color: #008080; font-weight: bold\">2.0</span><span style=\"color: #000000; text-decoration-color: #000000\"> in </span><span style=\"color: #800080; text-decoration-color: #800080\">/usr/local/lib/python3.12/</span><span style=\"color: #ff00ff; text-decoration-color: #ff00ff\">site-packages</span><span style=\"color: #000000; text-decoration-color: #000000\"> </span><span style=\"color: #000000; text-decoration-color: #000000; font-weight: bold\">(</span><span style=\"color: #000000; text-decoration-color: #000000\">from </span>\n",
       "<span style=\"color: #000000; text-decoration-color: #000000\">jinja2&gt;=</span><span style=\"color: #008080; text-decoration-color: #008080; font-weight: bold\">3.1</span><span style=\"color: #000000; text-decoration-color: #000000\">.</span><span style=\"color: #008080; text-decoration-color: #008080; font-weight: bold\">4</span><span style=\"color: #000000; text-decoration-color: #000000\">-&gt;smolagents</span><span style=\"color: #000000; text-decoration-color: #000000; font-weight: bold\">)</span><span style=\"color: #000000; text-decoration-color: #000000\"> </span><span style=\"color: #000000; text-decoration-color: #000000; font-weight: bold\">(</span><span style=\"color: #008080; text-decoration-color: #008080; font-weight: bold\">3.0</span><span style=\"color: #000000; text-decoration-color: #000000\">.</span><span style=\"color: #008080; text-decoration-color: #008080; font-weight: bold\">2</span><span style=\"color: #000000; text-decoration-color: #000000; font-weight: bold\">)</span>\n",
       "<span style=\"color: #000000; text-decoration-color: #000000\">Requirement already satisfied: charset_normalizer&lt;</span><span style=\"color: #008080; text-decoration-color: #008080; font-weight: bold\">4</span><span style=\"color: #000000; text-decoration-color: #000000\">,&gt;=</span><span style=\"color: #008080; text-decoration-color: #008080; font-weight: bold\">2</span><span style=\"color: #000000; text-decoration-color: #000000\"> in </span><span style=\"color: #800080; text-decoration-color: #800080\">/usr/local/lib/python3.12/</span><span style=\"color: #ff00ff; text-decoration-color: #ff00ff\">site-packages</span><span style=\"color: #000000; text-decoration-color: #000000\"> </span><span style=\"color: #000000; text-decoration-color: #000000; font-weight: bold\">(</span><span style=\"color: #000000; text-decoration-color: #000000\">from </span>\n",
       "<span style=\"color: #000000; text-decoration-color: #000000\">requests&gt;=</span><span style=\"color: #008080; text-decoration-color: #008080; font-weight: bold\">2.32</span><span style=\"color: #000000; text-decoration-color: #000000\">.</span><span style=\"color: #008080; text-decoration-color: #008080; font-weight: bold\">3</span><span style=\"color: #000000; text-decoration-color: #000000\">-&gt;smolagents</span><span style=\"color: #000000; text-decoration-color: #000000; font-weight: bold\">)</span><span style=\"color: #000000; text-decoration-color: #000000\"> </span><span style=\"color: #000000; text-decoration-color: #000000; font-weight: bold\">(</span><span style=\"color: #008080; text-decoration-color: #008080; font-weight: bold\">3.4</span><span style=\"color: #000000; text-decoration-color: #000000\">.</span><span style=\"color: #008080; text-decoration-color: #008080; font-weight: bold\">3</span><span style=\"color: #000000; text-decoration-color: #000000; font-weight: bold\">)</span>\n",
       "<span style=\"color: #000000; text-decoration-color: #000000\">Requirement already satisfied: idna&lt;</span><span style=\"color: #008080; text-decoration-color: #008080; font-weight: bold\">4</span><span style=\"color: #000000; text-decoration-color: #000000\">,&gt;=</span><span style=\"color: #008080; text-decoration-color: #008080; font-weight: bold\">2.5</span><span style=\"color: #000000; text-decoration-color: #000000\"> in </span><span style=\"color: #800080; text-decoration-color: #800080\">/usr/local/lib/python3.12/</span><span style=\"color: #ff00ff; text-decoration-color: #ff00ff\">site-packages</span><span style=\"color: #000000; text-decoration-color: #000000\"> </span><span style=\"color: #000000; text-decoration-color: #000000; font-weight: bold\">(</span><span style=\"color: #000000; text-decoration-color: #000000\">from </span>\n",
       "<span style=\"color: #000000; text-decoration-color: #000000\">requests&gt;=</span><span style=\"color: #008080; text-decoration-color: #008080; font-weight: bold\">2.32</span><span style=\"color: #000000; text-decoration-color: #000000\">.</span><span style=\"color: #008080; text-decoration-color: #008080; font-weight: bold\">3</span><span style=\"color: #000000; text-decoration-color: #000000\">-&gt;smolagents</span><span style=\"color: #000000; text-decoration-color: #000000; font-weight: bold\">)</span><span style=\"color: #000000; text-decoration-color: #000000\"> </span><span style=\"color: #000000; text-decoration-color: #000000; font-weight: bold\">(</span><span style=\"color: #008080; text-decoration-color: #008080; font-weight: bold\">3.10</span><span style=\"color: #000000; text-decoration-color: #000000; font-weight: bold\">)</span>\n",
       "<span style=\"color: #000000; text-decoration-color: #000000\">Requirement already satisfied: urllib3&lt;</span><span style=\"color: #008080; text-decoration-color: #008080; font-weight: bold\">3</span><span style=\"color: #000000; text-decoration-color: #000000\">,&gt;=</span><span style=\"color: #008080; text-decoration-color: #008080; font-weight: bold\">1.21</span><span style=\"color: #000000; text-decoration-color: #000000\">.</span><span style=\"color: #008080; text-decoration-color: #008080; font-weight: bold\">1</span><span style=\"color: #000000; text-decoration-color: #000000\"> in </span><span style=\"color: #800080; text-decoration-color: #800080\">/usr/local/lib/python3.12/</span><span style=\"color: #ff00ff; text-decoration-color: #ff00ff\">site-packages</span><span style=\"color: #000000; text-decoration-color: #000000\"> </span><span style=\"color: #000000; text-decoration-color: #000000; font-weight: bold\">(</span><span style=\"color: #000000; text-decoration-color: #000000\">from </span>\n",
       "<span style=\"color: #000000; text-decoration-color: #000000\">requests&gt;=</span><span style=\"color: #008080; text-decoration-color: #008080; font-weight: bold\">2.32</span><span style=\"color: #000000; text-decoration-color: #000000\">.</span><span style=\"color: #008080; text-decoration-color: #008080; font-weight: bold\">3</span><span style=\"color: #000000; text-decoration-color: #000000\">-&gt;smolagents</span><span style=\"color: #000000; text-decoration-color: #000000; font-weight: bold\">)</span><span style=\"color: #000000; text-decoration-color: #000000\"> </span><span style=\"color: #000000; text-decoration-color: #000000; font-weight: bold\">(</span><span style=\"color: #008080; text-decoration-color: #008080; font-weight: bold\">2.5</span><span style=\"color: #000000; text-decoration-color: #000000\">.</span><span style=\"color: #008080; text-decoration-color: #008080; font-weight: bold\">0</span><span style=\"color: #000000; text-decoration-color: #000000; font-weight: bold\">)</span>\n",
       "<span style=\"color: #000000; text-decoration-color: #000000\">Requirement already satisfied: certifi&gt;=</span><span style=\"color: #008080; text-decoration-color: #008080; font-weight: bold\">2017.4</span><span style=\"color: #000000; text-decoration-color: #000000\">.</span><span style=\"color: #008080; text-decoration-color: #008080; font-weight: bold\">17</span><span style=\"color: #000000; text-decoration-color: #000000\"> in </span><span style=\"color: #800080; text-decoration-color: #800080\">/usr/local/lib/python3.12/</span><span style=\"color: #ff00ff; text-decoration-color: #ff00ff\">site-packages</span><span style=\"color: #000000; text-decoration-color: #000000\"> </span><span style=\"color: #000000; text-decoration-color: #000000; font-weight: bold\">(</span><span style=\"color: #000000; text-decoration-color: #000000\">from </span>\n",
       "<span style=\"color: #000000; text-decoration-color: #000000\">requests&gt;=</span><span style=\"color: #008080; text-decoration-color: #008080; font-weight: bold\">2.32</span><span style=\"color: #000000; text-decoration-color: #000000\">.</span><span style=\"color: #008080; text-decoration-color: #008080; font-weight: bold\">3</span><span style=\"color: #000000; text-decoration-color: #000000\">-&gt;smolagents</span><span style=\"color: #000000; text-decoration-color: #000000; font-weight: bold\">)</span><span style=\"color: #000000; text-decoration-color: #000000\"> </span><span style=\"color: #000000; text-decoration-color: #000000; font-weight: bold\">(</span><span style=\"color: #008080; text-decoration-color: #008080; font-weight: bold\">2025.8</span><span style=\"color: #000000; text-decoration-color: #000000\">.</span><span style=\"color: #008080; text-decoration-color: #008080; font-weight: bold\">3</span><span style=\"color: #000000; text-decoration-color: #000000; font-weight: bold\">)</span>\n",
       "<span style=\"color: #000000; text-decoration-color: #000000\">Requirement already satisfied: markdown-it-py&gt;=</span><span style=\"color: #008080; text-decoration-color: #008080; font-weight: bold\">2.2</span><span style=\"color: #000000; text-decoration-color: #000000\">.</span><span style=\"color: #008080; text-decoration-color: #008080; font-weight: bold\">0</span><span style=\"color: #000000; text-decoration-color: #000000\"> in </span><span style=\"color: #800080; text-decoration-color: #800080\">/usr/local/lib/python3.12/</span><span style=\"color: #ff00ff; text-decoration-color: #ff00ff\">site-packages</span><span style=\"color: #000000; text-decoration-color: #000000\"> </span><span style=\"color: #000000; text-decoration-color: #000000; font-weight: bold\">(</span><span style=\"color: #000000; text-decoration-color: #000000\">from </span>\n",
       "<span style=\"color: #000000; text-decoration-color: #000000\">rich&gt;=</span><span style=\"color: #008080; text-decoration-color: #008080; font-weight: bold\">13.9</span><span style=\"color: #000000; text-decoration-color: #000000\">.</span><span style=\"color: #008080; text-decoration-color: #008080; font-weight: bold\">4</span><span style=\"color: #000000; text-decoration-color: #000000\">-&gt;smolagents</span><span style=\"color: #000000; text-decoration-color: #000000; font-weight: bold\">)</span><span style=\"color: #000000; text-decoration-color: #000000\"> </span><span style=\"color: #000000; text-decoration-color: #000000; font-weight: bold\">(</span><span style=\"color: #008080; text-decoration-color: #008080; font-weight: bold\">4.0</span><span style=\"color: #000000; text-decoration-color: #000000\">.</span><span style=\"color: #008080; text-decoration-color: #008080; font-weight: bold\">0</span><span style=\"color: #000000; text-decoration-color: #000000; font-weight: bold\">)</span>\n",
       "<span style=\"color: #000000; text-decoration-color: #000000\">Requirement already satisfied: pygments&lt;</span><span style=\"color: #008080; text-decoration-color: #008080; font-weight: bold\">3.0</span><span style=\"color: #000000; text-decoration-color: #000000\">.</span><span style=\"color: #008080; text-decoration-color: #008080; font-weight: bold\">0</span><span style=\"color: #000000; text-decoration-color: #000000\">,&gt;=</span><span style=\"color: #008080; text-decoration-color: #008080; font-weight: bold\">2.13</span><span style=\"color: #000000; text-decoration-color: #000000\">.</span><span style=\"color: #008080; text-decoration-color: #008080; font-weight: bold\">0</span><span style=\"color: #000000; text-decoration-color: #000000\"> in </span><span style=\"color: #800080; text-decoration-color: #800080\">/usr/local/lib/python3.12/</span><span style=\"color: #ff00ff; text-decoration-color: #ff00ff\">site-packages</span><span style=\"color: #000000; text-decoration-color: #000000\"> </span><span style=\"color: #000000; text-decoration-color: #000000; font-weight: bold\">(</span><span style=\"color: #000000; text-decoration-color: #000000\">from </span>\n",
       "<span style=\"color: #000000; text-decoration-color: #000000\">rich&gt;=</span><span style=\"color: #008080; text-decoration-color: #008080; font-weight: bold\">13.9</span><span style=\"color: #000000; text-decoration-color: #000000\">.</span><span style=\"color: #008080; text-decoration-color: #008080; font-weight: bold\">4</span><span style=\"color: #000000; text-decoration-color: #000000\">-&gt;smolagents</span><span style=\"color: #000000; text-decoration-color: #000000; font-weight: bold\">)</span><span style=\"color: #000000; text-decoration-color: #000000\"> </span><span style=\"color: #000000; text-decoration-color: #000000; font-weight: bold\">(</span><span style=\"color: #008080; text-decoration-color: #008080; font-weight: bold\">2.19</span><span style=\"color: #000000; text-decoration-color: #000000\">.</span><span style=\"color: #008080; text-decoration-color: #008080; font-weight: bold\">2</span><span style=\"color: #000000; text-decoration-color: #000000; font-weight: bold\">)</span>\n",
       "<span style=\"color: #000000; text-decoration-color: #000000\">Requirement already satisfied: mdurl~=</span><span style=\"color: #008080; text-decoration-color: #008080; font-weight: bold\">0.1</span><span style=\"color: #000000; text-decoration-color: #000000\"> in </span><span style=\"color: #800080; text-decoration-color: #800080\">/usr/local/lib/python3.12/</span><span style=\"color: #ff00ff; text-decoration-color: #ff00ff\">site-packages</span><span style=\"color: #000000; text-decoration-color: #000000\"> </span><span style=\"color: #000000; text-decoration-color: #000000; font-weight: bold\">(</span><span style=\"color: #000000; text-decoration-color: #000000\">from </span>\n",
       "<span style=\"color: #000000; text-decoration-color: #000000\">markdown-it-py&gt;=</span><span style=\"color: #008080; text-decoration-color: #008080; font-weight: bold\">2.2</span><span style=\"color: #000000; text-decoration-color: #000000\">.</span><span style=\"color: #008080; text-decoration-color: #008080; font-weight: bold\">0</span><span style=\"color: #000000; text-decoration-color: #000000\">-&gt;rich&gt;=</span><span style=\"color: #008080; text-decoration-color: #008080; font-weight: bold\">13.9</span><span style=\"color: #000000; text-decoration-color: #000000\">.</span><span style=\"color: #008080; text-decoration-color: #008080; font-weight: bold\">4</span><span style=\"color: #000000; text-decoration-color: #000000\">-</span><span style=\"font-weight: bold\">&gt;</span>smolagents<span style=\"font-weight: bold\">)</span> <span style=\"font-weight: bold\">(</span><span style=\"color: #008080; text-decoration-color: #008080; font-weight: bold\">0.1</span>.<span style=\"color: #008080; text-decoration-color: #008080; font-weight: bold\">2</span><span style=\"font-weight: bold\">)</span>\n",
       "\n",
       "Downloading smolagents-<span style=\"color: #008080; text-decoration-color: #008080; font-weight: bold\">1.22</span>.<span style=\"color: #008080; text-decoration-color: #008080; font-weight: bold\">0</span>-py3-none-any.whl <span style=\"font-weight: bold\">(</span><span style=\"color: #008080; text-decoration-color: #008080; font-weight: bold\">149</span> kB<span style=\"font-weight: bold\">)</span>\n",
       "\n",
       "Downloading huggingface_hub-<span style=\"color: #008080; text-decoration-color: #008080; font-weight: bold\">0.35</span>.<span style=\"color: #008080; text-decoration-color: #008080; font-weight: bold\">3</span>-py3-none-any.whl <span style=\"font-weight: bold\">(</span><span style=\"color: #008080; text-decoration-color: #008080; font-weight: bold\">564</span> kB<span style=\"font-weight: bold\">)</span>\n",
       "\u001b<span style=\"font-weight: bold\">[</span>?25l   \u001b<span style=\"font-weight: bold\">[</span>90m━━━━━━━━━━━━━━━━━━━━━━━━━━━━━━━━━━━━━━━━\u001b<span style=\"font-weight: bold\">[</span>0m \u001b<span style=\"font-weight: bold\">[</span>32m0.<span style=\"color: #008080; text-decoration-color: #008080; font-weight: bold\">0</span>/<span style=\"color: #008080; text-decoration-color: #008080; font-weight: bold\">564.3</span> kB\u001b<span style=\"font-weight: bold\">[</span>0m \u001b<span style=\"font-weight: bold\">[</span>31m?\u001b<span style=\"font-weight: bold\">[</span>0m eta \u001b<span style=\"font-weight: bold\">[</span>36m-:--:--\u001b<span style=\"font-weight: bold\">[</span>0m\u001b<span style=\"font-weight: bold\">[</span>2K\n",
       "\u001b<span style=\"font-weight: bold\">[</span>90m━━━━━━━━━━━━━━━━━━━━━━━━━━━━━━━━━━━━━━━━\u001b<span style=\"font-weight: bold\">[</span>0m \u001b<span style=\"font-weight: bold\">[</span>32m564.<span style=\"color: #008080; text-decoration-color: #008080; font-weight: bold\">3</span>/<span style=\"color: #008080; text-decoration-color: #008080; font-weight: bold\">564.3</span> kB\u001b<span style=\"font-weight: bold\">[</span>0m \u001b<span style=\"font-weight: bold\">[</span>31m72.<span style=\"color: #008080; text-decoration-color: #008080; font-weight: bold\">9</span> MB/s\u001b<span style=\"font-weight: bold\">[</span>0m eta \u001b<span style=\"font-weight: bold\">[</span>36m<span style=\"color: #00ff00; text-decoration-color: #00ff00; font-weight: bold\">0:00:00</span>\u001b<span style=\"font-weight: bold\">[</span>0m\n",
       "\u001b<span style=\"font-weight: bold\">[</span>?25hDownloading python_dotenv-<span style=\"color: #008080; text-decoration-color: #008080; font-weight: bold\">1.1</span>.<span style=\"color: #008080; text-decoration-color: #008080; font-weight: bold\">1</span>-py3-none-any.whl <span style=\"font-weight: bold\">(</span><span style=\"color: #008080; text-decoration-color: #008080; font-weight: bold\">20</span> kB<span style=\"font-weight: bold\">)</span>\n",
       "Downloading fsspec-<span style=\"color: #008080; text-decoration-color: #008080; font-weight: bold\">2025.9</span>.<span style=\"color: #008080; text-decoration-color: #008080; font-weight: bold\">0</span>-py3-none-any.whl <span style=\"font-weight: bold\">(</span><span style=\"color: #008080; text-decoration-color: #008080; font-weight: bold\">199</span> kB<span style=\"font-weight: bold\">)</span>\n",
       "\n",
       "Downloading hf_xet-<span style=\"color: #008080; text-decoration-color: #008080; font-weight: bold\">1.1</span>.<span style=\"color: #008080; text-decoration-color: #008080; font-weight: bold\">10</span>-cp37-abi3-manylinux_2_17_x86_64.manylinux2014_x86_64.whl <span style=\"font-weight: bold\">(</span><span style=\"color: #008080; text-decoration-color: #008080; font-weight: bold\">3.2</span> MB<span style=\"font-weight: bold\">)</span>\n",
       "\u001b<span style=\"font-weight: bold\">[</span>?25l   \u001b<span style=\"font-weight: bold\">[</span>90m━━━━━━━━━━━━━━━━━━━━━━━━━━━━━━━━━━━━━━━━\u001b<span style=\"font-weight: bold\">[</span>0m \u001b<span style=\"font-weight: bold\">[</span>32m0.<span style=\"color: #008080; text-decoration-color: #008080; font-weight: bold\">0</span>/<span style=\"color: #008080; text-decoration-color: #008080; font-weight: bold\">3.2</span> MB\u001b<span style=\"font-weight: bold\">[</span>0m \u001b<span style=\"font-weight: bold\">[</span>31m?\u001b<span style=\"font-weight: bold\">[</span>0m eta \u001b<span style=\"font-weight: bold\">[</span>36m-:--:--\u001b<span style=\"font-weight: bold\">[</span>0m\u001b<span style=\"font-weight: bold\">[</span>2K \n",
       "\u001b<span style=\"font-weight: bold\">[</span>90m━━━━━━━━━━━━━━━━━━━━━━━━━━━━━━━━━━━━━━━━\u001b<span style=\"font-weight: bold\">[</span>0m \u001b<span style=\"font-weight: bold\">[</span>32m3.<span style=\"color: #008080; text-decoration-color: #008080; font-weight: bold\">2</span>/<span style=\"color: #008080; text-decoration-color: #008080; font-weight: bold\">3.2</span> MB\u001b<span style=\"font-weight: bold\">[</span>0m \u001b<span style=\"font-weight: bold\">[</span>31m147.<span style=\"color: #008080; text-decoration-color: #008080; font-weight: bold\">4</span> MB/s\u001b<span style=\"font-weight: bold\">[</span>0m eta \u001b<span style=\"font-weight: bold\">[</span>36m<span style=\"color: #00ff00; text-decoration-color: #00ff00; font-weight: bold\">0:00:00</span>\u001b<span style=\"font-weight: bold\">[</span>0m\n",
       "\u001b<span style=\"font-weight: bold\">[</span>?25hDownloading filelock-<span style=\"color: #008080; text-decoration-color: #008080; font-weight: bold\">3.20</span>.<span style=\"color: #008080; text-decoration-color: #008080; font-weight: bold\">0</span>-py3-none-any.whl <span style=\"font-weight: bold\">(</span><span style=\"color: #008080; text-decoration-color: #008080; font-weight: bold\">16</span> kB<span style=\"font-weight: bold\">)</span>\n",
       "\n",
       "Installing collected packages: python-dotenv, hf-xet, fsspec, filelock, huggingface-hub, smolagents\n",
       "\n",
       "Successfully installed filelock-<span style=\"color: #008080; text-decoration-color: #008080; font-weight: bold\">3.20</span>.<span style=\"color: #008080; text-decoration-color: #008080; font-weight: bold\">0</span> fsspec-<span style=\"color: #008080; text-decoration-color: #008080; font-weight: bold\">2025.9</span>.<span style=\"color: #008080; text-decoration-color: #008080; font-weight: bold\">0</span> hf-xet-<span style=\"color: #008080; text-decoration-color: #008080; font-weight: bold\">1.1</span>.<span style=\"color: #008080; text-decoration-color: #008080; font-weight: bold\">10</span> huggingface-hub-<span style=\"color: #008080; text-decoration-color: #008080; font-weight: bold\">0.35</span>.<span style=\"color: #008080; text-decoration-color: #008080; font-weight: bold\">3</span> python-dotenv-<span style=\"color: #008080; text-decoration-color: #008080; font-weight: bold\">1.1</span>.<span style=\"color: #008080; text-decoration-color: #008080; font-weight: bold\">1</span> \n",
       "smolagents-<span style=\"color: #008080; text-decoration-color: #008080; font-weight: bold\">1.22</span>.<span style=\"color: #008080; text-decoration-color: #008080; font-weight: bold\">0</span>\n",
       "\u001b<span style=\"font-weight: bold\">[</span>33mWARNING: Running pip as the <span style=\"color: #008000; text-decoration-color: #008000\">'root'</span> user can result in broken permissions and conflicting behaviour with the \n",
       "system package manager, possibly rendering your system unusable. It is recommended to use a virtual environment \n",
       "instead: <span style=\"color: #0000ff; text-decoration-color: #0000ff; text-decoration: underline\">https://pip.pypa.io/warnings/venv.</span> Use the --root-user-action option if you know what you are doing and \n",
       "want to suppress this warning.\u001b<span style=\"font-weight: bold\">[</span>0m\u001b<span style=\"font-weight: bold\">[</span>33m\n",
       "\u001b<span style=\"font-weight: bold\">[</span>0m\n",
       "</pre>\n"
      ],
      "text/plain": [
       "Collecting smolagents\n",
       "\n",
       "  Downloading smolagents-\u001b[1;36m1.22\u001b[0m.\u001b[1;36m0\u001b[0m-py3-none-any.whl.metadata \u001b[1m(\u001b[0m\u001b[1;36m16\u001b[0m kB\u001b[1m)\u001b[0m\n",
       "\n",
       "Collecting huggingface-hub>=\u001b[1;36m0.31\u001b[0m.\u001b[1;36m2\u001b[0m \u001b[1m(\u001b[0mfrom smolagents\u001b[1m)\u001b[0m\n",
       "  Downloading huggingface_hub-\u001b[1;36m0.35\u001b[0m.\u001b[1;36m3\u001b[0m-py3-none-any.whl.metadata \u001b[1m(\u001b[0m\u001b[1;36m14\u001b[0m kB\u001b[1m)\u001b[0m\n",
       "\n",
       "Requirement already satisfied: requests>=\u001b[1;36m2.32\u001b[0m.\u001b[1;36m3\u001b[0m in \u001b[35m/usr/local/lib/python3.12/\u001b[0m\u001b[95msite-packages\u001b[0m \u001b[1m(\u001b[0mfrom smolagents\u001b[1m)\u001b[0m \n",
       "\u001b[1m(\u001b[0m\u001b[1;36m2.32\u001b[0m.\u001b[1;36m4\u001b[0m\u001b[1m)\u001b[0m\n",
       "Requirement already satisfied: rich>=\u001b[1;36m13.9\u001b[0m.\u001b[1;36m4\u001b[0m in \u001b[35m/usr/local/lib/python3.12/\u001b[0m\u001b[95msite-packages\u001b[0m \u001b[1m(\u001b[0mfrom smolagents\u001b[1m)\u001b[0m \u001b[1m(\u001b[0m\u001b[1;36m14.1\u001b[0m.\u001b[1;36m0\u001b[0m\u001b[1m)\u001b[0m\n",
       "Requirement already satisfied: jinja2>=\u001b[1;36m3.1\u001b[0m.\u001b[1;36m4\u001b[0m in \u001b[35m/usr/local/lib/python3.12/\u001b[0m\u001b[95msite-packages\u001b[0m \u001b[1m(\u001b[0mfrom smolagents\u001b[1m)\u001b[0m \u001b[1m(\u001b[0m\u001b[1;36m3.1\u001b[0m.\u001b[1;36m6\u001b[0m\u001b[1m)\u001b[0m\n",
       "Requirement already satisfied: pillow>=\u001b[1;36m10.0\u001b[0m.\u001b[1;36m1\u001b[0m in \u001b[35m/usr/local/lib/python3.12/\u001b[0m\u001b[95msite-packages\u001b[0m \u001b[1m(\u001b[0mfrom smolagents\u001b[1m)\u001b[0m \u001b[1m(\u001b[0m\u001b[1;36m11.3\u001b[0m.\u001b[1;36m0\u001b[0m\u001b[1m)\u001b[0m\n",
       "Collecting python-dotenv \u001b[1m(\u001b[0mfrom smolagents\u001b[1m)\u001b[0m\n",
       "\n",
       "  Downloading python_dotenv-\u001b[1;36m1.1\u001b[0m.\u001b[1;36m1\u001b[0m-py3-none-any.whl.metadata \u001b[1m(\u001b[0m\u001b[1;36m24\u001b[0m kB\u001b[1m)\u001b[0m\n",
       "Collecting filelock \u001b[1m(\u001b[0mfrom huggingface-hub>=\u001b[1;36m0.31\u001b[0m.\u001b[1;36m2\u001b[0m->smolagents\u001b[1m)\u001b[0m\n",
       "\n",
       "  Downloading filelock-\u001b[1;36m3.20\u001b[0m.\u001b[1;36m0\u001b[0m-py3-none-any.whl.metadata \u001b[1m(\u001b[0m\u001b[1;36m2.1\u001b[0m kB\u001b[1m)\u001b[0m\n",
       "\n",
       "Collecting fsspec>=\u001b[1;36m2023.5\u001b[0m.\u001b[1;36m0\u001b[0m \u001b[1m(\u001b[0mfrom huggingface-hub>=\u001b[1;36m0.31\u001b[0m.\u001b[1;36m2\u001b[0m->smolagents\u001b[1m)\u001b[0m\n",
       "  Downloading fsspec-\u001b[1;36m2025.9\u001b[0m.\u001b[1;36m0\u001b[0m-py3-none-any.whl.metadata \u001b[1m(\u001b[0m\u001b[1;36m10\u001b[0m kB\u001b[1m)\u001b[0m\n",
       "\n",
       "Requirement already satisfied: packaging>=\u001b[1;36m20.9\u001b[0m in \u001b[35m/usr/local/lib/python3.12/\u001b[0m\u001b[95msite-packages\u001b[0m \u001b[1m(\u001b[0mfrom \n",
       "huggingface-hub>=\u001b[1;36m0.31\u001b[0m.\u001b[1;36m2\u001b[0m->smolagents\u001b[1m)\u001b[0m \u001b[1m(\u001b[0m\u001b[1;36m25.0\u001b[0m\u001b[1m)\u001b[0m\n",
       "Requirement already satisfied: pyyaml>=\u001b[1;36m5.1\u001b[0m in \u001b[35m/usr/local/lib/python3.12/\u001b[0m\u001b[95msite-packages\u001b[0m \u001b[1m(\u001b[0mfrom \n",
       "huggingface-hub>=\u001b[1;36m0.31\u001b[0m.\u001b[1;36m2\u001b[0m->smolagents\u001b[1m)\u001b[0m \u001b[1m(\u001b[0m\u001b[1;36m6.0\u001b[0m.\u001b[1;36m2\u001b[0m\u001b[1m)\u001b[0m\n",
       "Requirement already satisfied: tqdm>=\u001b[1;36m4.42\u001b[0m.\u001b[1;36m1\u001b[0m in \u001b[35m/usr/local/lib/python3.12/\u001b[0m\u001b[95msite-packages\u001b[0m \u001b[1m(\u001b[0mfrom \n",
       "huggingface-hub>=\u001b[1;36m0.31\u001b[0m.\u001b[1;36m2\u001b[0m->smolagents\u001b[1m)\u001b[0m \u001b[1m(\u001b[0m\u001b[1;36m4.67\u001b[0m.\u001b[1;36m1\u001b[0m\u001b[1m)\u001b[0m\n",
       "Requirement already satisfied: typing-extensions>=\u001b[1;92m3.7.4.3\u001b[0m in \u001b[35m/usr/local/lib/python3.12/\u001b[0m\u001b[95msite-packages\u001b[0m \u001b[1m(\u001b[0mfrom \n",
       "huggingface-hub>=\u001b[1;36m0.31\u001b[0m.\u001b[1;36m2\u001b[0m->smolagents\u001b[1m)\u001b[0m \u001b[1m(\u001b[0m\u001b[1;36m4.14\u001b[0m.\u001b[1;36m1\u001b[0m\u001b[1m)\u001b[0m\n",
       "\n",
       "Collecting hf-xet\u001b[1m<\u001b[0m\u001b[1;36m2.0\u001b[0m\u001b[1;95m.\u001b[0m\u001b[1;36m0\u001b[0m\u001b[39m,>=\u001b[0m\u001b[1;36m1.1\u001b[0m\u001b[39m.\u001b[0m\u001b[1;36m3\u001b[0m\u001b[39m \u001b[0m\u001b[1;39m(\u001b[0m\u001b[39mfrom huggingface-hub>=\u001b[0m\u001b[1;36m0.31\u001b[0m\u001b[39m.\u001b[0m\u001b[1;36m2\u001b[0m\u001b[39m->smolagents\u001b[0m\u001b[1;39m)\u001b[0m\n",
       "\u001b[39m  Downloading hf_xet-\u001b[0m\u001b[1;36m1.1\u001b[0m\u001b[39m.\u001b[0m\u001b[1;36m10\u001b[0m\u001b[39m-cp37-abi3-manylinux_2_17_x86_64.manylinux2014_x86_64.whl.metadata \u001b[0m\u001b[1;39m(\u001b[0m\u001b[1;36m4.7\u001b[0m\u001b[39m kB\u001b[0m\u001b[1;39m)\u001b[0m\n",
       "\u001b[39mRequirement already satisfied: MarkupSafe>=\u001b[0m\u001b[1;36m2.0\u001b[0m\u001b[39m in \u001b[0m\u001b[35m/usr/local/lib/python3.12/\u001b[0m\u001b[95msite-packages\u001b[0m\u001b[39m \u001b[0m\u001b[1;39m(\u001b[0m\u001b[39mfrom \u001b[0m\n",
       "\u001b[39mjinja2>=\u001b[0m\u001b[1;36m3.1\u001b[0m\u001b[39m.\u001b[0m\u001b[1;36m4\u001b[0m\u001b[39m->smolagents\u001b[0m\u001b[1;39m)\u001b[0m\u001b[39m \u001b[0m\u001b[1;39m(\u001b[0m\u001b[1;36m3.0\u001b[0m\u001b[39m.\u001b[0m\u001b[1;36m2\u001b[0m\u001b[1;39m)\u001b[0m\n",
       "\u001b[39mRequirement already satisfied: charset_normalizer<\u001b[0m\u001b[1;36m4\u001b[0m\u001b[39m,>=\u001b[0m\u001b[1;36m2\u001b[0m\u001b[39m in \u001b[0m\u001b[35m/usr/local/lib/python3.12/\u001b[0m\u001b[95msite-packages\u001b[0m\u001b[39m \u001b[0m\u001b[1;39m(\u001b[0m\u001b[39mfrom \u001b[0m\n",
       "\u001b[39mrequests>=\u001b[0m\u001b[1;36m2.32\u001b[0m\u001b[39m.\u001b[0m\u001b[1;36m3\u001b[0m\u001b[39m->smolagents\u001b[0m\u001b[1;39m)\u001b[0m\u001b[39m \u001b[0m\u001b[1;39m(\u001b[0m\u001b[1;36m3.4\u001b[0m\u001b[39m.\u001b[0m\u001b[1;36m3\u001b[0m\u001b[1;39m)\u001b[0m\n",
       "\u001b[39mRequirement already satisfied: idna<\u001b[0m\u001b[1;36m4\u001b[0m\u001b[39m,>=\u001b[0m\u001b[1;36m2.5\u001b[0m\u001b[39m in \u001b[0m\u001b[35m/usr/local/lib/python3.12/\u001b[0m\u001b[95msite-packages\u001b[0m\u001b[39m \u001b[0m\u001b[1;39m(\u001b[0m\u001b[39mfrom \u001b[0m\n",
       "\u001b[39mrequests>=\u001b[0m\u001b[1;36m2.32\u001b[0m\u001b[39m.\u001b[0m\u001b[1;36m3\u001b[0m\u001b[39m->smolagents\u001b[0m\u001b[1;39m)\u001b[0m\u001b[39m \u001b[0m\u001b[1;39m(\u001b[0m\u001b[1;36m3.10\u001b[0m\u001b[1;39m)\u001b[0m\n",
       "\u001b[39mRequirement already satisfied: urllib3<\u001b[0m\u001b[1;36m3\u001b[0m\u001b[39m,>=\u001b[0m\u001b[1;36m1.21\u001b[0m\u001b[39m.\u001b[0m\u001b[1;36m1\u001b[0m\u001b[39m in \u001b[0m\u001b[35m/usr/local/lib/python3.12/\u001b[0m\u001b[95msite-packages\u001b[0m\u001b[39m \u001b[0m\u001b[1;39m(\u001b[0m\u001b[39mfrom \u001b[0m\n",
       "\u001b[39mrequests>=\u001b[0m\u001b[1;36m2.32\u001b[0m\u001b[39m.\u001b[0m\u001b[1;36m3\u001b[0m\u001b[39m->smolagents\u001b[0m\u001b[1;39m)\u001b[0m\u001b[39m \u001b[0m\u001b[1;39m(\u001b[0m\u001b[1;36m2.5\u001b[0m\u001b[39m.\u001b[0m\u001b[1;36m0\u001b[0m\u001b[1;39m)\u001b[0m\n",
       "\u001b[39mRequirement already satisfied: certifi>=\u001b[0m\u001b[1;36m2017.4\u001b[0m\u001b[39m.\u001b[0m\u001b[1;36m17\u001b[0m\u001b[39m in \u001b[0m\u001b[35m/usr/local/lib/python3.12/\u001b[0m\u001b[95msite-packages\u001b[0m\u001b[39m \u001b[0m\u001b[1;39m(\u001b[0m\u001b[39mfrom \u001b[0m\n",
       "\u001b[39mrequests>=\u001b[0m\u001b[1;36m2.32\u001b[0m\u001b[39m.\u001b[0m\u001b[1;36m3\u001b[0m\u001b[39m->smolagents\u001b[0m\u001b[1;39m)\u001b[0m\u001b[39m \u001b[0m\u001b[1;39m(\u001b[0m\u001b[1;36m2025.8\u001b[0m\u001b[39m.\u001b[0m\u001b[1;36m3\u001b[0m\u001b[1;39m)\u001b[0m\n",
       "\u001b[39mRequirement already satisfied: markdown-it-py>=\u001b[0m\u001b[1;36m2.2\u001b[0m\u001b[39m.\u001b[0m\u001b[1;36m0\u001b[0m\u001b[39m in \u001b[0m\u001b[35m/usr/local/lib/python3.12/\u001b[0m\u001b[95msite-packages\u001b[0m\u001b[39m \u001b[0m\u001b[1;39m(\u001b[0m\u001b[39mfrom \u001b[0m\n",
       "\u001b[39mrich>=\u001b[0m\u001b[1;36m13.9\u001b[0m\u001b[39m.\u001b[0m\u001b[1;36m4\u001b[0m\u001b[39m->smolagents\u001b[0m\u001b[1;39m)\u001b[0m\u001b[39m \u001b[0m\u001b[1;39m(\u001b[0m\u001b[1;36m4.0\u001b[0m\u001b[39m.\u001b[0m\u001b[1;36m0\u001b[0m\u001b[1;39m)\u001b[0m\n",
       "\u001b[39mRequirement already satisfied: pygments<\u001b[0m\u001b[1;36m3.0\u001b[0m\u001b[39m.\u001b[0m\u001b[1;36m0\u001b[0m\u001b[39m,>=\u001b[0m\u001b[1;36m2.13\u001b[0m\u001b[39m.\u001b[0m\u001b[1;36m0\u001b[0m\u001b[39m in \u001b[0m\u001b[35m/usr/local/lib/python3.12/\u001b[0m\u001b[95msite-packages\u001b[0m\u001b[39m \u001b[0m\u001b[1;39m(\u001b[0m\u001b[39mfrom \u001b[0m\n",
       "\u001b[39mrich>=\u001b[0m\u001b[1;36m13.9\u001b[0m\u001b[39m.\u001b[0m\u001b[1;36m4\u001b[0m\u001b[39m->smolagents\u001b[0m\u001b[1;39m)\u001b[0m\u001b[39m \u001b[0m\u001b[1;39m(\u001b[0m\u001b[1;36m2.19\u001b[0m\u001b[39m.\u001b[0m\u001b[1;36m2\u001b[0m\u001b[1;39m)\u001b[0m\n",
       "\u001b[39mRequirement already satisfied: mdurl~=\u001b[0m\u001b[1;36m0.1\u001b[0m\u001b[39m in \u001b[0m\u001b[35m/usr/local/lib/python3.12/\u001b[0m\u001b[95msite-packages\u001b[0m\u001b[39m \u001b[0m\u001b[1;39m(\u001b[0m\u001b[39mfrom \u001b[0m\n",
       "\u001b[39mmarkdown-it-py>=\u001b[0m\u001b[1;36m2.2\u001b[0m\u001b[39m.\u001b[0m\u001b[1;36m0\u001b[0m\u001b[39m->rich>=\u001b[0m\u001b[1;36m13.9\u001b[0m\u001b[39m.\u001b[0m\u001b[1;36m4\u001b[0m\u001b[39m-\u001b[0m\u001b[1m>\u001b[0msmolagents\u001b[1m)\u001b[0m \u001b[1m(\u001b[0m\u001b[1;36m0.1\u001b[0m.\u001b[1;36m2\u001b[0m\u001b[1m)\u001b[0m\n",
       "\n",
       "Downloading smolagents-\u001b[1;36m1.22\u001b[0m.\u001b[1;36m0\u001b[0m-py3-none-any.whl \u001b[1m(\u001b[0m\u001b[1;36m149\u001b[0m kB\u001b[1m)\u001b[0m\n",
       "\n",
       "Downloading huggingface_hub-\u001b[1;36m0.35\u001b[0m.\u001b[1;36m3\u001b[0m-py3-none-any.whl \u001b[1m(\u001b[0m\u001b[1;36m564\u001b[0m kB\u001b[1m)\u001b[0m\n",
       "\u001b\u001b[1m[\u001b[0m?25l   \u001b\u001b[1m[\u001b[0m90m━━━━━━━━━━━━━━━━━━━━━━━━━━━━━━━━━━━━━━━━\u001b\u001b[1m[\u001b[0m0m \u001b\u001b[1m[\u001b[0m32m0.\u001b[1;36m0\u001b[0m/\u001b[1;36m564.3\u001b[0m kB\u001b\u001b[1m[\u001b[0m0m \u001b\u001b[1m[\u001b[0m31m?\u001b\u001b[1m[\u001b[0m0m eta \u001b\u001b[1m[\u001b[0m36m-:--:--\u001b\u001b[1m[\u001b[0m0m\u001b\u001b[1m[\u001b[0m2K\n",
       "\u001b\u001b[1m[\u001b[0m90m━━━━━━━━━━━━━━━━━━━━━━━━━━━━━━━━━━━━━━━━\u001b\u001b[1m[\u001b[0m0m \u001b\u001b[1m[\u001b[0m32m564.\u001b[1;36m3\u001b[0m/\u001b[1;36m564.3\u001b[0m kB\u001b\u001b[1m[\u001b[0m0m \u001b\u001b[1m[\u001b[0m31m72.\u001b[1;36m9\u001b[0m MB/s\u001b\u001b[1m[\u001b[0m0m eta \u001b\u001b[1m[\u001b[0m36m\u001b[1;92m0:00:00\u001b[0m\u001b\u001b[1m[\u001b[0m0m\n",
       "\u001b\u001b[1m[\u001b[0m?25hDownloading python_dotenv-\u001b[1;36m1.1\u001b[0m.\u001b[1;36m1\u001b[0m-py3-none-any.whl \u001b[1m(\u001b[0m\u001b[1;36m20\u001b[0m kB\u001b[1m)\u001b[0m\n",
       "Downloading fsspec-\u001b[1;36m2025.9\u001b[0m.\u001b[1;36m0\u001b[0m-py3-none-any.whl \u001b[1m(\u001b[0m\u001b[1;36m199\u001b[0m kB\u001b[1m)\u001b[0m\n",
       "\n",
       "Downloading hf_xet-\u001b[1;36m1.1\u001b[0m.\u001b[1;36m10\u001b[0m-cp37-abi3-manylinux_2_17_x86_64.manylinux2014_x86_64.whl \u001b[1m(\u001b[0m\u001b[1;36m3.2\u001b[0m MB\u001b[1m)\u001b[0m\n",
       "\u001b\u001b[1m[\u001b[0m?25l   \u001b\u001b[1m[\u001b[0m90m━━━━━━━━━━━━━━━━━━━━━━━━━━━━━━━━━━━━━━━━\u001b\u001b[1m[\u001b[0m0m \u001b\u001b[1m[\u001b[0m32m0.\u001b[1;36m0\u001b[0m/\u001b[1;36m3.2\u001b[0m MB\u001b\u001b[1m[\u001b[0m0m \u001b\u001b[1m[\u001b[0m31m?\u001b\u001b[1m[\u001b[0m0m eta \u001b\u001b[1m[\u001b[0m36m-:--:--\u001b\u001b[1m[\u001b[0m0m\u001b\u001b[1m[\u001b[0m2K \n",
       "\u001b\u001b[1m[\u001b[0m90m━━━━━━━━━━━━━━━━━━━━━━━━━━━━━━━━━━━━━━━━\u001b\u001b[1m[\u001b[0m0m \u001b\u001b[1m[\u001b[0m32m3.\u001b[1;36m2\u001b[0m/\u001b[1;36m3.2\u001b[0m MB\u001b\u001b[1m[\u001b[0m0m \u001b\u001b[1m[\u001b[0m31m147.\u001b[1;36m4\u001b[0m MB/s\u001b\u001b[1m[\u001b[0m0m eta \u001b\u001b[1m[\u001b[0m36m\u001b[1;92m0:00:00\u001b[0m\u001b\u001b[1m[\u001b[0m0m\n",
       "\u001b\u001b[1m[\u001b[0m?25hDownloading filelock-\u001b[1;36m3.20\u001b[0m.\u001b[1;36m0\u001b[0m-py3-none-any.whl \u001b[1m(\u001b[0m\u001b[1;36m16\u001b[0m kB\u001b[1m)\u001b[0m\n",
       "\n",
       "Installing collected packages: python-dotenv, hf-xet, fsspec, filelock, huggingface-hub, smolagents\n",
       "\n",
       "Successfully installed filelock-\u001b[1;36m3.20\u001b[0m.\u001b[1;36m0\u001b[0m fsspec-\u001b[1;36m2025.9\u001b[0m.\u001b[1;36m0\u001b[0m hf-xet-\u001b[1;36m1.1\u001b[0m.\u001b[1;36m10\u001b[0m huggingface-hub-\u001b[1;36m0.35\u001b[0m.\u001b[1;36m3\u001b[0m python-dotenv-\u001b[1;36m1.1\u001b[0m.\u001b[1;36m1\u001b[0m \n",
       "smolagents-\u001b[1;36m1.22\u001b[0m.\u001b[1;36m0\u001b[0m\n",
       "\u001b\u001b[1m[\u001b[0m33mWARNING: Running pip as the \u001b[32m'root'\u001b[0m user can result in broken permissions and conflicting behaviour with the \n",
       "system package manager, possibly rendering your system unusable. It is recommended to use a virtual environment \n",
       "instead: \u001b[4;94mhttps://pip.pypa.io/warnings/venv.\u001b[0m Use the --root-user-action option if you know what you are doing and \n",
       "want to suppress this warning.\u001b\u001b[1m[\u001b[0m0m\u001b\u001b[1m[\u001b[0m33m\n",
       "\u001b\u001b[1m[\u001b[0m0m\n"
      ]
     },
     "metadata": {},
     "output_type": "display_data"
    },
    {
     "data": {
      "text/html": [
       "<pre style=\"white-space:pre;overflow-x:auto;line-height:normal;font-family:Menlo,'DejaVu Sans Mono',consolas,'Courier New',monospace\">E2B is running\n",
       "</pre>\n"
      ],
      "text/plain": [
       "E2B is running\n"
      ]
     },
     "metadata": {},
     "output_type": "display_data"
    }
   ],
   "source": [
    "from smolagents import CodeAgent, HfApiModel, Tool\n",
    "\n",
    "model = HfApiModel()\n",
    "\n",
    "class VisitWebpageTool(Tool):\n",
    "    name = \"visit_webpage\"\n",
    "    description = (\n",
    "        \"Visits a webpage at the given url and reads its content as a markdown string. Use this to browse webpages.\"\n",
    "    )\n",
    "    inputs = {\n",
    "        \"url\": {\n",
    "            \"type\": \"string\",\n",
    "            \"description\": \"The url of the webpage to visit.\",\n",
    "        }\n",
    "    }\n",
    "    output_type = \"string\"\n",
    "\n",
    "    def __init__(self, max_output_length: int = 40000):\n",
    "        super().__init__()\n",
    "        self.max_output_length = max_output_length\n",
    "\n",
    "    def forward(self, url: str) -> str:\n",
    "        try:\n",
    "            import re\n",
    "\n",
    "            import requests\n",
    "            from markdownify import markdownify\n",
    "            from requests.exceptions import RequestException\n",
    "\n",
    "            from smolagents.utils import truncate_content\n",
    "        except ImportError as e:\n",
    "            raise ImportError(\n",
    "                \"You must install packages `markdownify` and `requests` to run this tool: for instance run `pip install markdownify requests`.\"\n",
    "            ) from e\n",
    "        try:\n",
    "            response = requests.get(url, timeout=20)\n",
    "            response.raise_for_status()  # Raise an exception for bad status codes\n",
    "            markdown_content = markdownify(response.text).strip()\n",
    "            markdown_content = re.sub(r\"\\n{3,}\", \"\\n\\n\", markdown_content)\n",
    "            return truncate_content(markdown_content, self.max_output_length)\n",
    "\n",
    "        except requests.exceptions.Timeout:\n",
    "            return \"The request timed out. Please try again later or check the URL.\"\n",
    "        except RequestException as e:\n",
    "            return f\"Error fetching the webpage: {str(e)}\"\n",
    "        except Exception as e:\n",
    "            return f\"An unexpected error occurred: {str(e)}\"\n",
    "\n",
    "agent = CodeAgent(\n",
    "    tools=[VisitWebpageTool()],\n",
    "    model=model,\n",
    "    executor_type=\"e2b\",\n",
    "    executor_kwargs={\"api_key\": E2B_API_KEY},\n",
    "    max_steps=5\n",
    ")"
   ]
  },
  {
   "cell_type": "markdown",
   "id": "109f6f4e-e1f9-473a-981d-b6ac4ad99029",
   "metadata": {},
   "source": [
    "<div style=\"font-size: 14px; background-color: #fff9b0; padding: 12px; border-left: 4px solid #facc15;\">\n",
    "  <strong>Note:</strong> The agent is not always successful in this run.\n",
    "</div>\n"
   ]
  },
  {
   "cell_type": "code",
   "execution_count": 13,
   "id": "b43e76e3-c84d-4e19-8115-9c208f7c3398",
   "metadata": {
    "height": 82
   },
   "outputs": [
    {
     "data": {
      "text/html": [
       "<pre style=\"white-space:pre;overflow-x:auto;line-height:normal;font-family:Menlo,'DejaVu Sans Mono',consolas,'Courier New',monospace\"><span style=\"color: #d4b702; text-decoration-color: #d4b702\">╭──────────────────────────────────────────────────── </span><span style=\"color: #d4b702; text-decoration-color: #d4b702; font-weight: bold\">New run</span><span style=\"color: #d4b702; text-decoration-color: #d4b702\"> ────────────────────────────────────────────────────╮</span>\n",
       "<span style=\"color: #d4b702; text-decoration-color: #d4b702\">│</span>                                                                                                                 <span style=\"color: #d4b702; text-decoration-color: #d4b702\">│</span>\n",
       "<span style=\"color: #d4b702; text-decoration-color: #d4b702\">│</span> <span style=\"font-weight: bold\">Give me one of the top github repos from organization huggingface.</span>                                              <span style=\"color: #d4b702; text-decoration-color: #d4b702\">│</span>\n",
       "<span style=\"color: #d4b702; text-decoration-color: #d4b702\">│</span>                                                                                                                 <span style=\"color: #d4b702; text-decoration-color: #d4b702\">│</span>\n",
       "<span style=\"color: #d4b702; text-decoration-color: #d4b702\">╰─ HfApiModel - Qwen/Qwen2.5-Coder-32B-Instruct ──────────────────────────────────────────────────────────────────╯</span>\n",
       "</pre>\n"
      ],
      "text/plain": [
       "\u001b[38;2;212;183;2m╭─\u001b[0m\u001b[38;2;212;183;2m───────────────────────────────────────────────────\u001b[0m\u001b[38;2;212;183;2m \u001b[0m\u001b[1;38;2;212;183;2mNew run\u001b[0m\u001b[38;2;212;183;2m \u001b[0m\u001b[38;2;212;183;2m───────────────────────────────────────────────────\u001b[0m\u001b[38;2;212;183;2m─╮\u001b[0m\n",
       "\u001b[38;2;212;183;2m│\u001b[0m                                                                                                                 \u001b[38;2;212;183;2m│\u001b[0m\n",
       "\u001b[38;2;212;183;2m│\u001b[0m \u001b[1mGive me one of the top github repos from organization huggingface.\u001b[0m                                              \u001b[38;2;212;183;2m│\u001b[0m\n",
       "\u001b[38;2;212;183;2m│\u001b[0m                                                                                                                 \u001b[38;2;212;183;2m│\u001b[0m\n",
       "\u001b[38;2;212;183;2m╰─\u001b[0m\u001b[38;2;212;183;2m HfApiModel - Qwen/Qwen2.5-Coder-32B-Instruct \u001b[0m\u001b[38;2;212;183;2m─────────────────────────────────────────────────────────────────\u001b[0m\u001b[38;2;212;183;2m─╯\u001b[0m\n"
      ]
     },
     "metadata": {},
     "output_type": "display_data"
    },
    {
     "data": {
      "text/html": [
       "<pre style=\"white-space:pre;overflow-x:auto;line-height:normal;font-family:Menlo,'DejaVu Sans Mono',consolas,'Courier New',monospace\">Requirement already satisfied: requests in <span style=\"color: #800080; text-decoration-color: #800080\">/usr/local/lib/python3.12/</span><span style=\"color: #ff00ff; text-decoration-color: #ff00ff\">site-packages</span> <span style=\"font-weight: bold\">(</span><span style=\"color: #008080; text-decoration-color: #008080; font-weight: bold\">2.32</span>.<span style=\"color: #008080; text-decoration-color: #008080; font-weight: bold\">4</span><span style=\"font-weight: bold\">)</span>\n",
       "\n",
       "Collecting markdownify\n",
       "\n",
       "  Downloading markdownify-<span style=\"color: #008080; text-decoration-color: #008080; font-weight: bold\">1.2</span>.<span style=\"color: #008080; text-decoration-color: #008080; font-weight: bold\">0</span>-py3-none-any.whl.metadata <span style=\"font-weight: bold\">(</span><span style=\"color: #008080; text-decoration-color: #008080; font-weight: bold\">9.9</span> kB<span style=\"font-weight: bold\">)</span>\n",
       "Requirement already satisfied: charset_normalizer<span style=\"font-weight: bold\">&lt;</span><span style=\"color: #008080; text-decoration-color: #008080; font-weight: bold\">4</span><span style=\"color: #000000; text-decoration-color: #000000\">,&gt;=</span><span style=\"color: #008080; text-decoration-color: #008080; font-weight: bold\">2</span><span style=\"color: #000000; text-decoration-color: #000000\"> in </span><span style=\"color: #800080; text-decoration-color: #800080\">/usr/local/lib/python3.12/</span><span style=\"color: #ff00ff; text-decoration-color: #ff00ff\">site-packages</span><span style=\"color: #000000; text-decoration-color: #000000\"> </span><span style=\"color: #000000; text-decoration-color: #000000; font-weight: bold\">(</span><span style=\"color: #000000; text-decoration-color: #000000\">from requests</span><span style=\"color: #000000; text-decoration-color: #000000; font-weight: bold\">)</span><span style=\"color: #000000; text-decoration-color: #000000\"> </span>\n",
       "<span style=\"color: #000000; text-decoration-color: #000000; font-weight: bold\">(</span><span style=\"color: #008080; text-decoration-color: #008080; font-weight: bold\">3.4</span><span style=\"color: #000000; text-decoration-color: #000000\">.</span><span style=\"color: #008080; text-decoration-color: #008080; font-weight: bold\">3</span><span style=\"color: #000000; text-decoration-color: #000000; font-weight: bold\">)</span>\n",
       "<span style=\"color: #000000; text-decoration-color: #000000\">Requirement already satisfied: idna&lt;</span><span style=\"color: #008080; text-decoration-color: #008080; font-weight: bold\">4</span><span style=\"color: #000000; text-decoration-color: #000000\">,&gt;=</span><span style=\"color: #008080; text-decoration-color: #008080; font-weight: bold\">2.5</span><span style=\"color: #000000; text-decoration-color: #000000\"> in </span><span style=\"color: #800080; text-decoration-color: #800080\">/usr/local/lib/python3.12/</span><span style=\"color: #ff00ff; text-decoration-color: #ff00ff\">site-packages</span><span style=\"color: #000000; text-decoration-color: #000000\"> </span><span style=\"color: #000000; text-decoration-color: #000000; font-weight: bold\">(</span><span style=\"color: #000000; text-decoration-color: #000000\">from requests</span><span style=\"color: #000000; text-decoration-color: #000000; font-weight: bold\">)</span><span style=\"color: #000000; text-decoration-color: #000000\"> </span><span style=\"color: #000000; text-decoration-color: #000000; font-weight: bold\">(</span><span style=\"color: #008080; text-decoration-color: #008080; font-weight: bold\">3.10</span><span style=\"color: #000000; text-decoration-color: #000000; font-weight: bold\">)</span>\n",
       "<span style=\"color: #000000; text-decoration-color: #000000\">Requirement already satisfied: urllib3&lt;</span><span style=\"color: #008080; text-decoration-color: #008080; font-weight: bold\">3</span><span style=\"color: #000000; text-decoration-color: #000000\">,&gt;=</span><span style=\"color: #008080; text-decoration-color: #008080; font-weight: bold\">1.21</span><span style=\"color: #000000; text-decoration-color: #000000\">.</span><span style=\"color: #008080; text-decoration-color: #008080; font-weight: bold\">1</span><span style=\"color: #000000; text-decoration-color: #000000\"> in </span><span style=\"color: #800080; text-decoration-color: #800080\">/usr/local/lib/python3.12/</span><span style=\"color: #ff00ff; text-decoration-color: #ff00ff\">site-packages</span><span style=\"color: #000000; text-decoration-color: #000000\"> </span><span style=\"color: #000000; text-decoration-color: #000000; font-weight: bold\">(</span><span style=\"color: #000000; text-decoration-color: #000000\">from requests</span><span style=\"color: #000000; text-decoration-color: #000000; font-weight: bold\">)</span><span style=\"color: #000000; text-decoration-color: #000000\"> </span>\n",
       "<span style=\"color: #000000; text-decoration-color: #000000; font-weight: bold\">(</span><span style=\"color: #008080; text-decoration-color: #008080; font-weight: bold\">2.5</span><span style=\"color: #000000; text-decoration-color: #000000\">.</span><span style=\"color: #008080; text-decoration-color: #008080; font-weight: bold\">0</span><span style=\"color: #000000; text-decoration-color: #000000; font-weight: bold\">)</span>\n",
       "<span style=\"color: #000000; text-decoration-color: #000000\">Requirement already satisfied: certifi&gt;=</span><span style=\"color: #008080; text-decoration-color: #008080; font-weight: bold\">2017.4</span><span style=\"color: #000000; text-decoration-color: #000000\">.</span><span style=\"color: #008080; text-decoration-color: #008080; font-weight: bold\">17</span><span style=\"color: #000000; text-decoration-color: #000000\"> in </span><span style=\"color: #800080; text-decoration-color: #800080\">/usr/local/lib/python3.12/</span><span style=\"color: #ff00ff; text-decoration-color: #ff00ff\">site-packages</span><span style=\"color: #000000; text-decoration-color: #000000\"> </span><span style=\"color: #000000; text-decoration-color: #000000; font-weight: bold\">(</span><span style=\"color: #000000; text-decoration-color: #000000\">from requests</span><span style=\"color: #000000; text-decoration-color: #000000; font-weight: bold\">)</span><span style=\"color: #000000; text-decoration-color: #000000\"> </span>\n",
       "<span style=\"color: #000000; text-decoration-color: #000000; font-weight: bold\">(</span><span style=\"color: #008080; text-decoration-color: #008080; font-weight: bold\">2025.8</span><span style=\"color: #000000; text-decoration-color: #000000\">.</span><span style=\"color: #008080; text-decoration-color: #008080; font-weight: bold\">3</span><span style=\"color: #000000; text-decoration-color: #000000; font-weight: bold\">)</span>\n",
       "<span style=\"color: #000000; text-decoration-color: #000000\">Requirement already satisfied: beautifulsoup4&lt;</span><span style=\"color: #008080; text-decoration-color: #008080; font-weight: bold\">5</span><span style=\"color: #000000; text-decoration-color: #000000\">,&gt;=</span><span style=\"color: #008080; text-decoration-color: #008080; font-weight: bold\">4.9</span><span style=\"color: #000000; text-decoration-color: #000000\"> in </span><span style=\"color: #800080; text-decoration-color: #800080\">/usr/local/lib/python3.12/</span><span style=\"color: #ff00ff; text-decoration-color: #ff00ff\">site-packages</span><span style=\"color: #000000; text-decoration-color: #000000\"> </span><span style=\"color: #000000; text-decoration-color: #000000; font-weight: bold\">(</span><span style=\"color: #000000; text-decoration-color: #000000\">from markdownify</span><span style=\"color: #000000; text-decoration-color: #000000; font-weight: bold\">)</span>\n",
       "<span style=\"color: #000000; text-decoration-color: #000000; font-weight: bold\">(</span><span style=\"color: #008080; text-decoration-color: #008080; font-weight: bold\">4.13</span><span style=\"color: #000000; text-decoration-color: #000000\">.</span><span style=\"color: #008080; text-decoration-color: #008080; font-weight: bold\">4</span><span style=\"color: #000000; text-decoration-color: #000000; font-weight: bold\">)</span>\n",
       "<span style=\"color: #000000; text-decoration-color: #000000\">Requirement already satisfied: six&lt;</span><span style=\"color: #008080; text-decoration-color: #008080; font-weight: bold\">2</span><span style=\"color: #000000; text-decoration-color: #000000\">,&gt;=</span><span style=\"color: #008080; text-decoration-color: #008080; font-weight: bold\">1.15</span><span style=\"color: #000000; text-decoration-color: #000000\"> in </span><span style=\"color: #800080; text-decoration-color: #800080\">/usr/local/lib/python3.12/</span><span style=\"color: #ff00ff; text-decoration-color: #ff00ff\">site-packages</span><span style=\"color: #000000; text-decoration-color: #000000\"> </span><span style=\"color: #000000; text-decoration-color: #000000; font-weight: bold\">(</span><span style=\"color: #000000; text-decoration-color: #000000\">from markdownify</span><span style=\"color: #000000; text-decoration-color: #000000; font-weight: bold\">)</span><span style=\"color: #000000; text-decoration-color: #000000\"> </span><span style=\"color: #000000; text-decoration-color: #000000; font-weight: bold\">(</span><span style=\"color: #008080; text-decoration-color: #008080; font-weight: bold\">1.17</span><span style=\"color: #000000; text-decoration-color: #000000\">.</span><span style=\"color: #008080; text-decoration-color: #008080; font-weight: bold\">0</span><span style=\"color: #000000; text-decoration-color: #000000; font-weight: bold\">)</span>\n",
       "<span style=\"color: #000000; text-decoration-color: #000000\">Requirement already satisfied: soupsieve&gt;</span><span style=\"color: #008080; text-decoration-color: #008080; font-weight: bold\">1.2</span><span style=\"color: #000000; text-decoration-color: #000000\"> in </span><span style=\"color: #800080; text-decoration-color: #800080\">/usr/local/lib/python3.12/</span><span style=\"color: #ff00ff; text-decoration-color: #ff00ff\">site-packages</span><span style=\"color: #000000; text-decoration-color: #000000\"> </span><span style=\"color: #000000; text-decoration-color: #000000; font-weight: bold\">(</span><span style=\"color: #000000; text-decoration-color: #000000\">from </span>\n",
       "<span style=\"color: #000000; text-decoration-color: #000000\">beautifulsoup4&lt;</span><span style=\"color: #008080; text-decoration-color: #008080; font-weight: bold\">5</span><span style=\"color: #000000; text-decoration-color: #000000\">,&gt;=</span><span style=\"color: #008080; text-decoration-color: #008080; font-weight: bold\">4.9</span><span style=\"color: #000000; text-decoration-color: #000000\">-&gt;markdownify</span><span style=\"color: #000000; text-decoration-color: #000000; font-weight: bold\">)</span><span style=\"color: #000000; text-decoration-color: #000000\"> </span><span style=\"color: #000000; text-decoration-color: #000000; font-weight: bold\">(</span><span style=\"color: #008080; text-decoration-color: #008080; font-weight: bold\">2.7</span><span style=\"color: #000000; text-decoration-color: #000000; font-weight: bold\">)</span>\n",
       "<span style=\"color: #000000; text-decoration-color: #000000\">Requirement already satisfied: typing-extensions&gt;=</span><span style=\"color: #008080; text-decoration-color: #008080; font-weight: bold\">4.0</span><span style=\"color: #000000; text-decoration-color: #000000\">.</span><span style=\"color: #008080; text-decoration-color: #008080; font-weight: bold\">0</span><span style=\"color: #000000; text-decoration-color: #000000\"> in </span><span style=\"color: #800080; text-decoration-color: #800080\">/usr/local/lib/python3.12/</span><span style=\"color: #ff00ff; text-decoration-color: #ff00ff\">site-packages</span><span style=\"color: #000000; text-decoration-color: #000000\"> </span><span style=\"color: #000000; text-decoration-color: #000000; font-weight: bold\">(</span><span style=\"color: #000000; text-decoration-color: #000000\">from </span>\n",
       "<span style=\"color: #000000; text-decoration-color: #000000\">beautifulsoup4&lt;</span><span style=\"color: #008080; text-decoration-color: #008080; font-weight: bold\">5</span><span style=\"color: #000000; text-decoration-color: #000000\">,&gt;=</span><span style=\"color: #008080; text-decoration-color: #008080; font-weight: bold\">4.9</span><span style=\"color: #000000; text-decoration-color: #000000\">-</span><span style=\"font-weight: bold\">&gt;</span>markdownify<span style=\"font-weight: bold\">)</span> <span style=\"font-weight: bold\">(</span><span style=\"color: #008080; text-decoration-color: #008080; font-weight: bold\">4.14</span>.<span style=\"color: #008080; text-decoration-color: #008080; font-weight: bold\">1</span><span style=\"font-weight: bold\">)</span>\n",
       "Downloading markdownify-<span style=\"color: #008080; text-decoration-color: #008080; font-weight: bold\">1.2</span>.<span style=\"color: #008080; text-decoration-color: #008080; font-weight: bold\">0</span>-py3-none-any.whl <span style=\"font-weight: bold\">(</span><span style=\"color: #008080; text-decoration-color: #008080; font-weight: bold\">15</span> kB<span style=\"font-weight: bold\">)</span>\n",
       "\n",
       "Installing collected packages: markdownify\n",
       "Successfully installed markdownify-<span style=\"color: #008080; text-decoration-color: #008080; font-weight: bold\">1.2</span>.<span style=\"color: #008080; text-decoration-color: #008080; font-weight: bold\">0</span>\n",
       "\u001b<span style=\"font-weight: bold\">[</span>33mWARNING: Running pip as the <span style=\"color: #008000; text-decoration-color: #008000\">'root'</span> user can result in broken permissions and conflicting behaviour with the \n",
       "system package manager, possibly rendering your system unusable. It is recommended to use a virtual environment \n",
       "instead: <span style=\"color: #0000ff; text-decoration-color: #0000ff; text-decoration: underline\">https://pip.pypa.io/warnings/venv.</span> Use the --root-user-action option if you know what you are doing and \n",
       "want to suppress this warning.\u001b<span style=\"font-weight: bold\">[</span>0m\u001b<span style=\"font-weight: bold\">[</span>33m\n",
       "\u001b<span style=\"font-weight: bold\">[</span>0m\n",
       "</pre>\n"
      ],
      "text/plain": [
       "Requirement already satisfied: requests in \u001b[35m/usr/local/lib/python3.12/\u001b[0m\u001b[95msite-packages\u001b[0m \u001b[1m(\u001b[0m\u001b[1;36m2.32\u001b[0m.\u001b[1;36m4\u001b[0m\u001b[1m)\u001b[0m\n",
       "\n",
       "Collecting markdownify\n",
       "\n",
       "  Downloading markdownify-\u001b[1;36m1.2\u001b[0m.\u001b[1;36m0\u001b[0m-py3-none-any.whl.metadata \u001b[1m(\u001b[0m\u001b[1;36m9.9\u001b[0m kB\u001b[1m)\u001b[0m\n",
       "Requirement already satisfied: charset_normalizer\u001b[1m<\u001b[0m\u001b[1;36m4\u001b[0m\u001b[39m,>=\u001b[0m\u001b[1;36m2\u001b[0m\u001b[39m in \u001b[0m\u001b[35m/usr/local/lib/python3.12/\u001b[0m\u001b[95msite-packages\u001b[0m\u001b[39m \u001b[0m\u001b[1;39m(\u001b[0m\u001b[39mfrom requests\u001b[0m\u001b[1;39m)\u001b[0m\u001b[39m \u001b[0m\n",
       "\u001b[1;39m(\u001b[0m\u001b[1;36m3.4\u001b[0m\u001b[39m.\u001b[0m\u001b[1;36m3\u001b[0m\u001b[1;39m)\u001b[0m\n",
       "\u001b[39mRequirement already satisfied: idna<\u001b[0m\u001b[1;36m4\u001b[0m\u001b[39m,>=\u001b[0m\u001b[1;36m2.5\u001b[0m\u001b[39m in \u001b[0m\u001b[35m/usr/local/lib/python3.12/\u001b[0m\u001b[95msite-packages\u001b[0m\u001b[39m \u001b[0m\u001b[1;39m(\u001b[0m\u001b[39mfrom requests\u001b[0m\u001b[1;39m)\u001b[0m\u001b[39m \u001b[0m\u001b[1;39m(\u001b[0m\u001b[1;36m3.10\u001b[0m\u001b[1;39m)\u001b[0m\n",
       "\u001b[39mRequirement already satisfied: urllib3<\u001b[0m\u001b[1;36m3\u001b[0m\u001b[39m,>=\u001b[0m\u001b[1;36m1.21\u001b[0m\u001b[39m.\u001b[0m\u001b[1;36m1\u001b[0m\u001b[39m in \u001b[0m\u001b[35m/usr/local/lib/python3.12/\u001b[0m\u001b[95msite-packages\u001b[0m\u001b[39m \u001b[0m\u001b[1;39m(\u001b[0m\u001b[39mfrom requests\u001b[0m\u001b[1;39m)\u001b[0m\u001b[39m \u001b[0m\n",
       "\u001b[1;39m(\u001b[0m\u001b[1;36m2.5\u001b[0m\u001b[39m.\u001b[0m\u001b[1;36m0\u001b[0m\u001b[1;39m)\u001b[0m\n",
       "\u001b[39mRequirement already satisfied: certifi>=\u001b[0m\u001b[1;36m2017.4\u001b[0m\u001b[39m.\u001b[0m\u001b[1;36m17\u001b[0m\u001b[39m in \u001b[0m\u001b[35m/usr/local/lib/python3.12/\u001b[0m\u001b[95msite-packages\u001b[0m\u001b[39m \u001b[0m\u001b[1;39m(\u001b[0m\u001b[39mfrom requests\u001b[0m\u001b[1;39m)\u001b[0m\u001b[39m \u001b[0m\n",
       "\u001b[1;39m(\u001b[0m\u001b[1;36m2025.8\u001b[0m\u001b[39m.\u001b[0m\u001b[1;36m3\u001b[0m\u001b[1;39m)\u001b[0m\n",
       "\u001b[39mRequirement already satisfied: beautifulsoup4<\u001b[0m\u001b[1;36m5\u001b[0m\u001b[39m,>=\u001b[0m\u001b[1;36m4.9\u001b[0m\u001b[39m in \u001b[0m\u001b[35m/usr/local/lib/python3.12/\u001b[0m\u001b[95msite-packages\u001b[0m\u001b[39m \u001b[0m\u001b[1;39m(\u001b[0m\u001b[39mfrom markdownify\u001b[0m\u001b[1;39m)\u001b[0m\n",
       "\u001b[1;39m(\u001b[0m\u001b[1;36m4.13\u001b[0m\u001b[39m.\u001b[0m\u001b[1;36m4\u001b[0m\u001b[1;39m)\u001b[0m\n",
       "\u001b[39mRequirement already satisfied: six<\u001b[0m\u001b[1;36m2\u001b[0m\u001b[39m,>=\u001b[0m\u001b[1;36m1.15\u001b[0m\u001b[39m in \u001b[0m\u001b[35m/usr/local/lib/python3.12/\u001b[0m\u001b[95msite-packages\u001b[0m\u001b[39m \u001b[0m\u001b[1;39m(\u001b[0m\u001b[39mfrom markdownify\u001b[0m\u001b[1;39m)\u001b[0m\u001b[39m \u001b[0m\u001b[1;39m(\u001b[0m\u001b[1;36m1.17\u001b[0m\u001b[39m.\u001b[0m\u001b[1;36m0\u001b[0m\u001b[1;39m)\u001b[0m\n",
       "\u001b[39mRequirement already satisfied: soupsieve>\u001b[0m\u001b[1;36m1.2\u001b[0m\u001b[39m in \u001b[0m\u001b[35m/usr/local/lib/python3.12/\u001b[0m\u001b[95msite-packages\u001b[0m\u001b[39m \u001b[0m\u001b[1;39m(\u001b[0m\u001b[39mfrom \u001b[0m\n",
       "\u001b[39mbeautifulsoup4<\u001b[0m\u001b[1;36m5\u001b[0m\u001b[39m,>=\u001b[0m\u001b[1;36m4.9\u001b[0m\u001b[39m->markdownify\u001b[0m\u001b[1;39m)\u001b[0m\u001b[39m \u001b[0m\u001b[1;39m(\u001b[0m\u001b[1;36m2.7\u001b[0m\u001b[1;39m)\u001b[0m\n",
       "\u001b[39mRequirement already satisfied: typing-extensions>=\u001b[0m\u001b[1;36m4.0\u001b[0m\u001b[39m.\u001b[0m\u001b[1;36m0\u001b[0m\u001b[39m in \u001b[0m\u001b[35m/usr/local/lib/python3.12/\u001b[0m\u001b[95msite-packages\u001b[0m\u001b[39m \u001b[0m\u001b[1;39m(\u001b[0m\u001b[39mfrom \u001b[0m\n",
       "\u001b[39mbeautifulsoup4<\u001b[0m\u001b[1;36m5\u001b[0m\u001b[39m,>=\u001b[0m\u001b[1;36m4.9\u001b[0m\u001b[39m-\u001b[0m\u001b[1m>\u001b[0mmarkdownify\u001b[1m)\u001b[0m \u001b[1m(\u001b[0m\u001b[1;36m4.14\u001b[0m.\u001b[1;36m1\u001b[0m\u001b[1m)\u001b[0m\n",
       "Downloading markdownify-\u001b[1;36m1.2\u001b[0m.\u001b[1;36m0\u001b[0m-py3-none-any.whl \u001b[1m(\u001b[0m\u001b[1;36m15\u001b[0m kB\u001b[1m)\u001b[0m\n",
       "\n",
       "Installing collected packages: markdownify\n",
       "Successfully installed markdownify-\u001b[1;36m1.2\u001b[0m.\u001b[1;36m0\u001b[0m\n",
       "\u001b\u001b[1m[\u001b[0m33mWARNING: Running pip as the \u001b[32m'root'\u001b[0m user can result in broken permissions and conflicting behaviour with the \n",
       "system package manager, possibly rendering your system unusable. It is recommended to use a virtual environment \n",
       "instead: \u001b[4;94mhttps://pip.pypa.io/warnings/venv.\u001b[0m Use the --root-user-action option if you know what you are doing and \n",
       "want to suppress this warning.\u001b\u001b[1m[\u001b[0m0m\u001b\u001b[1m[\u001b[0m33m\n",
       "\u001b\u001b[1m[\u001b[0m0m\n"
      ]
     },
     "metadata": {},
     "output_type": "display_data"
    },
    {
     "data": {
      "text/html": [
       "<pre style=\"white-space:pre;overflow-x:auto;line-height:normal;font-family:Menlo,'DejaVu Sans Mono',consolas,'Courier New',monospace\"><span style=\"color: #d4b702; text-decoration-color: #d4b702\">━━━━━━━━━━━━━━━━━━━━━━━━━━━━━━━━━━━━━━━━━━━━━━━━━━━━━ </span><span style=\"font-weight: bold\">Step </span><span style=\"color: #008080; text-decoration-color: #008080; font-weight: bold\">1</span><span style=\"color: #d4b702; text-decoration-color: #d4b702\"> ━━━━━━━━━━━━━━━━━━━━━━━━━━━━━━━━━━━━━━━━━━━━━━━━━━━━━━</span>\n",
       "</pre>\n"
      ],
      "text/plain": [
       "\u001b[38;2;212;183;2m━━━━━━━━━━━━━━━━━━━━━━━━━━━━━━━━━━━━━━━━━━━━━━━━━━━━━ \u001b[0m\u001b[1mStep \u001b[0m\u001b[1;36m1\u001b[0m\u001b[38;2;212;183;2m ━━━━━━━━━━━━━━━━━━━━━━━━━━━━━━━━━━━━━━━━━━━━━━━━━━━━━━\u001b[0m\n"
      ]
     },
     "metadata": {},
     "output_type": "display_data"
    },
    {
     "data": {
      "text/html": [
       "<pre style=\"white-space:pre;overflow-x:auto;line-height:normal;font-family:Menlo,'DejaVu Sans Mono',consolas,'Courier New',monospace\"><span style=\"color: #800000; text-decoration-color: #800000; font-weight: bold\">Error in generating model output:</span>\n",
       "<span style=\"color: #008080; text-decoration-color: #008080; font-weight: bold\">404</span><span style=\"color: #800000; text-decoration-color: #800000; font-weight: bold\"> Client Error: Not Found for url: </span>\n",
       "<span style=\"color: #0000ff; text-decoration-color: #0000ff; text-decoration: underline\">http://jupyter-api-proxy.internal.dlai/rev-proxy/huggingface_inference_provider/hf-inference/models/Qwen/Qwen2.5-Co</span>\n",
       "<span style=\"color: #0000ff; text-decoration-color: #0000ff; text-decoration: underline\">der-32B-Instruct/v1/chat/completions</span><span style=\"color: #800000; text-decoration-color: #800000; font-weight: bold\"> (Request ID: </span>\n",
       "<span style=\"color: #808000; text-decoration-color: #808000; font-weight: bold\">Self</span><span style=\"color: #800000; text-decoration-color: #800000; font-weight: bold\">=</span><span style=\"color: #008080; text-decoration-color: #008080; font-weight: bold\">1</span><span style=\"color: #800000; text-decoration-color: #800000; font-weight: bold\">-68f2d889-12acda7d5bf2552b2bd0de28;</span><span style=\"color: #808000; text-decoration-color: #808000; font-weight: bold\">Root</span><span style=\"color: #800000; text-decoration-color: #800000; font-weight: bold\">=</span><span style=\"color: #008080; text-decoration-color: #008080; font-weight: bold\">1</span><span style=\"color: #800000; text-decoration-color: #800000; font-weight: bold\">-68f2d889-6a19b8ba0067d4927bb4de85;</span><span style=\"color: #ffff00; text-decoration-color: #ffff00\">385460d4-6101-45da-873a-e60086cdf</span>\n",
       "<span style=\"color: #ffff00; text-decoration-color: #ffff00\">e9a</span><span style=\"color: #800000; text-decoration-color: #800000; font-weight: bold\">)</span>\n",
       "</pre>\n"
      ],
      "text/plain": [
       "\u001b[1;31mError in generating model output:\u001b[0m\n",
       "\u001b[1;36m404\u001b[0m\u001b[1;31m Client Error: Not Found for url: \u001b[0m\n",
       "\u001b[4;94mhttp://jupyter-api-proxy.internal.dlai/rev-proxy/huggingface_inference_provider/hf-inference/models/Qwen/Qwen2.5-Co\u001b[0m\n",
       "\u001b[4;94mder-32B-Instruct/v1/chat/completions\u001b[0m\u001b[1;31m \u001b[0m\u001b[1;31m(\u001b[0m\u001b[1;31mRequest ID: \u001b[0m\n",
       "\u001b[1;33mSelf\u001b[0m\u001b[1;31m=\u001b[0m\u001b[1;36m1\u001b[0m\u001b[1;31m-68f2d889-12acda7d5bf2552b2bd0de28;\u001b[0m\u001b[1;33mRoot\u001b[0m\u001b[1;31m=\u001b[0m\u001b[1;36m1\u001b[0m\u001b[1;31m-68f2d889-6a19b8ba0067d4927bb4de85;\u001b[0m\u001b[93m385460d4-6101-45da-873a-e60086cdf\u001b[0m\n",
       "\u001b[93me9a\u001b[0m\u001b[1;31m)\u001b[0m\n"
      ]
     },
     "metadata": {},
     "output_type": "display_data"
    },
    {
     "data": {
      "text/html": [
       "<pre style=\"white-space:pre;overflow-x:auto;line-height:normal;font-family:Menlo,'DejaVu Sans Mono',consolas,'Courier New',monospace\"><span style=\"color: #7f7f7f; text-decoration-color: #7f7f7f\">[Step 1: Duration 0.30 seconds]</span>\n",
       "</pre>\n"
      ],
      "text/plain": [
       "\u001b[2m[Step 1: Duration 0.30 seconds]\u001b[0m\n"
      ]
     },
     "metadata": {},
     "output_type": "display_data"
    },
    {
     "ename": "AgentGenerationError",
     "evalue": "Error in generating model output:\n404 Client Error: Not Found for url: http://jupyter-api-proxy.internal.dlai/rev-proxy/huggingface_inference_provider/hf-inference/models/Qwen/Qwen2.5-Coder-32B-Instruct/v1/chat/completions (Request ID: Self=1-68f2d889-12acda7d5bf2552b2bd0de28;Root=1-68f2d889-6a19b8ba0067d4927bb4de85;385460d4-6101-45da-873a-e60086cdfe9a)",
     "output_type": "error",
     "traceback": [
      "\u001b[0;31m---------------------------------------------------------------------------\u001b[0m",
      "\u001b[0;31mHTTPError\u001b[0m                                 Traceback (most recent call last)",
      "File \u001b[0;32m/usr/local/lib/python3.11/site-packages/huggingface_hub/utils/_http.py:409\u001b[0m, in \u001b[0;36mhf_raise_for_status\u001b[0;34m(response, endpoint_name)\u001b[0m\n\u001b[1;32m    408\u001b[0m \u001b[38;5;28;01mtry\u001b[39;00m:\n\u001b[0;32m--> 409\u001b[0m     \u001b[43mresponse\u001b[49m\u001b[38;5;241;43m.\u001b[39;49m\u001b[43mraise_for_status\u001b[49m\u001b[43m(\u001b[49m\u001b[43m)\u001b[49m\n\u001b[1;32m    410\u001b[0m \u001b[38;5;28;01mexcept\u001b[39;00m HTTPError \u001b[38;5;28;01mas\u001b[39;00m e:\n",
      "File \u001b[0;32m/usr/local/lib/python3.11/site-packages/requests/models.py:1024\u001b[0m, in \u001b[0;36mResponse.raise_for_status\u001b[0;34m(self)\u001b[0m\n\u001b[1;32m   1023\u001b[0m \u001b[38;5;28;01mif\u001b[39;00m http_error_msg:\n\u001b[0;32m-> 1024\u001b[0m     \u001b[38;5;28;01mraise\u001b[39;00m HTTPError(http_error_msg, response\u001b[38;5;241m=\u001b[39m\u001b[38;5;28mself\u001b[39m)\n",
      "\u001b[0;31mHTTPError\u001b[0m: 404 Client Error: Not Found for url: http://jupyter-api-proxy.internal.dlai/rev-proxy/huggingface_inference_provider/hf-inference/models/Qwen/Qwen2.5-Coder-32B-Instruct/v1/chat/completions",
      "\nThe above exception was the direct cause of the following exception:\n",
      "\u001b[0;31mHfHubHTTPError\u001b[0m                            Traceback (most recent call last)",
      "File \u001b[0;32m/usr/local/lib/python3.11/site-packages/smolagents/agents.py:1225\u001b[0m, in \u001b[0;36mCodeAgent.step\u001b[0;34m(self, memory_step)\u001b[0m\n\u001b[1;32m   1224\u001b[0m additional_args \u001b[38;5;241m=\u001b[39m {\u001b[38;5;124m\"\u001b[39m\u001b[38;5;124mgrammar\u001b[39m\u001b[38;5;124m\"\u001b[39m: \u001b[38;5;28mself\u001b[39m\u001b[38;5;241m.\u001b[39mgrammar} \u001b[38;5;28;01mif\u001b[39;00m \u001b[38;5;28mself\u001b[39m\u001b[38;5;241m.\u001b[39mgrammar \u001b[38;5;129;01mis\u001b[39;00m \u001b[38;5;129;01mnot\u001b[39;00m \u001b[38;5;28;01mNone\u001b[39;00m \u001b[38;5;28;01melse\u001b[39;00m {}\n\u001b[0;32m-> 1225\u001b[0m chat_message: ChatMessage \u001b[38;5;241m=\u001b[39m \u001b[38;5;28;43mself\u001b[39;49m\u001b[38;5;241;43m.\u001b[39;49m\u001b[43mmodel\u001b[49m\u001b[43m(\u001b[49m\n\u001b[1;32m   1226\u001b[0m \u001b[43m    \u001b[49m\u001b[38;5;28;43mself\u001b[39;49m\u001b[38;5;241;43m.\u001b[39;49m\u001b[43minput_messages\u001b[49m\u001b[43m,\u001b[49m\n\u001b[1;32m   1227\u001b[0m \u001b[43m    \u001b[49m\u001b[43mstop_sequences\u001b[49m\u001b[38;5;241;43m=\u001b[39;49m\u001b[43m[\u001b[49m\u001b[38;5;124;43m\"\u001b[39;49m\u001b[38;5;124;43m<end_code>\u001b[39;49m\u001b[38;5;124;43m\"\u001b[39;49m\u001b[43m,\u001b[49m\u001b[43m \u001b[49m\u001b[38;5;124;43m\"\u001b[39;49m\u001b[38;5;124;43mObservation:\u001b[39;49m\u001b[38;5;124;43m\"\u001b[39;49m\u001b[43m,\u001b[49m\u001b[43m \u001b[49m\u001b[38;5;124;43m\"\u001b[39;49m\u001b[38;5;124;43mCalling tools:\u001b[39;49m\u001b[38;5;124;43m\"\u001b[39;49m\u001b[43m]\u001b[49m\u001b[43m,\u001b[49m\n\u001b[1;32m   1228\u001b[0m \u001b[43m    \u001b[49m\u001b[38;5;241;43m*\u001b[39;49m\u001b[38;5;241;43m*\u001b[39;49m\u001b[43madditional_args\u001b[49m\u001b[43m,\u001b[49m\n\u001b[1;32m   1229\u001b[0m \u001b[43m\u001b[49m\u001b[43m)\u001b[49m\n\u001b[1;32m   1230\u001b[0m memory_step\u001b[38;5;241m.\u001b[39mmodel_output_message \u001b[38;5;241m=\u001b[39m chat_message\n",
      "File \u001b[0;32m/usr/local/lib/python3.11/site-packages/smolagents/models.py:1009\u001b[0m, in \u001b[0;36mHfApiModel.__call__\u001b[0;34m(self, messages, stop_sequences, grammar, tools_to_call_from, **kwargs)\u001b[0m\n\u001b[1;32m   1000\u001b[0m completion_kwargs \u001b[38;5;241m=\u001b[39m \u001b[38;5;28mself\u001b[39m\u001b[38;5;241m.\u001b[39m_prepare_completion_kwargs(\n\u001b[1;32m   1001\u001b[0m     messages\u001b[38;5;241m=\u001b[39mmessages,\n\u001b[1;32m   1002\u001b[0m     stop_sequences\u001b[38;5;241m=\u001b[39mstop_sequences,\n\u001b[0;32m   (...)\u001b[0m\n\u001b[1;32m   1007\u001b[0m     \u001b[38;5;241m*\u001b[39m\u001b[38;5;241m*\u001b[39mkwargs,\n\u001b[1;32m   1008\u001b[0m )\n\u001b[0;32m-> 1009\u001b[0m response \u001b[38;5;241m=\u001b[39m \u001b[38;5;28;43mself\u001b[39;49m\u001b[38;5;241;43m.\u001b[39;49m\u001b[43mclient\u001b[49m\u001b[38;5;241;43m.\u001b[39;49m\u001b[43mchat_completion\u001b[49m\u001b[43m(\u001b[49m\u001b[38;5;241;43m*\u001b[39;49m\u001b[38;5;241;43m*\u001b[39;49m\u001b[43mcompletion_kwargs\u001b[49m\u001b[43m)\u001b[49m\n\u001b[1;32m   1011\u001b[0m \u001b[38;5;28mself\u001b[39m\u001b[38;5;241m.\u001b[39mlast_input_token_count \u001b[38;5;241m=\u001b[39m response\u001b[38;5;241m.\u001b[39musage\u001b[38;5;241m.\u001b[39mprompt_tokens\n",
      "File \u001b[0;32m/usr/local/lib/python3.11/site-packages/huggingface_hub/inference/_client.py:992\u001b[0m, in \u001b[0;36mInferenceClient.chat_completion\u001b[0;34m(self, messages, model, stream, frequency_penalty, logit_bias, logprobs, max_tokens, n, presence_penalty, response_format, seed, stop, stream_options, temperature, tool_choice, tool_prompt, tools, top_logprobs, top_p, extra_body)\u001b[0m\n\u001b[1;32m    985\u001b[0m request_parameters \u001b[38;5;241m=\u001b[39m provider_helper\u001b[38;5;241m.\u001b[39mprepare_request(\n\u001b[1;32m    986\u001b[0m     inputs\u001b[38;5;241m=\u001b[39mmessages,\n\u001b[1;32m    987\u001b[0m     parameters\u001b[38;5;241m=\u001b[39mparameters,\n\u001b[0;32m   (...)\u001b[0m\n\u001b[1;32m    990\u001b[0m     api_key\u001b[38;5;241m=\u001b[39m\u001b[38;5;28mself\u001b[39m\u001b[38;5;241m.\u001b[39mtoken,\n\u001b[1;32m    991\u001b[0m )\n\u001b[0;32m--> 992\u001b[0m data \u001b[38;5;241m=\u001b[39m \u001b[38;5;28;43mself\u001b[39;49m\u001b[38;5;241;43m.\u001b[39;49m\u001b[43m_inner_post\u001b[49m\u001b[43m(\u001b[49m\u001b[43mrequest_parameters\u001b[49m\u001b[43m,\u001b[49m\u001b[43m \u001b[49m\u001b[43mstream\u001b[49m\u001b[38;5;241;43m=\u001b[39;49m\u001b[43mstream\u001b[49m\u001b[43m)\u001b[49m\n\u001b[1;32m    994\u001b[0m \u001b[38;5;28;01mif\u001b[39;00m stream:\n",
      "File \u001b[0;32m/usr/local/lib/python3.11/site-packages/huggingface_hub/inference/_client.py:357\u001b[0m, in \u001b[0;36mInferenceClient._inner_post\u001b[0;34m(self, request_parameters, stream)\u001b[0m\n\u001b[1;32m    356\u001b[0m \u001b[38;5;28;01mtry\u001b[39;00m:\n\u001b[0;32m--> 357\u001b[0m     \u001b[43mhf_raise_for_status\u001b[49m\u001b[43m(\u001b[49m\u001b[43mresponse\u001b[49m\u001b[43m)\u001b[49m\n\u001b[1;32m    358\u001b[0m     \u001b[38;5;28;01mreturn\u001b[39;00m response\u001b[38;5;241m.\u001b[39miter_lines() \u001b[38;5;28;01mif\u001b[39;00m stream \u001b[38;5;28;01melse\u001b[39;00m response\u001b[38;5;241m.\u001b[39mcontent\n",
      "File \u001b[0;32m/usr/local/lib/python3.11/site-packages/huggingface_hub/utils/_http.py:482\u001b[0m, in \u001b[0;36mhf_raise_for_status\u001b[0;34m(response, endpoint_name)\u001b[0m\n\u001b[1;32m    480\u001b[0m \u001b[38;5;66;03m# Convert `HTTPError` into a `HfHubHTTPError` to display request information\u001b[39;00m\n\u001b[1;32m    481\u001b[0m \u001b[38;5;66;03m# as well (request id and/or server error message)\u001b[39;00m\n\u001b[0;32m--> 482\u001b[0m \u001b[38;5;28;01mraise\u001b[39;00m _format(HfHubHTTPError, \u001b[38;5;28mstr\u001b[39m(e), response) \u001b[38;5;28;01mfrom\u001b[39;00m\u001b[38;5;250m \u001b[39m\u001b[38;5;21;01me\u001b[39;00m\n",
      "\u001b[0;31mHfHubHTTPError\u001b[0m: 404 Client Error: Not Found for url: http://jupyter-api-proxy.internal.dlai/rev-proxy/huggingface_inference_provider/hf-inference/models/Qwen/Qwen2.5-Coder-32B-Instruct/v1/chat/completions (Request ID: Self=1-68f2d889-12acda7d5bf2552b2bd0de28;Root=1-68f2d889-6a19b8ba0067d4927bb4de85;385460d4-6101-45da-873a-e60086cdfe9a)",
      "\nThe above exception was the direct cause of the following exception:\n",
      "\u001b[0;31mAgentGenerationError\u001b[0m                      Traceback (most recent call last)",
      "Cell \u001b[0;32mIn[13], line 1\u001b[0m\n\u001b[0;32m----> 1\u001b[0m output \u001b[38;5;241m=\u001b[39m \u001b[43magent\u001b[49m\u001b[38;5;241;43m.\u001b[39;49m\u001b[43mrun\u001b[49m\u001b[43m(\u001b[49m\n\u001b[1;32m      2\u001b[0m \u001b[43m    \u001b[49m\u001b[38;5;124;43m\"\u001b[39;49m\u001b[38;5;124;43mGive me one of the top github repos from organization huggingface.\u001b[39;49m\u001b[38;5;124;43m\"\u001b[39;49m\n\u001b[1;32m      3\u001b[0m \u001b[43m)\u001b[49m\n\u001b[1;32m      4\u001b[0m \u001b[38;5;28mprint\u001b[39m(\u001b[38;5;124m\"\u001b[39m\u001b[38;5;124mE2B executor result:\u001b[39m\u001b[38;5;124m\"\u001b[39m, output)\n",
      "File \u001b[0;32m/usr/local/lib/python3.11/site-packages/smolagents/agents.py:332\u001b[0m, in \u001b[0;36mMultiStepAgent.run\u001b[0;34m(self, task, stream, reset, images, additional_args, max_steps)\u001b[0m\n\u001b[1;32m    330\u001b[0m     \u001b[38;5;28;01mreturn\u001b[39;00m \u001b[38;5;28mself\u001b[39m\u001b[38;5;241m.\u001b[39m_run(task\u001b[38;5;241m=\u001b[39m\u001b[38;5;28mself\u001b[39m\u001b[38;5;241m.\u001b[39mtask, max_steps\u001b[38;5;241m=\u001b[39mmax_steps, images\u001b[38;5;241m=\u001b[39mimages)\n\u001b[1;32m    331\u001b[0m \u001b[38;5;66;03m# Outputs are returned only at the end. We only look at the last step.\u001b[39;00m\n\u001b[0;32m--> 332\u001b[0m \u001b[38;5;28;01mreturn\u001b[39;00m \u001b[43mdeque\u001b[49m\u001b[43m(\u001b[49m\u001b[38;5;28;43mself\u001b[39;49m\u001b[38;5;241;43m.\u001b[39;49m\u001b[43m_run\u001b[49m\u001b[43m(\u001b[49m\u001b[43mtask\u001b[49m\u001b[38;5;241;43m=\u001b[39;49m\u001b[38;5;28;43mself\u001b[39;49m\u001b[38;5;241;43m.\u001b[39;49m\u001b[43mtask\u001b[49m\u001b[43m,\u001b[49m\u001b[43m \u001b[49m\u001b[43mmax_steps\u001b[49m\u001b[38;5;241;43m=\u001b[39;49m\u001b[43mmax_steps\u001b[49m\u001b[43m,\u001b[49m\u001b[43m \u001b[49m\u001b[43mimages\u001b[49m\u001b[38;5;241;43m=\u001b[39;49m\u001b[43mimages\u001b[49m\u001b[43m)\u001b[49m\u001b[43m,\u001b[49m\u001b[43m \u001b[49m\u001b[43mmaxlen\u001b[49m\u001b[38;5;241;43m=\u001b[39;49m\u001b[38;5;241;43m1\u001b[39;49m\u001b[43m)\u001b[49m[\u001b[38;5;241m0\u001b[39m]\u001b[38;5;241m.\u001b[39mfinal_answer\n",
      "File \u001b[0;32m/usr/local/lib/python3.11/site-packages/smolagents/agents.py:356\u001b[0m, in \u001b[0;36mMultiStepAgent._run\u001b[0;34m(self, task, max_steps, images)\u001b[0m\n\u001b[1;32m    353\u001b[0m     final_answer \u001b[38;5;241m=\u001b[39m \u001b[38;5;28mself\u001b[39m\u001b[38;5;241m.\u001b[39m_execute_step(task, action_step)\n\u001b[1;32m    354\u001b[0m \u001b[38;5;28;01mexcept\u001b[39;00m AgentGenerationError \u001b[38;5;28;01mas\u001b[39;00m e:\n\u001b[1;32m    355\u001b[0m     \u001b[38;5;66;03m# Agent generation errors are not caused by a Model error but an implementation error: so we should raise them and exit.\u001b[39;00m\n\u001b[0;32m--> 356\u001b[0m     \u001b[38;5;28;01mraise\u001b[39;00m e\n\u001b[1;32m    357\u001b[0m \u001b[38;5;28;01mexcept\u001b[39;00m AgentError \u001b[38;5;28;01mas\u001b[39;00m e:\n\u001b[1;32m    358\u001b[0m     \u001b[38;5;66;03m# Other AgentError types are caused by the Model, so we should log them and iterate.\u001b[39;00m\n\u001b[1;32m    359\u001b[0m     action_step\u001b[38;5;241m.\u001b[39merror \u001b[38;5;241m=\u001b[39m e\n",
      "File \u001b[0;32m/usr/local/lib/python3.11/site-packages/smolagents/agents.py:353\u001b[0m, in \u001b[0;36mMultiStepAgent._run\u001b[0;34m(self, task, max_steps, images)\u001b[0m\n\u001b[1;32m    351\u001b[0m action_step \u001b[38;5;241m=\u001b[39m \u001b[38;5;28mself\u001b[39m\u001b[38;5;241m.\u001b[39m_create_action_step(step_start_time, images)\n\u001b[1;32m    352\u001b[0m \u001b[38;5;28;01mtry\u001b[39;00m:\n\u001b[0;32m--> 353\u001b[0m     final_answer \u001b[38;5;241m=\u001b[39m \u001b[38;5;28;43mself\u001b[39;49m\u001b[38;5;241;43m.\u001b[39;49m\u001b[43m_execute_step\u001b[49m\u001b[43m(\u001b[49m\u001b[43mtask\u001b[49m\u001b[43m,\u001b[49m\u001b[43m \u001b[49m\u001b[43maction_step\u001b[49m\u001b[43m)\u001b[49m\n\u001b[1;32m    354\u001b[0m \u001b[38;5;28;01mexcept\u001b[39;00m AgentGenerationError \u001b[38;5;28;01mas\u001b[39;00m e:\n\u001b[1;32m    355\u001b[0m     \u001b[38;5;66;03m# Agent generation errors are not caused by a Model error but an implementation error: so we should raise them and exit.\u001b[39;00m\n\u001b[1;32m    356\u001b[0m     \u001b[38;5;28;01mraise\u001b[39;00m e\n",
      "File \u001b[0;32m/usr/local/lib/python3.11/site-packages/smolagents/agents.py:376\u001b[0m, in \u001b[0;36mMultiStepAgent._execute_step\u001b[0;34m(self, task, memory_step)\u001b[0m\n\u001b[1;32m    374\u001b[0m \u001b[38;5;28;01mdef\u001b[39;00m\u001b[38;5;250m \u001b[39m\u001b[38;5;21m_execute_step\u001b[39m(\u001b[38;5;28mself\u001b[39m, task: \u001b[38;5;28mstr\u001b[39m, memory_step: ActionStep) \u001b[38;5;241m-\u001b[39m\u001b[38;5;241m>\u001b[39m Union[\u001b[38;5;28;01mNone\u001b[39;00m, Any]:\n\u001b[1;32m    375\u001b[0m     \u001b[38;5;28mself\u001b[39m\u001b[38;5;241m.\u001b[39mlogger\u001b[38;5;241m.\u001b[39mlog_rule(\u001b[38;5;124mf\u001b[39m\u001b[38;5;124m\"\u001b[39m\u001b[38;5;124mStep \u001b[39m\u001b[38;5;132;01m{\u001b[39;00m\u001b[38;5;28mself\u001b[39m\u001b[38;5;241m.\u001b[39mstep_number\u001b[38;5;132;01m}\u001b[39;00m\u001b[38;5;124m\"\u001b[39m, level\u001b[38;5;241m=\u001b[39mLogLevel\u001b[38;5;241m.\u001b[39mINFO)\n\u001b[0;32m--> 376\u001b[0m     final_answer \u001b[38;5;241m=\u001b[39m \u001b[38;5;28;43mself\u001b[39;49m\u001b[38;5;241;43m.\u001b[39;49m\u001b[43mstep\u001b[49m\u001b[43m(\u001b[49m\u001b[43mmemory_step\u001b[49m\u001b[43m)\u001b[49m\n\u001b[1;32m    377\u001b[0m     \u001b[38;5;28;01mif\u001b[39;00m final_answer \u001b[38;5;129;01mis\u001b[39;00m \u001b[38;5;129;01mnot\u001b[39;00m \u001b[38;5;28;01mNone\u001b[39;00m \u001b[38;5;129;01mand\u001b[39;00m \u001b[38;5;28mself\u001b[39m\u001b[38;5;241m.\u001b[39mfinal_answer_checks:\n\u001b[1;32m    378\u001b[0m         \u001b[38;5;28mself\u001b[39m\u001b[38;5;241m.\u001b[39m_validate_final_answer(final_answer)\n",
      "File \u001b[0;32m/usr/local/lib/python3.11/site-packages/smolagents/agents.py:1241\u001b[0m, in \u001b[0;36mCodeAgent.step\u001b[0;34m(self, memory_step)\u001b[0m\n\u001b[1;32m   1239\u001b[0m     memory_step\u001b[38;5;241m.\u001b[39mmodel_output \u001b[38;5;241m=\u001b[39m model_output\n\u001b[1;32m   1240\u001b[0m \u001b[38;5;28;01mexcept\u001b[39;00m \u001b[38;5;167;01mException\u001b[39;00m \u001b[38;5;28;01mas\u001b[39;00m e:\n\u001b[0;32m-> 1241\u001b[0m     \u001b[38;5;28;01mraise\u001b[39;00m AgentGenerationError(\u001b[38;5;124mf\u001b[39m\u001b[38;5;124m\"\u001b[39m\u001b[38;5;124mError in generating model output:\u001b[39m\u001b[38;5;130;01m\\n\u001b[39;00m\u001b[38;5;132;01m{\u001b[39;00me\u001b[38;5;132;01m}\u001b[39;00m\u001b[38;5;124m\"\u001b[39m, \u001b[38;5;28mself\u001b[39m\u001b[38;5;241m.\u001b[39mlogger) \u001b[38;5;28;01mfrom\u001b[39;00m\u001b[38;5;250m \u001b[39m\u001b[38;5;21;01me\u001b[39;00m\n\u001b[1;32m   1243\u001b[0m \u001b[38;5;28mself\u001b[39m\u001b[38;5;241m.\u001b[39mlogger\u001b[38;5;241m.\u001b[39mlog_markdown(\n\u001b[1;32m   1244\u001b[0m     content\u001b[38;5;241m=\u001b[39mmodel_output,\n\u001b[1;32m   1245\u001b[0m     title\u001b[38;5;241m=\u001b[39m\u001b[38;5;124m\"\u001b[39m\u001b[38;5;124mOutput message of the LLM:\u001b[39m\u001b[38;5;124m\"\u001b[39m,\n\u001b[1;32m   1246\u001b[0m     level\u001b[38;5;241m=\u001b[39mLogLevel\u001b[38;5;241m.\u001b[39mDEBUG,\n\u001b[1;32m   1247\u001b[0m )\n\u001b[1;32m   1249\u001b[0m \u001b[38;5;66;03m# Parse\u001b[39;00m\n",
      "\u001b[0;31mAgentGenerationError\u001b[0m: Error in generating model output:\n404 Client Error: Not Found for url: http://jupyter-api-proxy.internal.dlai/rev-proxy/huggingface_inference_provider/hf-inference/models/Qwen/Qwen2.5-Coder-32B-Instruct/v1/chat/completions (Request ID: Self=1-68f2d889-12acda7d5bf2552b2bd0de28;Root=1-68f2d889-6a19b8ba0067d4927bb4de85;385460d4-6101-45da-873a-e60086cdfe9a)"
     ]
    }
   ],
   "source": [
    "output = agent.run(\n",
    "    \"Give me one of the top github repos from organization huggingface.\"\n",
    ")\n",
    "print(\"E2B executor result:\", output)"
   ]
  },
  {
   "cell_type": "code",
   "execution_count": null,
   "id": "25646b2c-e118-4451-abe5-0ee2bfbe7372",
   "metadata": {
    "height": 31
   },
   "outputs": [],
   "source": []
  }
 ],
 "metadata": {
  "kernelspec": {
   "display_name": "Python 3 (ipykernel)",
   "language": "python",
   "name": "python3"
  },
  "language_info": {
   "codemirror_mode": {
    "name": "ipython",
    "version": 3
   },
   "file_extension": ".py",
   "mimetype": "text/x-python",
   "name": "python",
   "nbconvert_exporter": "python",
   "pygments_lexer": "ipython3",
   "version": "3.11.9"
  }
 },
 "nbformat": 4,
 "nbformat_minor": 5
}
