{
 "cells": [
  {
   "cell_type": "markdown",
   "id": "39be16e2",
   "metadata": {},
   "source": [
    "## Reference:\n",
    "- https://learn.deeplearning.ai/courses/ai-agents-in-langgraph/lesson/"
   ]
  },
  {
   "cell_type": "markdown",
   "id": "b5789bc3-b1ae-42c7-94a8-2ef4f89946fc",
   "metadata": {},
   "source": [
    "# Overview: Persistence and Streaming\n",
    "This notebook goes over 2 topics\n",
    "1. **Streaming**:\n",
    "    - Lets us see what the agent is doing. This can be done at 2 levels:\n",
    "        - **Streaming messages**: (AI message, Tool message, next AI message, etc.)\n",
    "            - Done through `graph.stream()` method\n",
    "        - **Streaming tokens**: (E.g. LLM tokens)\n",
    "            - Done through `graph.astream_events()` method (which are `async` methods on all LG/LC objects).\n",
    "2. **Persistence**:\n",
    "    - Lets keep the state of an agent. \n",
    "    - We can go back & resume from that state for long running applications or multiple conversations. This is done using:\n",
    "        - **Checkpointer** concept: \n",
    "            - Checkpoints the state after & between every node. \n",
    "            - It can be in memory / persistent db.\n",
    "            - Pass it to `graph.compile(checkpointer=<>)`\n",
    "            - We need regular checkpointer (e.g. built in db `SqlliteSaver`) for **Streaming messages** and `async` checkpointer (e.g. `AsyncSqliteSaver`) for **Streaming tokens**.\n",
    "        - **Thread config** conecpt:\n",
    "            - Allows to keep track of different threads in checkpointer & have multiple conversations at same time. \n",
    "            - Should be passed to `graph.stream()/astream_events()` methods.\n"
   ]
  },
  {
   "cell_type": "code",
   "execution_count": 1,
   "id": "f5762271-8736-4e94-9444-8c92bd0e8074",
   "metadata": {
    "height": 64
   },
   "outputs": [],
   "source": [
    "from dotenv import load_dotenv\n",
    "\n",
    "_ = load_dotenv()"
   ]
  },
  {
   "cell_type": "code",
   "execution_count": 2,
   "id": "d0168aee-bce9-4d60-b827-f86a88187e31",
   "metadata": {
    "height": 115
   },
   "outputs": [],
   "source": [
    "from langgraph.graph import StateGraph, END\n",
    "from typing import TypedDict, Annotated\n",
    "import operator\n",
    "from langchain_core.messages import AnyMessage, SystemMessage, HumanMessage, ToolMessage\n",
    "from langchain_openai import ChatOpenAI\n",
    "from langchain_community.tools.tavily_search import TavilySearchResults"
   ]
  },
  {
   "cell_type": "code",
   "execution_count": 3,
   "id": "da06a64f-a2d5-4a66-8090-9ada0930c684",
   "metadata": {
    "height": 30
   },
   "outputs": [],
   "source": [
    "tool = TavilySearchResults(max_results=2)"
   ]
  },
  {
   "cell_type": "code",
   "execution_count": 4,
   "id": "2589c5b6-6cc2-4594-9a17-dccdcf676054",
   "metadata": {
    "height": 47
   },
   "outputs": [],
   "source": [
    "class AgentState(TypedDict):\n",
    "    messages: Annotated[list[AnyMessage], operator.add]"
   ]
  },
  {
   "cell_type": "markdown",
   "id": "2c3a0a80",
   "metadata": {
    "height": 30
   },
   "source": [
    "## Persistence & Streaming messages "
   ]
  },
  {
   "cell_type": "code",
   "execution_count": 5,
   "id": "9c033522-d2fc-41ac-8e3c-5e35872bf88d",
   "metadata": {
    "height": 64
   },
   "outputs": [],
   "source": [
    "# Persistence: Checkpointer\n",
    "from langgraph.checkpoint.sqlite import SqliteSaver\n",
    "memory = SqliteSaver.from_conn_string(\":memory:\") \n",
    "# In memory db. Not persistent. But can be connected to external db"
   ]
  },
  {
   "cell_type": "code",
   "execution_count": 6,
   "id": "a2ba84ec-c172-4de7-ac55-e3158a531b23",
   "metadata": {
    "height": 574
   },
   "outputs": [],
   "source": [
    "class Agent:\n",
    "    def __init__(self, model, tools, checkpointer, system=\"\"):\n",
    "        self.system = system\n",
    "        graph = StateGraph(AgentState)\n",
    "        graph.add_node(\"llm\", self.call_openai)\n",
    "        graph.add_node(\"action\", self.take_action)\n",
    "        graph.add_conditional_edges(\"llm\", self.exists_action, {True: \"action\", False: END})\n",
    "        graph.add_edge(\"action\", \"llm\")\n",
    "        graph.set_entry_point(\"llm\")\n",
    "        self.graph = graph.compile(checkpointer=checkpointer)\n",
    "        self.tools = {t.name: t for t in tools}\n",
    "        self.model = model.bind_tools(tools)\n",
    "\n",
    "    def call_openai(self, state: AgentState):\n",
    "        messages = state['messages']\n",
    "        if self.system:\n",
    "            messages = [SystemMessage(content=self.system)] + messages\n",
    "        message = self.model.invoke(messages)\n",
    "        return {'messages': [message]}\n",
    "\n",
    "    def exists_action(self, state: AgentState):\n",
    "        result = state['messages'][-1]\n",
    "        return len(result.tool_calls) > 0\n",
    "\n",
    "    def take_action(self, state: AgentState):\n",
    "        tool_calls = state['messages'][-1].tool_calls\n",
    "        results = []\n",
    "        for t in tool_calls:\n",
    "            print(f\"Calling: {t}\")\n",
    "            result = self.tools[t['name']].invoke(t['args'])\n",
    "            results.append(ToolMessage(tool_call_id=t['id'], name=t['name'], content=str(result)))\n",
    "        print(\"Back to the model!\")\n",
    "        return {'messages': results}"
   ]
  },
  {
   "cell_type": "code",
   "execution_count": 7,
   "id": "876d5092-b8ef-4e38-b4d7-0e80c609bf7a",
   "metadata": {
    "height": 132
   },
   "outputs": [],
   "source": [
    "prompt = \"\"\"You are a smart research assistant. Use the search engine to look up information. \\\n",
    "You are allowed to make multiple calls (either together or in sequence). \\\n",
    "Only look up information when you are sure of what you want. \\\n",
    "If you need to look up some information before asking a follow up question, you are allowed to do that!\n",
    "\"\"\"\n",
    "model = ChatOpenAI(model=\"gpt-4o\")\n",
    "abot = Agent(model, [tool], system=prompt, checkpointer=memory)"
   ]
  },
  {
   "cell_type": "code",
   "execution_count": 8,
   "id": "10084a02-2928-4945-9f7c-ad3f5b33caf7",
   "metadata": {
    "height": 30
   },
   "outputs": [],
   "source": [
    "messages = [HumanMessage(content=\"What is the weather in sf?\")]"
   ]
  },
  {
   "cell_type": "code",
   "execution_count": 9,
   "id": "714d1205-f8fc-4912-b148-2a45da99219c",
   "metadata": {
    "height": 30
   },
   "outputs": [],
   "source": [
    "# Need it to track multiple conversations in checkpointer \n",
    "thread = {\"configurable\": {\"thread_id\": \"1\"}}"
   ]
  },
  {
   "cell_type": "code",
   "execution_count": 10,
   "id": "83588e70-254f-4f83-a510-c8ae81e729b0",
   "metadata": {
    "height": 64
   },
   "outputs": [
    {
     "name": "stdout",
     "output_type": "stream",
     "text": [
      "[AIMessage(content='', additional_kwargs={'tool_calls': [{'id': 'call_bmfLa92f6oAIKN9KvXtqbKDz', 'function': {'arguments': '{\"query\":\"current weather in San Francisco\"}', 'name': 'tavily_search_results_json'}, 'type': 'function'}]}, response_metadata={'token_usage': {'completion_tokens': 22, 'prompt_tokens': 151, 'total_tokens': 173, 'prompt_tokens_details': {'cached_tokens': 0, 'audio_tokens': 0}, 'completion_tokens_details': {'reasoning_tokens': 0, 'audio_tokens': 0, 'accepted_prediction_tokens': 0, 'rejected_prediction_tokens': 0}}, 'model_name': 'gpt-4o', 'system_fingerprint': 'fp_831e067d82', 'finish_reason': 'tool_calls', 'logprobs': None}, id='run-c76b681d-aa2e-4298-a68a-7bd6679c653e-0', tool_calls=[{'name': 'tavily_search_results_json', 'args': {'query': 'current weather in San Francisco'}, 'id': 'call_bmfLa92f6oAIKN9KvXtqbKDz'}])]\n",
      "Calling: {'name': 'tavily_search_results_json', 'args': {'query': 'current weather in San Francisco'}, 'id': 'call_bmfLa92f6oAIKN9KvXtqbKDz'}\n",
      "Back to the model!\n",
      "[ToolMessage(content='[{\\'url\\': \\'https://world-weather.info/forecast/usa/san_francisco/october-2025/\\', \\'content\\': \"Add the current city\\\\n\\\\n Weather\\\\n Archive\\\\n Weather Widget\\\\n\\\\n World\\\\n United States\\\\n California\\\\n Weather in San Francisco\\\\n\\\\n# Weather in San Francisco in October 2025\\\\n\\\\nSan Francisco Weather Forecast for October 2025 is based on long term prognosis and previous years\\' statistical data.\\\\n\\\\n201520162017201820192020202120222023202420252026\\\\n\\\\nJanFebMarAprMayJunJulAugSepOctNovDec\\\\n\\\\n## October\\\\n\\\\nStart Week On\\\\n\\\\n Sun\\\\n Mon\\\\n Tue\\\\n Wed\\\\n Thu\\\\n Fri\\\\n Sat\\\\n\\\\n +70°\\\\n\\\\n  6.3 mph S 30 inHg77 %07:05 am06:52 pm\\\\n 2\\\\n\\\\n  +66°\\\\n\\\\n  +64° [...] +57°\\\\n\\\\n  6.5 mph SE 29.9 inHg82 %07:29 am06:17 pm\\\\n 27\\\\n\\\\n  +63°\\\\n\\\\n  +59°\\\\n\\\\n  15.7 mph NW 30.4 inHg71 %07:30 am06:16 pm\\\\n 28\\\\n\\\\n  +68°\\\\n\\\\n  +63°\\\\n\\\\n  9.8 mph NE 30.1 inHg46 %07:31 am06:15 pm\\\\n 29\\\\n\\\\n  +68°\\\\n\\\\n  +66°\\\\n\\\\n  8.5 mph NE 30 inHg46 %07:32 am06:14 pm\\\\n 30\\\\n\\\\n  +66°\\\\n\\\\n  +66°\\\\n\\\\n  8.3 mph NE 30.4 inHg45 %07:33 am06:13 pm\\\\n 31\\\\n\\\\n  +66°\\\\n\\\\n  +55°\\\\n\\\\n  11 mph W 30 inHg63 %07:34 am06:11 pm\\\\n\\\\n## Extended weather forecast in San Francisco\\\\n\\\\nHourlyWeek10-Day14-Day30-DayYear\\\\n\\\\n## Weather in large and nearby cities [...] 3.8 mph NE 29.9 inHg77 %07:21 am06:27 pm\\\\n 19\\\\n\\\\n  +66°\\\\n\\\\n  +57°\\\\n\\\\n  4.9 mph SW 30 inHg82 %07:22 am06:26 pm\\\\n 20\\\\n\\\\n  +68°\\\\n\\\\n  +55°\\\\n\\\\n  11.4 mph W 30 inHg51 %07:23 am06:25 pm\\\\n 21\\\\n\\\\n  +72°\\\\n\\\\n  +57°\\\\n\\\\n  9.8 mph NE 29.9 inHg33 %07:24 am06:23 pm\\\\n 22\\\\n\\\\n  +70°\\\\n\\\\n  +55°\\\\n\\\\n  2.7 mph NE 30 inHg63 %07:25 am06:22 pm\\\\n 23\\\\n\\\\n  +63°\\\\n\\\\n  +55°\\\\n\\\\n  3.6 mph SW 29.9 inHg79 %07:26 am06:21 pm\\\\n 24\\\\n\\\\n  +63°\\\\n\\\\n  +55°\\\\n\\\\n  10.7 mph W 30 inHg63 %07:27 am06:20 pm\\\\n 25\\\\n\\\\n  +64°\\\\n\\\\n  +54°\\\\n\\\\n  7.8 mph W 30 inHg68 %07:28 am06:18 pm\\\\n 26\\\\n\\\\n  +59°\"}, {\\'url\\': \\'https://weather.com/weather/today/l/USCA0987:1:US\\', \\'content\\': \"© The Weather Company, LLC 2025 [...] Partly cloudy skies. High near 75F. Winds NNE at 5 to 10 mph.\\\\n\\\\n## Night\\\\n\\\\nClear skies. Low around 55F. Winds WNW at 5 to 10 mph.\\\\n\\\\n## Radar\\\\n\\\\n## Travel\\\\n\\\\n## We Love Our Critters\\\\n\\\\n## Lonely Planet\\\\n\\\\n## Home, Garage & Garden\\\\n\\\\n## Editor\\'s Pick\\\\n\\\\n## Keeping You Healthy\\\\n\\\\n## Product Reviews & Deals\\\\n\\\\nundefined\\\\n\\\\nStay Warm With These 10 Cozy Jackets On Sale Now\\\\n\\\\nundefined\\\\n\\\\nThis $13 Hoodie Is Selling Fast As Weather Turns Colder\\\\n\\\\nundefined\\\\n\\\\n20 Gifts For Fall And Winter Exercise Enthusiasts\\\\n\\\\nundefined [...] ## Recents\\\\n\\\\n## Weather Forecasts\\\\n\\\\n## Radar & Maps\\\\n\\\\n## News & Media\\\\n\\\\n## Products & Account\\\\n\\\\n## Lifestyle\\\\n\\\\n### Specialty Forecasts\\\\n\\\\n# Downtown, San Francisco, California\\\\n\\\\n## Weather Today in Downtown, San Francisco, California\\\\n\\\\n7:18 am\\\\n\\\\n6:31 pm\\\\n\\\\n# Hourly Weather-Downtown, San Francisco, California\\\\n\\\\n## Now\\\\n\\\\nPartly Cloudy\\\\n\\\\n## 7 pm\\\\n\\\\nPartly Cloudy\\\\n\\\\n## 8 pm\\\\n\\\\nMostly Clear\\\\n\\\\n## 9 pm\\\\n\\\\nClear\\\\n\\\\n## Don\\'t Miss\\\\n\\\\n## Seasonal Hub\\\\n\\\\n# 10 Day Weather-Downtown, San Francisco, California\\\\n\\\\n## Tonight\\\\n\\\\n## Night\"}]', name='tavily_search_results_json', tool_call_id='call_bmfLa92f6oAIKN9KvXtqbKDz')]\n",
      "[AIMessage(content='The current weather in San Francisco is partly cloudy with a high of around 75°F. Winds are from the north-northeast at 5 to 10 mph. Tonight, the skies are expected to be clear with a low around 55°F, and winds from the west-northwest at 5 to 10 mph.', response_metadata={'token_usage': {'completion_tokens': 68, 'prompt_tokens': 1300, 'total_tokens': 1368, 'prompt_tokens_details': {'cached_tokens': 0, 'audio_tokens': 0}, 'completion_tokens_details': {'reasoning_tokens': 0, 'audio_tokens': 0, 'accepted_prediction_tokens': 0, 'rejected_prediction_tokens': 0}}, 'model_name': 'gpt-4o', 'system_fingerprint': 'fp_f33640a400', 'finish_reason': 'stop', 'logprobs': None}, id='run-64caa240-baff-4e58-a2ce-715e90952ae4-0')]\n"
     ]
    }
   ],
   "source": [
    "# Calling stream instead of invoke\n",
    "for event in abot.graph.stream({\"messages\": messages}, thread):\n",
    "    for v in event.values():\n",
    "        print(v['messages'])"
   ]
  },
  {
   "cell_type": "code",
   "execution_count": 11,
   "id": "6cb3ef4c-58b3-401b-b104-0d51e553d982",
   "metadata": {
    "height": 98
   },
   "outputs": [
    {
     "name": "stdout",
     "output_type": "stream",
     "text": [
      "{'messages': [AIMessage(content='', additional_kwargs={'tool_calls': [{'id': 'call_H7uUaTSURmaSKyYnK7YqnvEd', 'function': {'arguments': '{\"query\":\"current weather in Los Angeles\"}', 'name': 'tavily_search_results_json'}, 'type': 'function'}]}, response_metadata={'token_usage': {'completion_tokens': 22, 'prompt_tokens': 1380, 'total_tokens': 1402, 'prompt_tokens_details': {'cached_tokens': 1280, 'audio_tokens': 0}, 'completion_tokens_details': {'reasoning_tokens': 0, 'audio_tokens': 0, 'accepted_prediction_tokens': 0, 'rejected_prediction_tokens': 0}}, 'model_name': 'gpt-4o', 'system_fingerprint': 'fp_f33640a400', 'finish_reason': 'tool_calls', 'logprobs': None}, id='run-c0fcc71d-1cf8-4900-b69c-edb7265a905b-0', tool_calls=[{'name': 'tavily_search_results_json', 'args': {'query': 'current weather in Los Angeles'}, 'id': 'call_H7uUaTSURmaSKyYnK7YqnvEd'}])]}\n",
      "Calling: {'name': 'tavily_search_results_json', 'args': {'query': 'current weather in Los Angeles'}, 'id': 'call_H7uUaTSURmaSKyYnK7YqnvEd'}\n",
      "Back to the model!\n",
      "{'messages': [ToolMessage(content='[{\\'url\\': \\'https://world-weather.info/forecast/usa/los_angeles/october-2025/\\', \\'content\\': \"Add the current city\\\\n\\\\n Weather\\\\n Archive\\\\n Weather Widget\\\\n\\\\n World\\\\n United States\\\\n California\\\\n Weather in Los Angeles\\\\n\\\\n# Weather in Los Angeles in October 2025\\\\n\\\\nLos Angeles Weather Forecast for October 2025 is based on long term prognosis and previous years\\' statistical data.\\\\n\\\\n201520162017201820192020202120222023202420252026\\\\n\\\\nJanFebMarAprMayJunJulAugSepOctNovDec\\\\n\\\\n## October\\\\n\\\\nStart Week On\\\\n\\\\n Sun\\\\n Mon\\\\n Tue\\\\n Wed\\\\n Thu\\\\n Fri\\\\n Sat\\\\n\\\\n +73°\\\\n\\\\n  2.7 mph E 29.7 inHg91 %06:47 am06:36 pm\\\\n +75°\\\\n\\\\n  +61° [...] +77°\\\\n\\\\n  +59°\\\\n\\\\n  3.6 mph W 29.6 inHg52 %07:00 am06:15 pm\\\\n 19\\\\n\\\\n  +77°\\\\n\\\\n  +63°\\\\n\\\\n  1.1 mph N 29.6 inHg63 %07:01 am06:13 pm\\\\n 20\\\\n\\\\n  +75°\\\\n\\\\n  +63°\\\\n\\\\n  1.8 mph NE 29.6 inHg68 %07:02 am06:12 pm\\\\n 21\\\\n\\\\n  +72°\\\\n\\\\n  +57°\\\\n\\\\n  5.4 mph SW 29.6 inHg56 %07:03 am06:11 pm\\\\n 22\\\\n\\\\n  +72°\\\\n\\\\n  +59°\\\\n\\\\n  5.4 mph SW 29.6 inHg64 %07:04 am06:10 pm\\\\n 23\\\\n\\\\n  +73°\\\\n\\\\n  +57°\\\\n\\\\n  4 mph NE 29.7 inHg86 %07:05 am06:09 pm\\\\n 24\\\\n\\\\n  +75°\\\\n\\\\n  +59°\\\\n\\\\n  4 mph N 29.7 inHg93 %07:06 am06:08 pm\\\\n 25\\\\n\\\\n  +72°\\\\n\\\\n  +59° [...] 5.4 mph SW 29.7 inHg61 %07:06 am06:07 pm\\\\n 26\\\\n\\\\n  +73°\\\\n\\\\n  +61°\\\\n\\\\n  7.6 mph SW 30 inHg36 %07:07 am06:05 pm\\\\n 27\\\\n\\\\n  +75°\\\\n\\\\n  +70°\\\\n\\\\n  8.1 mph W 29.6 inHg39 %07:08 am06:04 pm\\\\n 28\\\\n\\\\n  +84°\\\\n\\\\n  +75°\\\\n\\\\n  4.9 mph W 30 inHg21 %07:09 am06:03 pm\\\\n 29\\\\n\\\\n  +88°\\\\n\\\\n  +81°\\\\n\\\\n  7.2 mph W 30 inHg13 %07:10 am06:02 pm\\\\n 30\\\\n\\\\n  +72°\\\\n\\\\n  +81°\\\\n\\\\n  7.6 mph SW 30.3 inHg15 %07:11 am06:01 pm\\\\n 31\\\\n\\\\n  +72°\\\\n\\\\n  +59°\\\\n\\\\n  5.1 mph SW 29.6 inHg42 %07:12 am06:00 pm\\\\n\\\\n## Extended weather forecast in Los Angeles\\\\n\\\\nHourlyWeek10-Day14-Day30-DayYear\"}, {\\'url\\': \\'https://www.weather25.com/north-america/usa/california/los-angeles?page=month&month=October\\', \\'content\\': \\'United States England Australia Canada\\\\n\\\\n°F °C\\\\n\\\\nLos Angeles\\\\n\\\\nWeather in October 2025\\\\n\\\\n1. Home\\\\n2. North America\\\\n3. United States\\\\n4. California\\\\n5. Los Angeles\\\\n6. October\\\\n\\\\nLocation was added to My Locations\\\\n\\\\nLocation was removed from My Locations\\\\n\\\\n# Los Angeles weather in October 2025\\\\n\\\\nClick on a day for an hourly weather forecast\\\\n\\\\nOct 15\\\\n\\\\n3.5 mm\\\\n\\\\n22° / 11°Oct 16\\\\n\\\\n0 mm\\\\n\\\\n28° / 12°Oct 17\\\\n\\\\n0 mm\\\\n\\\\n30° / 15°Saturday\\\\n\\\\nOct 18\\\\n\\\\n0 mm\\\\n\\\\n27° / 17°Sunday\\\\n\\\\nOct 19\\\\n\\\\n0 mm\\\\n\\\\n26° / 18°Monday\\\\n\\\\nOct 20\\\\n\\\\n0 mm [...] You can expect a few rainy days in Los Angeles during October, but usually the weather is comfortable in October.\\\\n\\\\nOur weather forecast can give you a great sense of what weather to expect in Los Angeles in October 2025.\\\\n\\\\nIf you’re planning to visit Los Angeles in the near future, we highly recommend that you review the 14 day weather forecast for Los Angeles before you arrive.\\\\n\\\\nTemperatures\\\\n\\\\n27° / 18°\\\\n\\\\nRainy Days\\\\n\\\\n1\\\\n\\\\nSnowy Days\\\\n\\\\n0\\\\n\\\\nDry Days\\\\n\\\\n30\\\\n\\\\nRainfall\\\\n\\\\n10\\\\n\\\\nmm\\\\n\\\\nSun Hours\\\\n\\\\n11.7\\\\n\\\\nHrs [...] | 26  27° /20° | 27  29° /19° | 28  32° /22° | 29  24° /16° | 30  25° /16° | 31  25° /16° |\\'}]', name='tavily_search_results_json', tool_call_id='call_H7uUaTSURmaSKyYnK7YqnvEd')]}\n",
      "{'messages': [AIMessage(content='The current weather in Los Angeles is partly cloudy with temperatures around 75°F. Winds are light, coming from the west at about 5.4 mph. Tonight, the temperature is expected to drop to around 59°F.', response_metadata={'token_usage': {'completion_tokens': 47, 'prompt_tokens': 2614, 'total_tokens': 2661, 'prompt_tokens_details': {'cached_tokens': 1280, 'audio_tokens': 0}, 'completion_tokens_details': {'reasoning_tokens': 0, 'audio_tokens': 0, 'accepted_prediction_tokens': 0, 'rejected_prediction_tokens': 0}}, 'model_name': 'gpt-4o', 'system_fingerprint': 'fp_f33640a400', 'finish_reason': 'stop', 'logprobs': None}, id='run-6df688b6-b8c2-42eb-a799-335703997115-0')]}\n"
     ]
    }
   ],
   "source": [
    "# Continues the context (persistence from checkpoint & thread id)\n",
    "messages = [HumanMessage(content=\"What about in la?\")]\n",
    "thread = {\"configurable\": {\"thread_id\": \"1\"}}\n",
    "for event in abot.graph.stream({\"messages\": messages}, thread):\n",
    "    for v in event.values():\n",
    "        print(v)"
   ]
  },
  {
   "cell_type": "code",
   "execution_count": 12,
   "id": "dc3293b7-a50c-43c8-a022-8975e1e444b8",
   "metadata": {
    "height": 98
   },
   "outputs": [
    {
     "name": "stdout",
     "output_type": "stream",
     "text": [
      "{'messages': [AIMessage(content=\"Currently, both San Francisco and Los Angeles have similar temperatures around 75°F. However, Los Angeles is expected to be slightly warmer during the night with a low of 59°F compared to San Francisco's expected low of 55°F. So, Los Angeles is a bit warmer overall.\", response_metadata={'token_usage': {'completion_tokens': 59, 'prompt_tokens': 2673, 'total_tokens': 2732, 'prompt_tokens_details': {'cached_tokens': 2560, 'audio_tokens': 0}, 'completion_tokens_details': {'reasoning_tokens': 0, 'audio_tokens': 0, 'accepted_prediction_tokens': 0, 'rejected_prediction_tokens': 0}}, 'model_name': 'gpt-4o', 'system_fingerprint': 'fp_f33640a400', 'finish_reason': 'stop', 'logprobs': None}, id='run-f73b5d42-828b-43d2-bc5f-af1abce18784-0')]}\n"
     ]
    }
   ],
   "source": [
    "# Continues the context (persistence from checkpoint & thread id)\n",
    "messages = [HumanMessage(content=\"Which one is warmer?\")]\n",
    "thread = {\"configurable\": {\"thread_id\": \"1\"}}\n",
    "for event in abot.graph.stream({\"messages\": messages}, thread):\n",
    "    for v in event.values():\n",
    "        print(v)"
   ]
  },
  {
   "cell_type": "code",
   "execution_count": 13,
   "id": "0722c3d4-4cbf-43bf-81b0-50f634c4ce61",
   "metadata": {
    "height": 98
   },
   "outputs": [
    {
     "name": "stdout",
     "output_type": "stream",
     "text": [
      "{'messages': [AIMessage(content=\"Could you please clarify what you're comparing to determine which is warmer? Are you comparing two specific locations, types of clothing, materials, or something else? Let me know so I can provide the appropriate information.\", response_metadata={'token_usage': {'completion_tokens': 43, 'prompt_tokens': 149, 'total_tokens': 192, 'prompt_tokens_details': {'cached_tokens': 0, 'audio_tokens': 0}, 'completion_tokens_details': {'reasoning_tokens': 0, 'audio_tokens': 0, 'accepted_prediction_tokens': 0, 'rejected_prediction_tokens': 0}}, 'model_name': 'gpt-4o', 'system_fingerprint': 'fp_f9f4fb6dbf', 'finish_reason': 'stop', 'logprobs': None}, id='run-0d52c758-ff73-4521-b59f-5e7ecc9e9b75-0')]}\n"
     ]
    }
   ],
   "source": [
    "# Breaks the context (different thread id)\n",
    "messages = [HumanMessage(content=\"Which one is warmer?\")]\n",
    "thread = {\"configurable\": {\"thread_id\": \"2\"}}\n",
    "for event in abot.graph.stream({\"messages\": messages}, thread):\n",
    "    for v in event.values():\n",
    "        print(v)"
   ]
  },
  {
   "cell_type": "markdown",
   "id": "ace59a36-3941-459e-b9d1-ac5a4a1ed3ae",
   "metadata": {},
   "source": [
    "## Streaming tokens"
   ]
  },
  {
   "cell_type": "code",
   "execution_count": 14,
   "id": "6b2f82fe-3ec4-4917-be51-9fb10d1317fa",
   "metadata": {
    "height": 81
   },
   "outputs": [],
   "source": [
    "from langgraph.checkpoint.aiosqlite import AsyncSqliteSaver\n",
    "\n",
    "memory = AsyncSqliteSaver.from_conn_string(\":memory:\")\n",
    "abot = Agent(model, [tool], system=prompt, checkpointer=memory)"
   ]
  },
  {
   "cell_type": "code",
   "execution_count": 16,
   "id": "ee0fe1c7-77e2-499c-a2f9-1f739bb6ddf0",
   "metadata": {
    "height": 200
   },
   "outputs": [
    {
     "name": "stdout",
     "output_type": "stream",
     "text": [
      "Calling: {'name': 'tavily_search_results_json', 'args': {'query': 'current weather in San Francisco October 16 2023'}, 'id': 'call_jY6Y9t45b6KvrazqsTXp4Yyy'}\n",
      "Back to the model!\n",
      "The| current| weather| in| San| Francisco| for| October| |16|,| |202|3|,| is| expected| to| be| sunny| with| temperatures| around| |72|°F| during| the| day| and| dropping| to| about| |61|°F| at| night|.| There| might| be| some| fog| late| in| the| evening|.| The| wind| is| coming| from| the| west| at| about| |13|.|6| mph|.| Overall|,| it's| a| pleasant| day| with| clear| skies|.|"
     ]
    }
   ],
   "source": [
    "messages = [HumanMessage(content=\"What is the weather in SF?\")]\n",
    "thread = {\"configurable\": {\"thread_id\": \"4\"}}\n",
    "async for event in abot.graph.astream_events({\"messages\": messages}, thread, version=\"v1\"):\n",
    "    kind = event[\"event\"]\n",
    "    if kind == \"on_chat_model_stream\":\n",
    "        content = event[\"data\"][\"chunk\"].content\n",
    "        if content:\n",
    "            # Empty content in the context of OpenAI means\n",
    "            # that the model is asking for a tool to be invoked.\n",
    "            # So we only print non-empty content\n",
    "            print(content, end=\"|\")"
   ]
  },
  {
   "cell_type": "code",
   "execution_count": null,
   "id": "98f303b1-a4d0-408c-8cc0-515ff980717f",
   "metadata": {
    "height": 30
   },
   "outputs": [],
   "source": []
  }
 ],
 "metadata": {
  "kernelspec": {
   "display_name": "Python 3 (ipykernel)",
   "language": "python",
   "name": "python3"
  },
  "language_info": {
   "codemirror_mode": {
    "name": "ipython",
    "version": 3
   },
   "file_extension": ".py",
   "mimetype": "text/x-python",
   "name": "python",
   "nbconvert_exporter": "python",
   "pygments_lexer": "ipython3",
   "version": "3.11.9"
  }
 },
 "nbformat": 4,
 "nbformat_minor": 5
}
