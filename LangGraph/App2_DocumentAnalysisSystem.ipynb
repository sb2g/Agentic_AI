{
 "cells": [
  {
   "cell_type": "markdown",
   "metadata": {},
   "source": [
    "##### What is this notebook about?\n",
    "\n",
    "- We’ll create a document analysis system that:\n",
    "    - Process images document\n",
    "    - Extract text using vision models (Vision Language Model)\n",
    "    - Perform calculations when needed (to demonstrate normal tools)\n",
    "    - Analyze content and provide concise summaries\n",
    "    - Execute specific instructions related to documents\n"
   ]
  },
  {
   "cell_type": "code",
   "execution_count": 1,
   "metadata": {},
   "outputs": [],
   "source": [
    "import os\n",
    "from typing import TypedDict, List, Dict, Any, Annotated, Optional\n",
    "from langgraph.graph import StateGraph, START, END\n",
    "from langchain_openai import ChatOpenAI\n",
    "from langchain_core.messages import HumanMessage, AIMessage, AnyMessage, SystemMessage\n",
    "#from langchain_huggingface import ChatHuggingFace, HuggingFaceEndpoint\n",
    "\n",
    "import base64\n",
    "from langgraph.graph.message import add_messages\n",
    "from langgraph.prebuilt import ToolNode, tools_condition\n",
    "\n",
    "from IPython.display import Image, display"
   ]
  },
  {
   "cell_type": "markdown",
   "metadata": {},
   "source": [
    "### Setup AI model (LLM here)"
   ]
  },
  {
   "cell_type": "code",
   "execution_count": 2,
   "metadata": {},
   "outputs": [],
   "source": [
    "# Set your OpenAI API key here\n",
    "from dotenv import load_dotenv, find_dotenv\n",
    "_ = load_dotenv(find_dotenv()) # read local .env file\n",
    "api_key = os.getenv('sk')\n",
    "os.environ[\"OPENAI_API_KEY\"] = api_key  # Replace with your actual API key\n",
    "\n",
    "# Initialize LLM\n",
    "# model = ChatOpenAI(model=\"gpt-4o-mini\",temperature=0)"
   ]
  },
  {
   "cell_type": "markdown",
   "metadata": {},
   "source": [
    "### Define state\n",
    "-  To track all aspects of email processing\n",
    "\n",
    "- AnyMessage is a class from Langchain that defines messages, and \n",
    "- add_messages is an operator that adds the latest message rather than overwriting it with the latest state. \n",
    "- This is a new concept in LangGraph, where you can add operators in your state to define the way they should interact together."
   ]
  },
  {
   "cell_type": "code",
   "execution_count": 3,
   "metadata": {},
   "outputs": [],
   "source": [
    "class AgentState(TypedDict):\n",
    "    # The document provided\n",
    "    input_file: Optional[str]  # Contains file path (PDF/PNG)\n",
    "    messages: Annotated[list[AnyMessage], add_messages]"
   ]
  },
  {
   "cell_type": "markdown",
   "metadata": {},
   "source": [
    "### Prepare tools"
   ]
  },
  {
   "cell_type": "code",
   "execution_count": 4,
   "metadata": {},
   "outputs": [],
   "source": [
    "vision_llm = ChatOpenAI(model=\"gpt-4o\")\n",
    "\n",
    "def extract_text(img_path: str) -> str:\n",
    "    \"\"\"\n",
    "    Extract text from an image file using a multimodal model.\n",
    "    \n",
    "    Master Wayne often leaves notes with his training regimen or meal plans.\n",
    "    This allows me to properly analyze the contents.\n",
    "    \"\"\"\n",
    "    all_text = \"\"\n",
    "    try:\n",
    "        # Read image and encode as base64\n",
    "        with open(img_path, \"rb\") as image_file:\n",
    "            image_bytes = image_file.read()\n",
    "\n",
    "        image_base64 = base64.b64encode(image_bytes).decode(\"utf-8\")\n",
    "\n",
    "        # Prepare the prompt including the base64 image data\n",
    "        message = [\n",
    "            HumanMessage(\n",
    "                content=[\n",
    "                    {\n",
    "                        \"type\": \"text\",\n",
    "                        \"text\": (\n",
    "                            \"Extract all the text from this image. \"\n",
    "                            \"Return only the extracted text, no explanations.\"\n",
    "                        ),\n",
    "                    },\n",
    "                    {\n",
    "                        \"type\": \"image_url\",\n",
    "                        \"image_url\": {\n",
    "                            \"url\": f\"data:image/png;base64,{image_base64}\"\n",
    "                        },\n",
    "                    },\n",
    "                ]\n",
    "            )\n",
    "        ]\n",
    "\n",
    "        # Call the vision-capable model\n",
    "        response = vision_llm.invoke(message)\n",
    "\n",
    "        # Append extracted text\n",
    "        all_text += response.content + \"\\n\\n\"\n",
    "\n",
    "        return all_text.strip()\n",
    "    except Exception as e:\n",
    "        # A butler should handle errors gracefully\n",
    "        error_msg = f\"Error extracting text: {str(e)}\"\n",
    "        print(error_msg)\n",
    "        return \"\"\n",
    "\n",
    "def divide(a: int, b: int) -> float:\n",
    "    \"\"\"Divide a and b - for Master Wayne's occasional calculations.\"\"\"\n",
    "    return a / b\n",
    "\n",
    "# Equip the butler with tools\n",
    "tools = [\n",
    "    divide,\n",
    "    extract_text\n",
    "]\n",
    "\n",
    "llm = ChatOpenAI(model=\"gpt-4o-mini\")\n",
    "llm_with_tools = llm.bind_tools(tools, parallel_tool_calls=False)"
   ]
  },
  {
   "cell_type": "markdown",
   "metadata": {},
   "source": [
    "### Define nodes \n",
    "- That interact with AI model (an LLM here)"
   ]
  },
  {
   "cell_type": "code",
   "execution_count": 5,
   "metadata": {},
   "outputs": [],
   "source": [
    "def assistant(state: AgentState):\n",
    "    # System message\n",
    "    textual_description_of_tool=\"\"\"\n",
    "extract_text(img_path: str) -> str:\n",
    "    Extract text from an image file using a multimodal model.\n",
    "\n",
    "    Args:\n",
    "        img_path: A local image file path (strings).\n",
    "\n",
    "    Returns:\n",
    "        A single string containing the concatenated text extracted from each image.\n",
    "divide(a: int, b: int) -> float:\n",
    "    Divide a and b\n",
    "\"\"\"\n",
    "    image=state[\"input_file\"]\n",
    "    sys_msg = SystemMessage(content=f\"You are a helpful butler named Alfred that serves Mr. Wayne and Batman. You can analyse documents and run computations with provided tools:\\n{textual_description_of_tool} \\n You have access to some optional images. Currently the loaded image is: {image}\")\n",
    "\n",
    "    return {\n",
    "        \"messages\": [llm_with_tools.invoke([sys_msg] + state[\"messages\"])],\n",
    "        \"input_file\": state[\"input_file\"]\n",
    "    }"
   ]
  },
  {
   "cell_type": "markdown",
   "metadata": {},
   "source": [
    "### Define routing logic "
   ]
  },
  {
   "cell_type": "code",
   "execution_count": 6,
   "metadata": {},
   "outputs": [],
   "source": [
    "# None"
   ]
  },
  {
   "cell_type": "markdown",
   "metadata": {},
   "source": [
    "### Create stategraph and add nodes/edges "
   ]
  },
  {
   "cell_type": "code",
   "execution_count": 7,
   "metadata": {},
   "outputs": [
    {
     "data": {
      "text/plain": [
       "<langgraph.graph.state.StateGraph at 0x7cc7b0d90130>"
      ]
     },
     "execution_count": 7,
     "metadata": {},
     "output_type": "execute_result"
    }
   ],
   "source": [
    "# The graph\n",
    "builder = StateGraph(AgentState)\n",
    "\n",
    "# Define nodes: these do the work\n",
    "builder.add_node(\"assistant\", assistant)\n",
    "builder.add_node(\"tools\", ToolNode(tools))\n",
    "\n",
    "# Define edges: these determine how the control flow moves\n",
    "builder.add_edge(START, \"assistant\")\n",
    "builder.add_conditional_edges(\n",
    "    \"assistant\",\n",
    "    # If the latest message requires a tool, route to tools\n",
    "    # Otherwise, provide a direct response\n",
    "    tools_condition,\n",
    ")\n",
    "builder.add_edge(\"tools\", \"assistant\")"
   ]
  },
  {
   "cell_type": "code",
   "execution_count": 8,
   "metadata": {},
   "outputs": [],
   "source": [
    "# Compile the graph\n",
    "react_graph = builder.compile()"
   ]
  },
  {
   "cell_type": "code",
   "execution_count": 9,
   "metadata": {},
   "outputs": [
    {
     "data": {
      "image/png": "[encoded data removed]",
      "text/plain": [
       "<IPython.core.display.Image object>"
      ]
     },
     "metadata": {},
     "output_type": "display_data"
    }
   ],
   "source": [
    "# View (# Show the butler's thought process)\n",
    "display(Image(react_graph.get_graph(xray=True).draw_mermaid_png()))"
   ]
  },
  {
   "cell_type": "markdown",
   "metadata": {},
   "source": [
    "### Run the application"
   ]
  },
  {
   "cell_type": "code",
   "execution_count": 10,
   "metadata": {},
   "outputs": [
    {
     "name": "stdout",
     "output_type": "stream",
     "text": [
      "================================\u001b[1m Human Message \u001b[0m=================================\n",
      "\n",
      "Divide 6790 by 5\n",
      "==================================\u001b[1m Ai Message \u001b[0m==================================\n",
      "Tool Calls:\n",
      "  divide (call_WH2YC95kYpeyAQfJrcfdVvrG)\n",
      " Call ID: call_WH2YC95kYpeyAQfJrcfdVvrG\n",
      "  Args:\n",
      "    a: 6790\n",
      "    b: 5\n",
      "=================================\u001b[1m Tool Message \u001b[0m=================================\n",
      "Name: divide\n",
      "\n",
      "1358.0\n",
      "==================================\u001b[1m Ai Message \u001b[0m==================================\n",
      "\n",
      "The result of dividing 6790 by 5 is 1358.0.\n"
     ]
    }
   ],
   "source": [
    "messages = [HumanMessage(content=\"Divide 6790 by 5\")]\n",
    "messages = react_graph.invoke({\"messages\": messages, \"input_file\": None})\n",
    "\n",
    "# Show the messages\n",
    "for m in messages['messages']:\n",
    "    m.pretty_print()"
   ]
  },
  {
   "cell_type": "code",
   "execution_count": null,
   "metadata": {},
   "outputs": [
    {
     "name": "stdout",
     "output_type": "stream",
     "text": [
      "================================\u001b[1m Human Message \u001b[0m=================================\n",
      "\n",
      "According to the note provided by Mr. Wayne in the provided images. What's the list of items I should buy for the dinner menu?\n",
      "==================================\u001b[1m Ai Message \u001b[0m==================================\n",
      "Tool Calls:\n",
      "  extract_text (call_uvhEd797HDdCiA8E3B08nIfY)\n",
      " Call ID: call_uvhEd797HDdCiA8E3B08nIfY\n",
      "  Args:\n",
      "    img_path: ./data/Batman_training_and_meals.png\n",
      "=================================\u001b[1m Tool Message \u001b[0m=================================\n",
      "Name: extract_text\n",
      "\n",
      "```plaintext\n",
      "TRAINING SCHEDULE\n",
      "For the week of 2/20-2/26\n",
      "\n",
      "SUNDAY 2/20\n",
      "MORNING\n",
      "30 minute jog\n",
      "30 minute meditation\n",
      "EVENING\n",
      "clean and jerk lifts—3 reps/8 sets. 262 lbs.\n",
      "5 sets metabolic conditioning:\n",
      "   2 mile run\n",
      "   12 kettlebell swings\n",
      "   12 pull-ups\n",
      "30 minutes flexibility\n",
      "30 minutes sparring\n",
      "MONDAY 2/21\n",
      "MORNING\n",
      "30 minute jog\n",
      "30 minutes traditional kata (focus on Japanese forms)\n",
      "EVENING\n",
      "5 sets 20 foot rope climb\n",
      "30 minutes gymnastics (work on muscle ups in particular)\n",
      "   bench jump—12 reps/8 sets\n",
      "crunches—75 reps/5 sets\n",
      "30 minutes heavy bag\n",
      "30 minutes flexibility\n",
      "30 minutes target practice\n",
      "TUESDAY 2/22\n",
      "MORNING\n",
      "30 minute jog\n",
      "30 minutes yoga\n",
      "EVENING\n",
      "5 mile run\n",
      "   heavy dead lift—5 reps/7 sets. 520 lbs.\n",
      "   close hand clean lift—30 reps.\n",
      "   30 minutes sparring\n",
      "WEDNESDAY 2/23\n",
      "OFF DAY\n",
      "MORNING\n",
      "20 mile run—last week’s time was 4:50 per mile. \n",
      "Need to better that time by a half a minute\n",
      "EVENING\n",
      "skill training only\n",
      "30 minutes observation\n",
      "30 minutes body basics\n",
      "30 minutes moderation\n",
      "30 minutes body basics\n",
      "30 minutes moderation\n",
      "30 minutes meditation\n",
      "body pressure molds and pressure points\n",
      "THURSDAY 2/24\n",
      "MORNING\n",
      "30 minute jog\n",
      "30 minute meditation\n",
      "30 minutes traditional kata\n",
      "EVENING\n",
      "squats—50 reps/10 sets. 525 lbs.\n",
      "3 mile run\n",
      "30 minutes flexibility\n",
      "crunches—50 reps/6 sets\n",
      "30 minutes target practice\n",
      "30 minutes heavy bag\n",
      "FRIDAY 2/25\n",
      "MORNING\n",
      "30 minute jog\n",
      "30 minute meditation\n",
      "EVENING\n",
      "clean and jerk lifts—3 reps/8 sets. 262 lbs.\n",
      "5 sets metabolic conditioning:\n",
      "   2 mile run\n",
      "   12 kettlebell swings\n",
      "   12 pull-ups\n",
      "30 minutes flexibility\n",
      "30 minutes sparring\n",
      "SATURDAY 2/26\n",
      "MORNING\n",
      "30 minute jog\n",
      "30 minutes yoga\n",
      "EVENING\n",
      "crunches—50 reps/5 sets\n",
      "squats—(50 rep/10 sets. 525 lbs.\n",
      "push-ups—50 reps/5 sets\n",
      "30 minutes monkey bars\n",
      "30 minute pommel horse\n",
      "30 minutes heavy bag\n",
      "2 mile swim\n",
      "\n",
      "GOTHAM CITY\n",
      "\n",
      "wayne manor\n",
      "\n",
      "Saturday's Menu\n",
      "\n",
      "Breakfast\n",
      "\n",
      "six poached eggs laid over artichoke bottoms with a sage pesto sauce\n",
      "thinly sliced baked ham\n",
      "mixed organic fresh fruit bowl\n",
      "freshly squeezed orange juice\n",
      "organic, grass-fed milk\n",
      "4 grams branched-chain amino acid\n",
      "2 grams fish oil\n",
      "\n",
      "Lunch\n",
      "\n",
      "local salmon with a ginger glaze\n",
      "organic asparagus with lemon garlic dusting\n",
      "Asian yam soup with diced onions\n",
      "2 grams fish oil\n",
      "\n",
      "Dinner\n",
      "\n",
      "grass-fed local sirloin steak\n",
      "bed of organic spinach and piquillo peppers\n",
      "oven-baked golden herb potato\n",
      "2 grams fish oil\n",
      "\n",
      "In an effort to inspire the all-important Dark Knight to take \n",
      "time out of his busy schedule and actually consume a reasonable \n",
      "amount of sustenance, I have taken \n",
      "the liberty of composing a menu \n",
      "for today's scheduled meal. It is \n",
      "my high hope that these elegantly \n",
      "prepared courses will suit them to \n",
      "take of their predecessors taking cold \n",
      "and untouched on a counter concealed\n",
      "--A\n",
      "```\n",
      "==================================\u001b[1m Ai Message \u001b[0m==================================\n",
      "\n",
      "According to the note provided by Mr. Wayne, the items you should buy for the dinner menu are as follows:\n",
      "\n",
      "**Main Course:**\n",
      "- Grass-fed local sirloin steak\n",
      "\n",
      "**Side Dishes:**\n",
      "- Organic spinach\n",
      "- Piquillo peppers\n",
      "- Oven-baked golden herb potato\n",
      "\n",
      "**Supplements:**\n",
      "- 2 grams of fish oil (considered as part of the dinner regimen)\n",
      "\n",
      "Please ensure you get high-quality ingredients for the steak and vegetables to match Mr. Wayne's standards.\n"
     ]
    }
   ],
   "source": [
    "# Download image from https://huggingface.co/datasets/agents-course/course-images/resolve/main/en/unit2/LangGraph/Batman_training_and_meals.png to ./data/\n",
    "\n",
    "messages = [HumanMessage(content=\"According to the note provided by Mr. Wayne in the provided images. What's the list of items I should buy for the dinner menu?\")]\n",
    "messages = react_graph.invoke({\"messages\": messages, \"input_file\": \"./data/Batman_training_and_meals.png\"})\n",
    "\n",
    "# Show the messages\n",
    "for m in messages['messages']:\n",
    "    m.pretty_print()"
   ]
  },
  {
   "cell_type": "markdown",
   "metadata": {},
   "source": [
    "### References:\n",
    "\n",
    "> https://huggingface.co/learn/agents-course/  \n",
    "> https://huggingface.co/learn/agents-course/unit2/langgraph/document_analysis_agent\n"
   ]
  },
  {
   "cell_type": "markdown",
   "metadata": {},
   "source": []
  }
 ],
 "metadata": {
  "kernelspec": {
   "display_name": "mlenv2a",
   "language": "python",
   "name": "python3"
  },
  "language_info": {
   "codemirror_mode": {
    "name": "ipython",
    "version": 3
   },
   "file_extension": ".py",
   "mimetype": "text/x-python",
   "name": "python",
   "nbconvert_exporter": "python",
   "pygments_lexer": "ipython3",
   "version": "3.9.19"
  }
 },
 "nbformat": 4,
 "nbformat_minor": 2
}
